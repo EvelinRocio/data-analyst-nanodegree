{
 "cells": [
  {
   "cell_type": "markdown",
   "metadata": {},
   "source": [
    "## Project: Wrangle and Analyze \"WeRateDogs\" Data"
   ]
  },
  {
   "cell_type": "markdown",
   "metadata": {},
   "source": [
    "### Table of contents"
   ]
  },
  {
   "cell_type": "markdown",
   "metadata": {},
   "source": [
    "<ul>\n",
    "<li><a href=\"#intro\">Introduction</a></li>\n",
    "<li><a href=\"#gather\">Gathering</a></li>\n",
    "<li><a href=\"#assess\">Assessing</a></li>\n",
    "<li><a href=\"#clean\">Cleaning</a></li>\n",
    "<li><a href=\"#storing\">Saving the cleaned data</a></li>\n",
    "<li><a href=\"#conclusions\">Insights and Conclusions</a></li>\n",
    "<li><a href=\"#references\">References</a></li>\n",
    "</ul>"
   ]
  },
  {
   "cell_type": "markdown",
   "metadata": {},
   "source": [
    "<a id='intro'></a>\n",
    "### Introduction\n",
    "\n",
    "The goal of this project is to apply the concepts learned in the Data Wrangling course of the Data Analyst Nanodegree. For this purpose, we will use data from the Twitter account WeRateDogs, which rates people's dogs with humorous comments about them.  \n",
    "\n",
    "The data to be gathered consists of three parts, as described below:\n",
    "\n",
    "1) The WeRateDogs Twitter archive, in a `.csv` file provided by Udacity (`twitter_archive_enhanced.csv`)\n",
    "\n",
    "2) Tweet image predictions, i.e., the results of classification as to what breed of dog (or other object, animal, etc.) is present in each tweet according to a neural network. This file (`image_predictions.tsv`) is hosted on Udacity's servers and should be downloaded programmatically using the `requests` library and the following URL: https://d17h27t6h515a5.cloudfront.net/topher/2017/August/599fd2ad_image-predictions/image-predictions.tsv\n",
    "\n",
    "3) Each tweet's retweet count and favorite (\"like\") count. This will be done by querying the Twitter API for each tweet's JSON data using Python's Tweepy library and storing this data in a file called `tweet-json.txt` file."
   ]
  },
  {
   "cell_type": "markdown",
   "metadata": {},
   "source": [
    "<a id='gather'></a>\n",
    "### Gathering\n",
    "\n",
    "In this section we'll gather the three pieces of the data mentioned in the Introduction. Each of them will be stored in a Pandas data frame and displayed visually."
   ]
  },
  {
   "cell_type": "code",
   "execution_count": 127,
   "metadata": {},
   "outputs": [],
   "source": [
    "# Import necessary libraries\n",
    "import pandas as pd\n",
    "import numpy as np \n",
    "import matplotlib.pyplot as plt\n",
    "import requests\n",
    "\n",
    "import tweepy\n",
    "from tweepy import OAuthHandler\n",
    "import json\n",
    "from timeit import default_timer as timer\n",
    "\n",
    "%matplotlib inline"
   ]
  },
  {
   "cell_type": "markdown",
   "metadata": {},
   "source": [
    "1) The \"WeRateDogs\" twitter archive was provided by Udactiy in the `.csv` file `twitter_archive_enhanced.csv`, included in the current directory. In the following we'll load its data into a Pandas data frame named `df_twitter_archive`:"
   ]
  },
  {
   "cell_type": "code",
   "execution_count": 128,
   "metadata": {},
   "outputs": [
    {
     "data": {
      "text/html": [
       "<div>\n",
       "<style scoped>\n",
       "    .dataframe tbody tr th:only-of-type {\n",
       "        vertical-align: middle;\n",
       "    }\n",
       "\n",
       "    .dataframe tbody tr th {\n",
       "        vertical-align: top;\n",
       "    }\n",
       "\n",
       "    .dataframe thead th {\n",
       "        text-align: right;\n",
       "    }\n",
       "</style>\n",
       "<table border=\"1\" class=\"dataframe\">\n",
       "  <thead>\n",
       "    <tr style=\"text-align: right;\">\n",
       "      <th></th>\n",
       "      <th>tweet_id</th>\n",
       "      <th>in_reply_to_status_id</th>\n",
       "      <th>in_reply_to_user_id</th>\n",
       "      <th>timestamp</th>\n",
       "      <th>source</th>\n",
       "      <th>text</th>\n",
       "      <th>retweeted_status_id</th>\n",
       "      <th>retweeted_status_user_id</th>\n",
       "      <th>retweeted_status_timestamp</th>\n",
       "      <th>expanded_urls</th>\n",
       "      <th>rating_numerator</th>\n",
       "      <th>rating_denominator</th>\n",
       "      <th>name</th>\n",
       "      <th>doggo</th>\n",
       "      <th>floofer</th>\n",
       "      <th>pupper</th>\n",
       "      <th>puppo</th>\n",
       "    </tr>\n",
       "  </thead>\n",
       "  <tbody>\n",
       "    <tr>\n",
       "      <th>0</th>\n",
       "      <td>892420643555336193</td>\n",
       "      <td>NaN</td>\n",
       "      <td>NaN</td>\n",
       "      <td>2017-08-01 16:23:56 +0000</td>\n",
       "      <td>&lt;a href=\"http://twitter.com/download/iphone\" r...</td>\n",
       "      <td>This is Phineas. He's a mystical boy. Only eve...</td>\n",
       "      <td>NaN</td>\n",
       "      <td>NaN</td>\n",
       "      <td>NaN</td>\n",
       "      <td>https://twitter.com/dog_rates/status/892420643...</td>\n",
       "      <td>13</td>\n",
       "      <td>10</td>\n",
       "      <td>Phineas</td>\n",
       "      <td>None</td>\n",
       "      <td>None</td>\n",
       "      <td>None</td>\n",
       "      <td>None</td>\n",
       "    </tr>\n",
       "    <tr>\n",
       "      <th>1</th>\n",
       "      <td>892177421306343426</td>\n",
       "      <td>NaN</td>\n",
       "      <td>NaN</td>\n",
       "      <td>2017-08-01 00:17:27 +0000</td>\n",
       "      <td>&lt;a href=\"http://twitter.com/download/iphone\" r...</td>\n",
       "      <td>This is Tilly. She's just checking pup on you....</td>\n",
       "      <td>NaN</td>\n",
       "      <td>NaN</td>\n",
       "      <td>NaN</td>\n",
       "      <td>https://twitter.com/dog_rates/status/892177421...</td>\n",
       "      <td>13</td>\n",
       "      <td>10</td>\n",
       "      <td>Tilly</td>\n",
       "      <td>None</td>\n",
       "      <td>None</td>\n",
       "      <td>None</td>\n",
       "      <td>None</td>\n",
       "    </tr>\n",
       "    <tr>\n",
       "      <th>2</th>\n",
       "      <td>891815181378084864</td>\n",
       "      <td>NaN</td>\n",
       "      <td>NaN</td>\n",
       "      <td>2017-07-31 00:18:03 +0000</td>\n",
       "      <td>&lt;a href=\"http://twitter.com/download/iphone\" r...</td>\n",
       "      <td>This is Archie. He is a rare Norwegian Pouncin...</td>\n",
       "      <td>NaN</td>\n",
       "      <td>NaN</td>\n",
       "      <td>NaN</td>\n",
       "      <td>https://twitter.com/dog_rates/status/891815181...</td>\n",
       "      <td>12</td>\n",
       "      <td>10</td>\n",
       "      <td>Archie</td>\n",
       "      <td>None</td>\n",
       "      <td>None</td>\n",
       "      <td>None</td>\n",
       "      <td>None</td>\n",
       "    </tr>\n",
       "    <tr>\n",
       "      <th>3</th>\n",
       "      <td>891689557279858688</td>\n",
       "      <td>NaN</td>\n",
       "      <td>NaN</td>\n",
       "      <td>2017-07-30 15:58:51 +0000</td>\n",
       "      <td>&lt;a href=\"http://twitter.com/download/iphone\" r...</td>\n",
       "      <td>This is Darla. She commenced a snooze mid meal...</td>\n",
       "      <td>NaN</td>\n",
       "      <td>NaN</td>\n",
       "      <td>NaN</td>\n",
       "      <td>https://twitter.com/dog_rates/status/891689557...</td>\n",
       "      <td>13</td>\n",
       "      <td>10</td>\n",
       "      <td>Darla</td>\n",
       "      <td>None</td>\n",
       "      <td>None</td>\n",
       "      <td>None</td>\n",
       "      <td>None</td>\n",
       "    </tr>\n",
       "    <tr>\n",
       "      <th>4</th>\n",
       "      <td>891327558926688256</td>\n",
       "      <td>NaN</td>\n",
       "      <td>NaN</td>\n",
       "      <td>2017-07-29 16:00:24 +0000</td>\n",
       "      <td>&lt;a href=\"http://twitter.com/download/iphone\" r...</td>\n",
       "      <td>This is Franklin. He would like you to stop ca...</td>\n",
       "      <td>NaN</td>\n",
       "      <td>NaN</td>\n",
       "      <td>NaN</td>\n",
       "      <td>https://twitter.com/dog_rates/status/891327558...</td>\n",
       "      <td>12</td>\n",
       "      <td>10</td>\n",
       "      <td>Franklin</td>\n",
       "      <td>None</td>\n",
       "      <td>None</td>\n",
       "      <td>None</td>\n",
       "      <td>None</td>\n",
       "    </tr>\n",
       "  </tbody>\n",
       "</table>\n",
       "</div>"
      ],
      "text/plain": [
       "             tweet_id  in_reply_to_status_id  in_reply_to_user_id  \\\n",
       "0  892420643555336193                    NaN                  NaN   \n",
       "1  892177421306343426                    NaN                  NaN   \n",
       "2  891815181378084864                    NaN                  NaN   \n",
       "3  891689557279858688                    NaN                  NaN   \n",
       "4  891327558926688256                    NaN                  NaN   \n",
       "\n",
       "                   timestamp  \\\n",
       "0  2017-08-01 16:23:56 +0000   \n",
       "1  2017-08-01 00:17:27 +0000   \n",
       "2  2017-07-31 00:18:03 +0000   \n",
       "3  2017-07-30 15:58:51 +0000   \n",
       "4  2017-07-29 16:00:24 +0000   \n",
       "\n",
       "                                              source  \\\n",
       "0  <a href=\"http://twitter.com/download/iphone\" r...   \n",
       "1  <a href=\"http://twitter.com/download/iphone\" r...   \n",
       "2  <a href=\"http://twitter.com/download/iphone\" r...   \n",
       "3  <a href=\"http://twitter.com/download/iphone\" r...   \n",
       "4  <a href=\"http://twitter.com/download/iphone\" r...   \n",
       "\n",
       "                                                text  retweeted_status_id  \\\n",
       "0  This is Phineas. He's a mystical boy. Only eve...                  NaN   \n",
       "1  This is Tilly. She's just checking pup on you....                  NaN   \n",
       "2  This is Archie. He is a rare Norwegian Pouncin...                  NaN   \n",
       "3  This is Darla. She commenced a snooze mid meal...                  NaN   \n",
       "4  This is Franklin. He would like you to stop ca...                  NaN   \n",
       "\n",
       "   retweeted_status_user_id retweeted_status_timestamp  \\\n",
       "0                       NaN                        NaN   \n",
       "1                       NaN                        NaN   \n",
       "2                       NaN                        NaN   \n",
       "3                       NaN                        NaN   \n",
       "4                       NaN                        NaN   \n",
       "\n",
       "                                       expanded_urls  rating_numerator  \\\n",
       "0  https://twitter.com/dog_rates/status/892420643...                13   \n",
       "1  https://twitter.com/dog_rates/status/892177421...                13   \n",
       "2  https://twitter.com/dog_rates/status/891815181...                12   \n",
       "3  https://twitter.com/dog_rates/status/891689557...                13   \n",
       "4  https://twitter.com/dog_rates/status/891327558...                12   \n",
       "\n",
       "   rating_denominator      name doggo floofer pupper puppo  \n",
       "0                  10   Phineas  None    None   None  None  \n",
       "1                  10     Tilly  None    None   None  None  \n",
       "2                  10    Archie  None    None   None  None  \n",
       "3                  10     Darla  None    None   None  None  \n",
       "4                  10  Franklin  None    None   None  None  "
      ]
     },
     "execution_count": 128,
     "metadata": {},
     "output_type": "execute_result"
    }
   ],
   "source": [
    "df_twitter_archive = pd.read_csv(\"twitter-archive-enhanced.csv\")\n",
    "df_twitter_archive.head()"
   ]
  },
  {
   "cell_type": "markdown",
   "metadata": {},
   "source": [
    "2) The data for tweet images predictions is hosted on Udacity's servers. In the following it'll be downloaded using the `requests` library and URL provided in the Introduction section. Then, the data will be saved into a file `image_predictions.tsv` and read into a Pandas data frame named `df_image_predictions`."
   ]
  },
  {
   "cell_type": "code",
   "execution_count": 129,
   "metadata": {},
   "outputs": [
    {
     "data": {
      "text/html": [
       "<div>\n",
       "<style scoped>\n",
       "    .dataframe tbody tr th:only-of-type {\n",
       "        vertical-align: middle;\n",
       "    }\n",
       "\n",
       "    .dataframe tbody tr th {\n",
       "        vertical-align: top;\n",
       "    }\n",
       "\n",
       "    .dataframe thead th {\n",
       "        text-align: right;\n",
       "    }\n",
       "</style>\n",
       "<table border=\"1\" class=\"dataframe\">\n",
       "  <thead>\n",
       "    <tr style=\"text-align: right;\">\n",
       "      <th></th>\n",
       "      <th>tweet_id</th>\n",
       "      <th>jpg_url</th>\n",
       "      <th>img_num</th>\n",
       "      <th>p1</th>\n",
       "      <th>p1_conf</th>\n",
       "      <th>p1_dog</th>\n",
       "      <th>p2</th>\n",
       "      <th>p2_conf</th>\n",
       "      <th>p2_dog</th>\n",
       "      <th>p3</th>\n",
       "      <th>p3_conf</th>\n",
       "      <th>p3_dog</th>\n",
       "    </tr>\n",
       "  </thead>\n",
       "  <tbody>\n",
       "    <tr>\n",
       "      <th>0</th>\n",
       "      <td>666020888022790149</td>\n",
       "      <td>https://pbs.twimg.com/media/CT4udn0WwAA0aMy.jpg</td>\n",
       "      <td>1</td>\n",
       "      <td>Welsh_springer_spaniel</td>\n",
       "      <td>0.465074</td>\n",
       "      <td>True</td>\n",
       "      <td>collie</td>\n",
       "      <td>0.156665</td>\n",
       "      <td>True</td>\n",
       "      <td>Shetland_sheepdog</td>\n",
       "      <td>0.061428</td>\n",
       "      <td>True</td>\n",
       "    </tr>\n",
       "    <tr>\n",
       "      <th>1</th>\n",
       "      <td>666029285002620928</td>\n",
       "      <td>https://pbs.twimg.com/media/CT42GRgUYAA5iDo.jpg</td>\n",
       "      <td>1</td>\n",
       "      <td>redbone</td>\n",
       "      <td>0.506826</td>\n",
       "      <td>True</td>\n",
       "      <td>miniature_pinscher</td>\n",
       "      <td>0.074192</td>\n",
       "      <td>True</td>\n",
       "      <td>Rhodesian_ridgeback</td>\n",
       "      <td>0.072010</td>\n",
       "      <td>True</td>\n",
       "    </tr>\n",
       "    <tr>\n",
       "      <th>2</th>\n",
       "      <td>666033412701032449</td>\n",
       "      <td>https://pbs.twimg.com/media/CT4521TWwAEvMyu.jpg</td>\n",
       "      <td>1</td>\n",
       "      <td>German_shepherd</td>\n",
       "      <td>0.596461</td>\n",
       "      <td>True</td>\n",
       "      <td>malinois</td>\n",
       "      <td>0.138584</td>\n",
       "      <td>True</td>\n",
       "      <td>bloodhound</td>\n",
       "      <td>0.116197</td>\n",
       "      <td>True</td>\n",
       "    </tr>\n",
       "    <tr>\n",
       "      <th>3</th>\n",
       "      <td>666044226329800704</td>\n",
       "      <td>https://pbs.twimg.com/media/CT5Dr8HUEAA-lEu.jpg</td>\n",
       "      <td>1</td>\n",
       "      <td>Rhodesian_ridgeback</td>\n",
       "      <td>0.408143</td>\n",
       "      <td>True</td>\n",
       "      <td>redbone</td>\n",
       "      <td>0.360687</td>\n",
       "      <td>True</td>\n",
       "      <td>miniature_pinscher</td>\n",
       "      <td>0.222752</td>\n",
       "      <td>True</td>\n",
       "    </tr>\n",
       "    <tr>\n",
       "      <th>4</th>\n",
       "      <td>666049248165822465</td>\n",
       "      <td>https://pbs.twimg.com/media/CT5IQmsXIAAKY4A.jpg</td>\n",
       "      <td>1</td>\n",
       "      <td>miniature_pinscher</td>\n",
       "      <td>0.560311</td>\n",
       "      <td>True</td>\n",
       "      <td>Rottweiler</td>\n",
       "      <td>0.243682</td>\n",
       "      <td>True</td>\n",
       "      <td>Doberman</td>\n",
       "      <td>0.154629</td>\n",
       "      <td>True</td>\n",
       "    </tr>\n",
       "  </tbody>\n",
       "</table>\n",
       "</div>"
      ],
      "text/plain": [
       "             tweet_id                                          jpg_url  \\\n",
       "0  666020888022790149  https://pbs.twimg.com/media/CT4udn0WwAA0aMy.jpg   \n",
       "1  666029285002620928  https://pbs.twimg.com/media/CT42GRgUYAA5iDo.jpg   \n",
       "2  666033412701032449  https://pbs.twimg.com/media/CT4521TWwAEvMyu.jpg   \n",
       "3  666044226329800704  https://pbs.twimg.com/media/CT5Dr8HUEAA-lEu.jpg   \n",
       "4  666049248165822465  https://pbs.twimg.com/media/CT5IQmsXIAAKY4A.jpg   \n",
       "\n",
       "   img_num                      p1   p1_conf  p1_dog                  p2  \\\n",
       "0        1  Welsh_springer_spaniel  0.465074    True              collie   \n",
       "1        1                 redbone  0.506826    True  miniature_pinscher   \n",
       "2        1         German_shepherd  0.596461    True            malinois   \n",
       "3        1     Rhodesian_ridgeback  0.408143    True             redbone   \n",
       "4        1      miniature_pinscher  0.560311    True          Rottweiler   \n",
       "\n",
       "    p2_conf  p2_dog                   p3   p3_conf  p3_dog  \n",
       "0  0.156665    True    Shetland_sheepdog  0.061428    True  \n",
       "1  0.074192    True  Rhodesian_ridgeback  0.072010    True  \n",
       "2  0.138584    True           bloodhound  0.116197    True  \n",
       "3  0.360687    True   miniature_pinscher  0.222752    True  \n",
       "4  0.243682    True             Doberman  0.154629    True  "
      ]
     },
     "execution_count": 129,
     "metadata": {},
     "output_type": "execute_result"
    }
   ],
   "source": [
    "# define url\n",
    "url = \"https://d17h27t6h515a5.cloudfront.net/topher/2017/August/599fd2ad_image-predictions/image-predictions.tsv\"\n",
    "\n",
    "# send request to get data and save response\n",
    "response = requests.get(url)\n",
    "\n",
    "# write response in file\n",
    "with open(\"image_predictions.tsv\", mode = \"wb\") as file:\n",
    "    file.write(response.content)\n",
    "\n",
    "# save to data frame \n",
    "df_image_predictions = pd.read_csv(\"image_predictions.tsv\", sep='\\t')\n",
    "df_image_predictions.head()"
   ]
  },
  {
   "cell_type": "markdown",
   "metadata": {},
   "source": [
    "3) In order to gather the data regarding retweet count and favorite count,  Python's library `tweepy` should be used to query Twitter's API. In this case, because of  mobile verification issues the following code was provided by Udactiy, together with the `tweet-json.txt` file containing the obtained data, also included in the current directory. "
   ]
  },
  {
   "cell_type": "code",
   "execution_count": 130,
   "metadata": {},
   "outputs": [],
   "source": [
    "# Query Twitter API for each tweet in the Twitter archive and save JSON in a text file\n",
    "# These are hidden to comply with Twitter's API terms and conditions\n",
    "\n",
    "# consumer_key = 'HIDDEN'\n",
    "# consumer_secret = 'HIDDEN'\n",
    "# access_token = 'HIDDEN'\n",
    "# access_secret = 'HIDDEN'\n",
    "\n",
    "# auth = OAuthHandler(consumer_key, consumer_secret)\n",
    "# auth.set_access_token(access_token, access_secret)\n",
    "\n",
    "# api = tweepy.API(auth, wait_on_rate_limit=True)\n",
    "\n",
    "# tweet_ids = df_twitter_archive.tweet_id.values\n",
    "# len(tweet_ids)\n",
    "\n",
    "# # Query Twitter's API for JSON data for each tweet ID in the Twitter archive\n",
    "# count = 0\n",
    "# fails_dict = {}\n",
    "# start = timer()\n",
    "\n",
    "# # Save each tweet's returned JSON as a new line in a .txt file\n",
    "# with open('tweet_json.txt', 'w') as outfile:\n",
    "#     # This loop will likely take 20-30 minutes to run because of Twitter's rate limit\n",
    "#     for tweet_id in tweet_ids:\n",
    "#         count += 1\n",
    "#         print(str(count) + \": \" + str(tweet_id))\n",
    "#         try:\n",
    "#             tweet = api.get_status(tweet_id, tweet_mode='extended')\n",
    "#             print(\"Success\")\n",
    "#             json.dump(tweet._json, outfile)\n",
    "#             outfile.write('\\n')\n",
    "#         except tweepy.TweepError as e:\n",
    "#             print(\"Fail\")\n",
    "#             fails_dict[tweet_id] = e\n",
    "#             pass\n",
    "# end = timer()\n",
    "# print(end - start)\n",
    "# print(fails_dict)"
   ]
  },
  {
   "cell_type": "code",
   "execution_count": 131,
   "metadata": {},
   "outputs": [
    {
     "data": {
      "text/html": [
       "<div>\n",
       "<style scoped>\n",
       "    .dataframe tbody tr th:only-of-type {\n",
       "        vertical-align: middle;\n",
       "    }\n",
       "\n",
       "    .dataframe tbody tr th {\n",
       "        vertical-align: top;\n",
       "    }\n",
       "\n",
       "    .dataframe thead th {\n",
       "        text-align: right;\n",
       "    }\n",
       "</style>\n",
       "<table border=\"1\" class=\"dataframe\">\n",
       "  <thead>\n",
       "    <tr style=\"text-align: right;\">\n",
       "      <th></th>\n",
       "      <th>tweet_id</th>\n",
       "      <th>retweet_count</th>\n",
       "      <th>favorite_count</th>\n",
       "    </tr>\n",
       "  </thead>\n",
       "  <tbody>\n",
       "    <tr>\n",
       "      <th>0</th>\n",
       "      <td>892420643555336193</td>\n",
       "      <td>8853</td>\n",
       "      <td>39467</td>\n",
       "    </tr>\n",
       "    <tr>\n",
       "      <th>1</th>\n",
       "      <td>892177421306343426</td>\n",
       "      <td>6514</td>\n",
       "      <td>33819</td>\n",
       "    </tr>\n",
       "    <tr>\n",
       "      <th>2</th>\n",
       "      <td>891815181378084864</td>\n",
       "      <td>4328</td>\n",
       "      <td>25461</td>\n",
       "    </tr>\n",
       "    <tr>\n",
       "      <th>3</th>\n",
       "      <td>891689557279858688</td>\n",
       "      <td>8964</td>\n",
       "      <td>42908</td>\n",
       "    </tr>\n",
       "    <tr>\n",
       "      <th>4</th>\n",
       "      <td>891327558926688256</td>\n",
       "      <td>9774</td>\n",
       "      <td>41048</td>\n",
       "    </tr>\n",
       "  </tbody>\n",
       "</table>\n",
       "</div>"
      ],
      "text/plain": [
       "             tweet_id  retweet_count  favorite_count\n",
       "0  892420643555336193           8853           39467\n",
       "1  892177421306343426           6514           33819\n",
       "2  891815181378084864           4328           25461\n",
       "3  891689557279858688           8964           42908\n",
       "4  891327558926688256           9774           41048"
      ]
     },
     "execution_count": 131,
     "metadata": {},
     "output_type": "execute_result"
    }
   ],
   "source": [
    "# Code to read json file and save its info to a pandas data frame\n",
    "json_data = []\n",
    "\n",
    "# Read json file line by line\n",
    "with open(\"tweet-json.txt\", \"r\") as file:\n",
    "    for line in file:\n",
    "        tweet = json.loads(line)        \n",
    "        json_data.append({\n",
    "            \"tweet_id\": tweet[\"id\"],\n",
    "            \"retweet_count\": tweet[\"retweet_count\"],\n",
    "            \"favorite_count\": tweet[\"favorite_count\"],            \n",
    "        })               \n",
    "                \n",
    "            \n",
    "df_twitter_api = pd.DataFrame(json_data, columns = [\"tweet_id\", \"retweet_count\", \"favorite_count\"])\n",
    "df_twitter_api.head()"
   ]
  },
  {
   "cell_type": "markdown",
   "metadata": {},
   "source": [
    "<a id='assess'></a>\n",
    "### Assessing\n",
    "\n",
    "In this section, the three data frames will be assessed both visually and programmatically in order to identify at least two tidiness issues and eight quality issues. These will be addressed for data cleaning in the next section."
   ]
  },
  {
   "cell_type": "markdown",
   "metadata": {},
   "source": [
    "First we will evaluate the `df_twitter_archive` data frame. For this we'll make use of Pandas functions, as shown below:"
   ]
  },
  {
   "cell_type": "code",
   "execution_count": 132,
   "metadata": {},
   "outputs": [
    {
     "data": {
      "text/html": [
       "<div>\n",
       "<style scoped>\n",
       "    .dataframe tbody tr th:only-of-type {\n",
       "        vertical-align: middle;\n",
       "    }\n",
       "\n",
       "    .dataframe tbody tr th {\n",
       "        vertical-align: top;\n",
       "    }\n",
       "\n",
       "    .dataframe thead th {\n",
       "        text-align: right;\n",
       "    }\n",
       "</style>\n",
       "<table border=\"1\" class=\"dataframe\">\n",
       "  <thead>\n",
       "    <tr style=\"text-align: right;\">\n",
       "      <th></th>\n",
       "      <th>tweet_id</th>\n",
       "      <th>in_reply_to_status_id</th>\n",
       "      <th>in_reply_to_user_id</th>\n",
       "      <th>timestamp</th>\n",
       "      <th>source</th>\n",
       "      <th>text</th>\n",
       "      <th>retweeted_status_id</th>\n",
       "      <th>retweeted_status_user_id</th>\n",
       "      <th>retweeted_status_timestamp</th>\n",
       "      <th>expanded_urls</th>\n",
       "      <th>rating_numerator</th>\n",
       "      <th>rating_denominator</th>\n",
       "      <th>name</th>\n",
       "      <th>doggo</th>\n",
       "      <th>floofer</th>\n",
       "      <th>pupper</th>\n",
       "      <th>puppo</th>\n",
       "    </tr>\n",
       "  </thead>\n",
       "  <tbody>\n",
       "    <tr>\n",
       "      <th>1132</th>\n",
       "      <td>728760639972315136</td>\n",
       "      <td>NaN</td>\n",
       "      <td>NaN</td>\n",
       "      <td>2016-05-07 01:37:30 +0000</td>\n",
       "      <td>&lt;a href=\"http://twitter.com/download/iphone\" r...</td>\n",
       "      <td>When you're way too slow for the \"down low\" po...</td>\n",
       "      <td>NaN</td>\n",
       "      <td>NaN</td>\n",
       "      <td>NaN</td>\n",
       "      <td>https://twitter.com/dog_rates/status/728760639...</td>\n",
       "      <td>13</td>\n",
       "      <td>10</td>\n",
       "      <td>None</td>\n",
       "      <td>None</td>\n",
       "      <td>None</td>\n",
       "      <td>None</td>\n",
       "      <td>None</td>\n",
       "    </tr>\n",
       "    <tr>\n",
       "      <th>1401</th>\n",
       "      <td>699434518667751424</td>\n",
       "      <td>NaN</td>\n",
       "      <td>NaN</td>\n",
       "      <td>2016-02-16 03:25:58 +0000</td>\n",
       "      <td>&lt;a href=\"http://twitter.com/download/iphone\" r...</td>\n",
       "      <td>I know this is a tad late but here's a wonderf...</td>\n",
       "      <td>NaN</td>\n",
       "      <td>NaN</td>\n",
       "      <td>NaN</td>\n",
       "      <td>https://twitter.com/dog_rates/status/699434518...</td>\n",
       "      <td>12</td>\n",
       "      <td>10</td>\n",
       "      <td>None</td>\n",
       "      <td>None</td>\n",
       "      <td>None</td>\n",
       "      <td>pupper</td>\n",
       "      <td>None</td>\n",
       "    </tr>\n",
       "    <tr>\n",
       "      <th>235</th>\n",
       "      <td>847606175596138505</td>\n",
       "      <td>NaN</td>\n",
       "      <td>NaN</td>\n",
       "      <td>2017-03-31 00:27:14 +0000</td>\n",
       "      <td>&lt;a href=\"http://twitter.com/download/iphone\" r...</td>\n",
       "      <td>This is Cannon. He just heard something behind...</td>\n",
       "      <td>NaN</td>\n",
       "      <td>NaN</td>\n",
       "      <td>NaN</td>\n",
       "      <td>https://twitter.com/dog_rates/status/847606175...</td>\n",
       "      <td>12</td>\n",
       "      <td>10</td>\n",
       "      <td>Cannon</td>\n",
       "      <td>None</td>\n",
       "      <td>None</td>\n",
       "      <td>None</td>\n",
       "      <td>None</td>\n",
       "    </tr>\n",
       "    <tr>\n",
       "      <th>1923</th>\n",
       "      <td>674082852460433408</td>\n",
       "      <td>NaN</td>\n",
       "      <td>NaN</td>\n",
       "      <td>2015-12-08 04:27:30 +0000</td>\n",
       "      <td>&lt;a href=\"http://twitter.com/download/iphone\" r...</td>\n",
       "      <td>This is a Sagitariot Baklava mix. Loves her ne...</td>\n",
       "      <td>NaN</td>\n",
       "      <td>NaN</td>\n",
       "      <td>NaN</td>\n",
       "      <td>https://twitter.com/dog_rates/status/674082852...</td>\n",
       "      <td>11</td>\n",
       "      <td>10</td>\n",
       "      <td>a</td>\n",
       "      <td>None</td>\n",
       "      <td>None</td>\n",
       "      <td>None</td>\n",
       "      <td>None</td>\n",
       "    </tr>\n",
       "    <tr>\n",
       "      <th>2017</th>\n",
       "      <td>672160042234327040</td>\n",
       "      <td>NaN</td>\n",
       "      <td>NaN</td>\n",
       "      <td>2015-12-02 21:06:56 +0000</td>\n",
       "      <td>&lt;a href=\"http://twitter.com/download/iphone\" r...</td>\n",
       "      <td>This is Bubba. He's a Titted Peebles Aorta. Ev...</td>\n",
       "      <td>NaN</td>\n",
       "      <td>NaN</td>\n",
       "      <td>NaN</td>\n",
       "      <td>https://twitter.com/dog_rates/status/672160042...</td>\n",
       "      <td>8</td>\n",
       "      <td>10</td>\n",
       "      <td>Bubba</td>\n",
       "      <td>None</td>\n",
       "      <td>None</td>\n",
       "      <td>pupper</td>\n",
       "      <td>None</td>\n",
       "    </tr>\n",
       "  </tbody>\n",
       "</table>\n",
       "</div>"
      ],
      "text/plain": [
       "                tweet_id  in_reply_to_status_id  in_reply_to_user_id  \\\n",
       "1132  728760639972315136                    NaN                  NaN   \n",
       "1401  699434518667751424                    NaN                  NaN   \n",
       "235   847606175596138505                    NaN                  NaN   \n",
       "1923  674082852460433408                    NaN                  NaN   \n",
       "2017  672160042234327040                    NaN                  NaN   \n",
       "\n",
       "                      timestamp  \\\n",
       "1132  2016-05-07 01:37:30 +0000   \n",
       "1401  2016-02-16 03:25:58 +0000   \n",
       "235   2017-03-31 00:27:14 +0000   \n",
       "1923  2015-12-08 04:27:30 +0000   \n",
       "2017  2015-12-02 21:06:56 +0000   \n",
       "\n",
       "                                                 source  \\\n",
       "1132  <a href=\"http://twitter.com/download/iphone\" r...   \n",
       "1401  <a href=\"http://twitter.com/download/iphone\" r...   \n",
       "235   <a href=\"http://twitter.com/download/iphone\" r...   \n",
       "1923  <a href=\"http://twitter.com/download/iphone\" r...   \n",
       "2017  <a href=\"http://twitter.com/download/iphone\" r...   \n",
       "\n",
       "                                                   text  retweeted_status_id  \\\n",
       "1132  When you're way too slow for the \"down low\" po...                  NaN   \n",
       "1401  I know this is a tad late but here's a wonderf...                  NaN   \n",
       "235   This is Cannon. He just heard something behind...                  NaN   \n",
       "1923  This is a Sagitariot Baklava mix. Loves her ne...                  NaN   \n",
       "2017  This is Bubba. He's a Titted Peebles Aorta. Ev...                  NaN   \n",
       "\n",
       "      retweeted_status_user_id retweeted_status_timestamp  \\\n",
       "1132                       NaN                        NaN   \n",
       "1401                       NaN                        NaN   \n",
       "235                        NaN                        NaN   \n",
       "1923                       NaN                        NaN   \n",
       "2017                       NaN                        NaN   \n",
       "\n",
       "                                          expanded_urls  rating_numerator  \\\n",
       "1132  https://twitter.com/dog_rates/status/728760639...                13   \n",
       "1401  https://twitter.com/dog_rates/status/699434518...                12   \n",
       "235   https://twitter.com/dog_rates/status/847606175...                12   \n",
       "1923  https://twitter.com/dog_rates/status/674082852...                11   \n",
       "2017  https://twitter.com/dog_rates/status/672160042...                 8   \n",
       "\n",
       "      rating_denominator    name doggo floofer  pupper puppo  \n",
       "1132                  10    None  None    None    None  None  \n",
       "1401                  10    None  None    None  pupper  None  \n",
       "235                   10  Cannon  None    None    None  None  \n",
       "1923                  10       a  None    None    None  None  \n",
       "2017                  10   Bubba  None    None  pupper  None  "
      ]
     },
     "execution_count": 132,
     "metadata": {},
     "output_type": "execute_result"
    }
   ],
   "source": [
    "# Take random sample of data\n",
    "df_twitter_archive.sample(5)"
   ]
  },
  {
   "cell_type": "code",
   "execution_count": 133,
   "metadata": {},
   "outputs": [
    {
     "name": "stdout",
     "output_type": "stream",
     "text": [
      "<class 'pandas.core.frame.DataFrame'>\n",
      "RangeIndex: 2356 entries, 0 to 2355\n",
      "Data columns (total 17 columns):\n",
      "tweet_id                      2356 non-null int64\n",
      "in_reply_to_status_id         78 non-null float64\n",
      "in_reply_to_user_id           78 non-null float64\n",
      "timestamp                     2356 non-null object\n",
      "source                        2356 non-null object\n",
      "text                          2356 non-null object\n",
      "retweeted_status_id           181 non-null float64\n",
      "retweeted_status_user_id      181 non-null float64\n",
      "retweeted_status_timestamp    181 non-null object\n",
      "expanded_urls                 2297 non-null object\n",
      "rating_numerator              2356 non-null int64\n",
      "rating_denominator            2356 non-null int64\n",
      "name                          2356 non-null object\n",
      "doggo                         2356 non-null object\n",
      "floofer                       2356 non-null object\n",
      "pupper                        2356 non-null object\n",
      "puppo                         2356 non-null object\n",
      "dtypes: float64(4), int64(3), object(10)\n",
      "memory usage: 313.0+ KB\n"
     ]
    }
   ],
   "source": [
    "# Get info of columns - check for missing data\n",
    "df_twitter_archive.info()"
   ]
  },
  {
   "cell_type": "code",
   "execution_count": 134,
   "metadata": {},
   "outputs": [
    {
     "data": {
      "text/plain": [
       "tweet_id                      2356\n",
       "in_reply_to_status_id           77\n",
       "in_reply_to_user_id             31\n",
       "timestamp                     2356\n",
       "source                           4\n",
       "text                          2356\n",
       "retweeted_status_id            181\n",
       "retweeted_status_user_id        25\n",
       "retweeted_status_timestamp     181\n",
       "expanded_urls                 2218\n",
       "rating_numerator                40\n",
       "rating_denominator              18\n",
       "name                           957\n",
       "doggo                            2\n",
       "floofer                          2\n",
       "pupper                           2\n",
       "puppo                            2\n",
       "dtype: int64"
      ]
     },
     "execution_count": 134,
     "metadata": {},
     "output_type": "execute_result"
    }
   ],
   "source": [
    "# Get amount of unique values in each column\n",
    "df_twitter_archive.nunique()"
   ]
  },
  {
   "cell_type": "code",
   "execution_count": 135,
   "metadata": {},
   "outputs": [
    {
     "data": {
      "text/plain": [
       "tweet_id                        int64\n",
       "in_reply_to_status_id         float64\n",
       "in_reply_to_user_id           float64\n",
       "timestamp                      object\n",
       "source                         object\n",
       "text                           object\n",
       "retweeted_status_id           float64\n",
       "retweeted_status_user_id      float64\n",
       "retweeted_status_timestamp     object\n",
       "expanded_urls                  object\n",
       "rating_numerator                int64\n",
       "rating_denominator              int64\n",
       "name                           object\n",
       "doggo                          object\n",
       "floofer                        object\n",
       "pupper                         object\n",
       "puppo                          object\n",
       "dtype: object"
      ]
     },
     "execution_count": 135,
     "metadata": {},
     "output_type": "execute_result"
    }
   ],
   "source": [
    "# Get data type of each column\n",
    "df_twitter_archive.dtypes"
   ]
  },
  {
   "cell_type": "code",
   "execution_count": 136,
   "metadata": {},
   "outputs": [
    {
     "data": {
      "text/plain": [
       "0"
      ]
     },
     "execution_count": 136,
     "metadata": {},
     "output_type": "execute_result"
    }
   ],
   "source": [
    "# Check for duplicates\n",
    "df_twitter_archive.duplicated().sum()"
   ]
  },
  {
   "cell_type": "code",
   "execution_count": 137,
   "metadata": {},
   "outputs": [
    {
     "data": {
      "text/plain": [
       "None         745\n",
       "a             55\n",
       "Charlie       12\n",
       "Lucy          11\n",
       "Cooper        11\n",
       "Oliver        11\n",
       "Tucker        10\n",
       "Penny         10\n",
       "Lola          10\n",
       "Winston        9\n",
       "Bo             9\n",
       "Sadie          8\n",
       "the            8\n",
       "Buddy          7\n",
       "Toby           7\n",
       "an             7\n",
       "Daisy          7\n",
       "Bailey         7\n",
       "Leo            6\n",
       "Dave           6\n",
       "Rusty          6\n",
       "Jack           6\n",
       "Scout          6\n",
       "Koda           6\n",
       "Jax            6\n",
       "Bella          6\n",
       "Oscar          6\n",
       "Milo           6\n",
       "Stanley        6\n",
       "Louis          5\n",
       "            ... \n",
       "Schnozz        1\n",
       "Blipson        1\n",
       "Simba          1\n",
       "Saydee         1\n",
       "Dudley         1\n",
       "Erik           1\n",
       "Stu            1\n",
       "Samsom         1\n",
       "Joshwa         1\n",
       "Dixie          1\n",
       "Rooney         1\n",
       "Enchilada      1\n",
       "Gerbald        1\n",
       "Jockson        1\n",
       "Edgar          1\n",
       "Ferg           1\n",
       "Snickers       1\n",
       "Tayzie         1\n",
       "Dylan          1\n",
       "Sora           1\n",
       "Shnuggles      1\n",
       "Loomis         1\n",
       "Pip            1\n",
       "Billy          1\n",
       "Winifred       1\n",
       "Koko           1\n",
       "Lucia          1\n",
       "Pilot          1\n",
       "Ashleigh       1\n",
       "Ace            1\n",
       "Name: name, Length: 957, dtype: int64"
      ]
     },
     "execution_count": 137,
     "metadata": {},
     "output_type": "execute_result"
    }
   ],
   "source": [
    "# Inspect names of dogs\n",
    "df_twitter_archive[\"name\"].value_counts()"
   ]
  },
  {
   "cell_type": "code",
   "execution_count": 138,
   "metadata": {},
   "outputs": [
    {
     "data": {
      "text/plain": [
       "array(['Phineas', 'Tilly', 'Archie', 'Darla', 'Franklin', 'None', 'Jax',\n",
       "       'Zoey', 'Cassie', 'Koda', 'Bruno', 'Ted', 'Stuart', 'Oliver', 'Jim',\n",
       "       'Zeke', 'Ralphus', 'Canela', 'Gerald', 'Jeffrey', 'such', 'Maya',\n",
       "       'Mingus', 'Derek', 'Roscoe', 'Waffles', 'Jimbo', 'Maisey', 'Lilly',\n",
       "       'Earl', 'Lola', 'Kevin', 'Yogi', 'Noah', 'Bella', 'Grizzwald',\n",
       "       'Rusty', 'Gus', 'Stanley', 'Alfy', 'Koko', 'Rey', 'Gary', 'a',\n",
       "       'Elliot', 'Louis', 'Jesse', 'Romeo', 'Bailey', 'Duddles', 'Jack',\n",
       "       'Emmy', 'Steven', 'Beau', 'Snoopy', 'Shadow', 'Terrance', 'Aja',\n",
       "       'Penny', 'Dante', 'Nelly', 'Ginger', 'Benedict', 'Venti', 'Goose',\n",
       "       'Nugget', 'Cash', 'Coco', 'Jed', 'Sebastian', 'Walter', 'Sierra',\n",
       "       'Monkey', 'Harry', 'Kody', 'Lassie', 'Rover', 'Napolean', 'Dawn',\n",
       "       'Boomer', 'Cody', 'Rumble', 'Clifford', 'quite', 'Dewey', 'Scout',\n",
       "       'Gizmo', 'Cooper', 'Harold', 'Shikha', 'Jamesy', 'Lili', 'Sammy',\n",
       "       'Meatball', 'Paisley', 'Albus', 'Neptune', 'Quinn', 'Belle',\n",
       "       'Zooey', 'Dave', 'Jersey', 'Hobbes', 'Burt', 'Lorenzo', 'Carl',\n",
       "       'Jordy', 'Milky', 'Trooper', 'Winston', 'Sophie', 'Wyatt', 'Rosie',\n",
       "       'Thor', 'Oscar', 'Luna', 'Callie', 'Cermet', 'George', 'Marlee',\n",
       "       'Arya', 'Einstein', 'Alice', 'Rumpole', 'Benny', 'Aspen', 'Jarod',\n",
       "       'Wiggles', 'General', 'Sailor', 'Astrid', 'Iggy', 'Snoop', 'Kyle',\n",
       "       'Leo', 'Riley', 'Gidget', 'Noosh', 'Odin', 'Jerry', 'Charlie',\n",
       "       'Georgie', 'Rontu', 'Cannon', 'Furzey', 'Daisy', 'Tuck', 'Barney',\n",
       "       'Vixen', 'Jarvis', 'Mimosa', 'Pickles', 'Bungalo', 'Brady', 'Margo',\n",
       "       'Sadie', 'Hank', 'Tycho', 'Stephan', 'Indie', 'Winnie', 'Bentley',\n",
       "       'Ken', 'Max', 'Maddie', 'Pipsy', 'Monty', 'Sojourner', 'Odie',\n",
       "       'Arlo', 'Sunny', 'Vincent', 'Lucy', 'Clark', 'Mookie', 'Meera',\n",
       "       'Buddy', 'Ava', 'Rory', 'Eli', 'Ash', 'Tucker', 'Tobi', 'Chester',\n",
       "       'Wilson', 'Sunshine', 'Lipton', 'Gabby', 'Bronte', 'Poppy', 'Rhino',\n",
       "       'Willow', 'not', 'Orion', 'Eevee', 'Smiley', 'Logan', 'Moreton',\n",
       "       'Klein', 'Miguel', 'Emanuel', 'Kuyu', 'Dutch', 'Pete', 'Scooter',\n",
       "       'Reggie', 'Kyro', 'Samson', 'Loki', 'Mia', 'Malcolm', 'Dexter',\n",
       "       'Alfie', 'Fiona', 'one', 'Mutt', 'Bear', 'Doobert', 'Beebop',\n",
       "       'Alexander', 'Sailer', 'Brutus', 'Kona', 'Boots', 'Ralphie', 'Phil',\n",
       "       'Cupid', 'Pawnd', 'Pilot', 'Ike', 'Mo', 'Toby', 'Sweet', 'Pablo',\n",
       "       'Nala', 'Balto', 'Crawford', 'Gabe', 'Mattie', 'Jimison',\n",
       "       'Hercules', 'Duchess', 'Harlso', 'Sampson', 'Sundance', 'Luca',\n",
       "       'Flash', 'Finn', 'Peaches', 'Howie', 'Jazzy', 'Anna', 'Bo',\n",
       "       'Seamus', 'Wafer', 'Chelsea', 'Tom', 'Moose', 'Florence', 'Autumn',\n",
       "       'Dido', 'Eugene', 'Herschel', 'Strudel', 'Tebow', 'Chloe', 'Betty',\n",
       "       'Timber', 'Binky', 'Dudley', 'Comet', 'Larry', 'Levi', 'Akumi',\n",
       "       'Titan', 'Olivia', 'Alf', 'Oshie', 'Bruce', 'Chubbs', 'Sky',\n",
       "       'Atlas', 'Eleanor', 'Layla', 'Rocky', 'Baron', 'Tyr', 'Bauer',\n",
       "       'Swagger', 'Brandi', 'Mary', 'Moe', 'Halo', 'Augie', 'Craig', 'Sam',\n",
       "       'Hunter', 'Pavlov', 'Maximus', 'Wallace', 'Ito', 'Milo', 'Ollie',\n",
       "       'Cali', 'Lennon', 'incredibly', 'Major', 'Duke', 'Reginald',\n",
       "       'Sansa', 'Shooter', 'Django', 'Diogi', 'Sonny', 'Philbert',\n",
       "       'Marley', 'Severus', 'Ronnie', 'Anakin', 'Bones', 'Mauve', 'Chef',\n",
       "       'Doc', 'Sobe', 'Longfellow', 'Mister', 'Iroh', 'Baloo', 'Stubert',\n",
       "       'Paull', 'Timison', 'Davey', 'Pancake', 'Tyrone', 'Snicku', 'Ruby',\n",
       "       'Brody', 'Rizzy', 'Mack', 'Butter', 'Nimbus', 'Laika', 'Dobby',\n",
       "       'Juno', 'Maude', 'Lily', 'Newt', 'Benji', 'Nida', 'Robin',\n",
       "       'Monster', 'BeBe', 'Remus', 'Mabel', 'Misty', 'Happy', 'Mosby',\n",
       "       'Maggie', 'Leela', 'Ralphy', 'Brownie', 'Meyer', 'Stella', 'mad',\n",
       "       'Frank', 'Tonks', 'Lincoln', 'Oakley', 'Dale', 'Rizzo', 'Arnie',\n",
       "       'Pinot', 'Dallas', 'Hero', 'Frankie', 'Stormy', 'Mairi', 'Loomis',\n",
       "       'Godi', 'Kenny', 'Deacon', 'Timmy', 'Harper', 'Chipson', 'Combo',\n",
       "       'Dash', 'Bell', 'Hurley', 'Jay', 'Mya', 'Strider', 'an', 'Wesley',\n",
       "       'Solomon', 'Huck', 'very', 'O', 'Blue', 'Finley', 'Sprinkles',\n",
       "       'Heinrich', 'Shakespeare', 'Fizz', 'Chip', 'Grey', 'Roosevelt',\n",
       "       'Gromit', 'Willem', 'Dakota', 'Dixie', 'Al', 'Jackson', 'just',\n",
       "       'Carbon', 'DonDon', 'Kirby', 'Lou', 'Nollie', 'Chevy', 'Tito',\n",
       "       'Louie', 'Rupert', 'Rufus', 'Brudge', 'Shadoe', 'Colby', 'Angel',\n",
       "       'Brat', 'Tove', 'my', 'Aubie', 'Kota', 'Eve', 'Glenn', 'Shelby',\n",
       "       'Sephie', 'Bonaparte', 'Albert', 'Wishes', 'Rose', 'Theo', 'Rocco',\n",
       "       'Fido', 'Emma', 'Spencer', 'Lilli', 'Boston', 'Brandonald', 'Corey',\n",
       "       'Leonard', 'Chompsky', 'Beckham', 'Devón', 'Gert', 'Watson',\n",
       "       'Rubio', 'Keith', 'Dex', 'Carly', 'Ace', 'Tayzie', 'Grizzie',\n",
       "       'Fred', 'Gilbert', 'Zoe', 'Stewie', 'Calvin', 'Lilah', 'Spanky',\n",
       "       'Jameson', 'Piper', 'Atticus', 'Blu', 'Dietrich', 'Divine', 'Tripp',\n",
       "       'his', 'Cora', 'Huxley', 'Keurig', 'Bookstore', 'Linus', 'Abby',\n",
       "       'Shaggy', 'Shiloh', 'Gustav', 'Arlen', 'Percy', 'Lenox', 'Sugar',\n",
       "       'Harvey', 'Blanket', 'actually', 'Geno', 'Stark', 'Beya', 'Kilo',\n",
       "       'Kayla', 'Maxaroni', 'Doug', 'Edmund', 'Aqua', 'Theodore', 'Chase',\n",
       "       'getting', 'Rorie', 'Simba', 'Charles', 'Bayley', 'Axel',\n",
       "       'Storkson', 'Remy', 'Chadrick', 'Kellogg', 'Buckley', 'Livvie',\n",
       "       'Terry', 'Hermione', 'Ralpher', 'Aldrick', 'this', 'unacceptable',\n",
       "       'Rooney', 'Crystal', 'Ziva', 'Stefan', 'Pupcasso', 'Puff',\n",
       "       'Flurpson', 'Coleman', 'Enchilada', 'Raymond', 'all', 'Rueben',\n",
       "       'Cilantro', 'Karll', 'Sprout', 'Blitz', 'Bloop', 'Lillie',\n",
       "       'Ashleigh', 'Kreggory', 'Sarge', 'Luther', 'Ivar', 'Jangle',\n",
       "       'Schnitzel', 'Panda', 'Berkeley', 'Ralphé', 'Charleson', 'Clyde',\n",
       "       'Harnold', 'Sid', 'Pippa', 'Otis', 'Carper', 'Bowie',\n",
       "       'Alexanderson', 'Suki', 'Barclay', 'Skittle', 'Ebby', 'Flávio',\n",
       "       'Smokey', 'Link', 'Jennifur', 'Ozzy', 'Bluebert', 'Stephanus',\n",
       "       'Bubbles', 'old', 'Zeus', 'Bertson', 'Nico', 'Michelangelope',\n",
       "       'Siba', 'Calbert', 'Curtis', 'Travis', 'Thumas', 'Kanu', 'Lance',\n",
       "       'Opie', 'Kane', 'Olive', 'Chuckles', 'Staniel', 'Sora', 'Beemo',\n",
       "       'Gunner', 'infuriating', 'Lacy', 'Tater', 'Olaf', 'Cecil', 'Vince',\n",
       "       'Karma', 'Billy', 'Walker', 'Rodney', 'Klevin', 'Malikai', 'Bobble',\n",
       "       'River', 'Jebberson', 'Remington', 'Farfle', 'Jiminus', 'Clarkus',\n",
       "       'Finnegus', 'Cupcake', 'Kathmandu', 'Ellie', 'Katie', 'Kara',\n",
       "       'Adele', 'Zara', 'Ambrose', 'Jimothy', 'Bode', 'Terrenth', 'Reese',\n",
       "       'Chesterson', 'Lucia', 'Bisquick', 'Ralphson', 'Socks', 'Rambo',\n",
       "       'Rudy', 'Fiji', 'Rilo', 'Bilbo', 'Coopson', 'Yoda', 'Millie',\n",
       "       'Chet', 'Crouton', 'Daniel', 'Kaia', 'Murphy', 'Dotsy', 'Eazy',\n",
       "       'Coops', 'Fillup', 'Miley', 'Charl', 'Reagan', 'Yukon', 'CeCe',\n",
       "       'Cuddles', 'Claude', 'Jessiga', 'Carter', 'Ole', 'Pherb', 'Blipson',\n",
       "       'Reptar', 'Trevith', 'Berb', 'Bob', 'Colin', 'Brian', 'Oliviér',\n",
       "       'Grady', 'Kobe', 'Freddery', 'Bodie', 'Dunkin', 'Wally', 'Tupawc',\n",
       "       'Amber', 'Edgar', 'Teddy', 'Kingsley', 'Brockly', 'Richie', 'Molly',\n",
       "       'Vinscent', 'Cedrick', 'Hazel', 'Lolo', 'Eriq', 'Phred', 'the',\n",
       "       'Oddie', 'Maxwell', 'Geoff', 'Covach', 'Durg', 'Fynn', 'Ricky',\n",
       "       'Herald', 'Lucky', 'Ferg', 'Trip', 'Clarence', 'Hamrick', 'Brad',\n",
       "       'Pubert', 'Frönq', 'Derby', 'Lizzie', 'Ember', 'Blakely', 'Opal',\n",
       "       'Marq', 'Kramer', 'Barry', 'Gordon', 'Baxter', 'Mona', 'Horace',\n",
       "       'Crimson', 'Birf', 'Hammond', 'Lorelei', 'Marty', 'Brooks',\n",
       "       'Petrick', 'Hubertson', 'Gerbald', 'Oreo', 'Bruiser', 'Perry',\n",
       "       'Bobby', 'Jeph', 'Obi', 'Tino', 'Kulet', 'Sweets', 'Lupe', 'Tiger',\n",
       "       'Jiminy', 'Griffin', 'Banjo', 'Brandy', 'Lulu', 'Darrel', 'Taco',\n",
       "       'Joey', 'Patrick', 'Kreg', 'Todo', 'Tess', 'Ulysses', 'Toffee',\n",
       "       'Apollo', 'Asher', 'Glacier', 'Chuck', 'Champ', 'Ozzie', 'Griswold',\n",
       "       'Cheesy', 'Moofasa', 'Hector', 'Goliath', 'Kawhi', 'by', 'Emmie',\n",
       "       'Penelope', 'Willie', 'Rinna', 'Mike', 'William', 'Dwight', 'Evy',\n",
       "       'officially', 'Rascal', 'Linda', 'Tug', 'Tango', 'Grizz', 'Jerome',\n",
       "       'Crumpet', 'Jessifer', 'Izzy', 'Ralph', 'Sandy', 'Humphrey',\n",
       "       'Tassy', 'Juckson', 'Chuq', 'Tyrus', 'Karl', 'Godzilla', 'Vinnie',\n",
       "       'Kenneth', 'Herm', 'Bert', 'Striker', 'Donny', 'Pepper', 'Bernie',\n",
       "       'Buddah', 'Lenny', 'Arnold', 'Zuzu', 'Mollie', 'Laela', 'Tedders',\n",
       "       'Superpup', 'Rufio', 'Jeb', 'Rodman', 'Jonah', 'Chesney', 'life',\n",
       "       'Henry', 'Bobbay', 'Mitch', 'Kaiya', 'Acro', 'Aiden', 'Obie', 'Dot',\n",
       "       'Shnuggles', 'Kendall', 'Jeffri', 'Steve', 'Mac', 'Fletcher',\n",
       "       'Kenzie', 'Pumpkin', 'Schnozz', 'Gustaf', 'Cheryl', 'Ed',\n",
       "       'Leonidas', 'Norman', 'Caryl', 'Scott', 'Taz', 'Darby', 'Jackie',\n",
       "       'light', 'Jazz', 'Franq', 'Pippin', 'Rolf', 'Snickers', 'Ridley',\n",
       "       'Cal', 'Bradley', 'Bubba', 'Tuco', 'Patch', 'Mojo', 'Batdog',\n",
       "       'Dylan', 'space', 'Mark', 'JD', 'Alejandro', 'Scruffers', 'Pip',\n",
       "       'Julius', 'Tanner', 'Sparky', 'Anthony', 'Holly', 'Jett', 'Amy',\n",
       "       'Sage', 'Andy', 'Mason', 'Trigger', 'Antony', 'Creg', 'Traviss',\n",
       "       'Gin', 'Jeffrie', 'Danny', 'Ester', 'Pluto', 'Bloo', 'Edd', 'Willy',\n",
       "       'Herb', 'Damon', 'Peanut', 'Nigel', 'Butters', 'Sandra', 'Fabio',\n",
       "       'Randall', 'Liam', 'Tommy', 'Ben', 'Raphael', 'Julio', 'Andru',\n",
       "       'Kloey', 'Shawwn', 'Skye', 'Kollin', 'Ronduh', 'Billl', 'Saydee',\n",
       "       'Dug', 'Tessa', 'Sully', 'Kirk', 'Ralf', 'Clarq', 'Jaspers',\n",
       "       'Samsom', 'Harrison', 'Chaz', 'Jeremy', 'Jaycob', 'Lambeau',\n",
       "       'Ruffles', 'Amélie', 'Bobb', 'Banditt', 'Kevon', 'Winifred', 'Hanz',\n",
       "       'Churlie', 'Zeek', 'Timofy', 'Maks', 'Jomathan', 'Kallie', 'Marvin',\n",
       "       'Spark', 'Gòrdón', 'Jo', 'DayZ', 'Jareld', 'Torque', 'Ron',\n",
       "       'Skittles', 'Cleopatricia', 'Erik', 'Stu', 'Tedrick', 'Filup',\n",
       "       'Kial', 'Naphaniel', 'Dook', 'Hall', 'Philippe', 'Biden', 'Fwed',\n",
       "       'Genevieve', 'Joshwa', 'Bradlay', 'Clybe', 'Keet', 'Carll',\n",
       "       'Jockson', 'Josep', 'Lugan', 'Christoper'], dtype=object)"
      ]
     },
     "execution_count": 138,
     "metadata": {},
     "output_type": "execute_result"
    }
   ],
   "source": [
    "df_twitter_archive[\"name\"].unique()"
   ]
  },
  {
   "cell_type": "code",
   "execution_count": 139,
   "metadata": {},
   "outputs": [
    {
     "data": {
      "text/plain": [
       "12      558\n",
       "11      464\n",
       "10      461\n",
       "13      351\n",
       "9       158\n",
       "8       102\n",
       "7        55\n",
       "14       54\n",
       "5        37\n",
       "6        32\n",
       "3        19\n",
       "4        17\n",
       "1         9\n",
       "2         9\n",
       "420       2\n",
       "0         2\n",
       "15        2\n",
       "75        2\n",
       "80        1\n",
       "20        1\n",
       "24        1\n",
       "26        1\n",
       "44        1\n",
       "50        1\n",
       "60        1\n",
       "165       1\n",
       "84        1\n",
       "88        1\n",
       "144       1\n",
       "182       1\n",
       "143       1\n",
       "666       1\n",
       "960       1\n",
       "1776      1\n",
       "17        1\n",
       "27        1\n",
       "45        1\n",
       "99        1\n",
       "121       1\n",
       "204       1\n",
       "Name: rating_numerator, dtype: int64"
      ]
     },
     "execution_count": 139,
     "metadata": {},
     "output_type": "execute_result"
    }
   ],
   "source": [
    "# Inspect values of numerators\n",
    "df_twitter_archive[\"rating_numerator\"].value_counts()"
   ]
  },
  {
   "cell_type": "code",
   "execution_count": 140,
   "metadata": {},
   "outputs": [
    {
     "data": {
      "text/plain": [
       "10     2333\n",
       "11        3\n",
       "50        3\n",
       "80        2\n",
       "20        2\n",
       "2         1\n",
       "16        1\n",
       "40        1\n",
       "70        1\n",
       "15        1\n",
       "90        1\n",
       "110       1\n",
       "120       1\n",
       "130       1\n",
       "150       1\n",
       "170       1\n",
       "7         1\n",
       "0         1\n",
       "Name: rating_denominator, dtype: int64"
      ]
     },
     "execution_count": 140,
     "metadata": {},
     "output_type": "execute_result"
    }
   ],
   "source": [
    "# Inspect values of denominators\n",
    "df_twitter_archive[\"rating_denominator\"].value_counts()"
   ]
  },
  {
   "cell_type": "code",
   "execution_count": 141,
   "metadata": {},
   "outputs": [
    {
     "data": {
      "text/plain": [
       "<a href=\"http://twitter.com/download/iphone\" rel=\"nofollow\">Twitter for iPhone</a>     2221\n",
       "<a href=\"http://vine.co\" rel=\"nofollow\">Vine - Make a Scene</a>                          91\n",
       "<a href=\"http://twitter.com\" rel=\"nofollow\">Twitter Web Client</a>                       33\n",
       "<a href=\"https://about.twitter.com/products/tweetdeck\" rel=\"nofollow\">TweetDeck</a>      11\n",
       "Name: source, dtype: int64"
      ]
     },
     "execution_count": 141,
     "metadata": {},
     "output_type": "execute_result"
    }
   ],
   "source": [
    "# Inspect values of source URLs\n",
    "df_twitter_archive[\"source\"].value_counts()"
   ]
  },
  {
   "cell_type": "markdown",
   "metadata": {},
   "source": [
    "We'll continue with the assessment of the `df_image_predictions` data frame:"
   ]
  },
  {
   "cell_type": "code",
   "execution_count": 142,
   "metadata": {},
   "outputs": [
    {
     "data": {
      "text/html": [
       "<div>\n",
       "<style scoped>\n",
       "    .dataframe tbody tr th:only-of-type {\n",
       "        vertical-align: middle;\n",
       "    }\n",
       "\n",
       "    .dataframe tbody tr th {\n",
       "        vertical-align: top;\n",
       "    }\n",
       "\n",
       "    .dataframe thead th {\n",
       "        text-align: right;\n",
       "    }\n",
       "</style>\n",
       "<table border=\"1\" class=\"dataframe\">\n",
       "  <thead>\n",
       "    <tr style=\"text-align: right;\">\n",
       "      <th></th>\n",
       "      <th>tweet_id</th>\n",
       "      <th>jpg_url</th>\n",
       "      <th>img_num</th>\n",
       "      <th>p1</th>\n",
       "      <th>p1_conf</th>\n",
       "      <th>p1_dog</th>\n",
       "      <th>p2</th>\n",
       "      <th>p2_conf</th>\n",
       "      <th>p2_dog</th>\n",
       "      <th>p3</th>\n",
       "      <th>p3_conf</th>\n",
       "      <th>p3_dog</th>\n",
       "    </tr>\n",
       "  </thead>\n",
       "  <tbody>\n",
       "    <tr>\n",
       "      <th>1427</th>\n",
       "      <td>772615324260794368</td>\n",
       "      <td>https://pbs.twimg.com/media/Cp6db4-XYAAMmqL.jpg</td>\n",
       "      <td>1</td>\n",
       "      <td>dalmatian</td>\n",
       "      <td>0.556595</td>\n",
       "      <td>True</td>\n",
       "      <td>whippet</td>\n",
       "      <td>0.151047</td>\n",
       "      <td>True</td>\n",
       "      <td>American_Staffordshire_terrier</td>\n",
       "      <td>0.096435</td>\n",
       "      <td>True</td>\n",
       "    </tr>\n",
       "    <tr>\n",
       "      <th>421</th>\n",
       "      <td>674045139690631169</td>\n",
       "      <td>https://pbs.twimg.com/media/CVqwedgXIAEAT6A.jpg</td>\n",
       "      <td>1</td>\n",
       "      <td>robin</td>\n",
       "      <td>0.369661</td>\n",
       "      <td>False</td>\n",
       "      <td>rhinoceros_beetle</td>\n",
       "      <td>0.110607</td>\n",
       "      <td>False</td>\n",
       "      <td>European_fire_salamander</td>\n",
       "      <td>0.043178</td>\n",
       "      <td>False</td>\n",
       "    </tr>\n",
       "    <tr>\n",
       "      <th>1486</th>\n",
       "      <td>781955203444699136</td>\n",
       "      <td>https://pbs.twimg.com/media/CtoQGu4XgAQgv5m.jpg</td>\n",
       "      <td>1</td>\n",
       "      <td>pool_table</td>\n",
       "      <td>0.179568</td>\n",
       "      <td>False</td>\n",
       "      <td>dining_table</td>\n",
       "      <td>0.154396</td>\n",
       "      <td>False</td>\n",
       "      <td>microwave</td>\n",
       "      <td>0.033690</td>\n",
       "      <td>False</td>\n",
       "    </tr>\n",
       "    <tr>\n",
       "      <th>848</th>\n",
       "      <td>695446424020918272</td>\n",
       "      <td>https://pbs.twimg.com/media/Caa407jWwAAJPH3.jpg</td>\n",
       "      <td>1</td>\n",
       "      <td>basenji</td>\n",
       "      <td>0.748904</td>\n",
       "      <td>True</td>\n",
       "      <td>Cardigan</td>\n",
       "      <td>0.121102</td>\n",
       "      <td>True</td>\n",
       "      <td>Pembroke</td>\n",
       "      <td>0.111767</td>\n",
       "      <td>True</td>\n",
       "    </tr>\n",
       "    <tr>\n",
       "      <th>1460</th>\n",
       "      <td>778039087836069888</td>\n",
       "      <td>https://pbs.twimg.com/media/CswmaHmWAAAbdY9.jpg</td>\n",
       "      <td>2</td>\n",
       "      <td>German_shepherd</td>\n",
       "      <td>0.717776</td>\n",
       "      <td>True</td>\n",
       "      <td>malinois</td>\n",
       "      <td>0.111175</td>\n",
       "      <td>True</td>\n",
       "      <td>Norwegian_elkhound</td>\n",
       "      <td>0.058802</td>\n",
       "      <td>True</td>\n",
       "    </tr>\n",
       "    <tr>\n",
       "      <th>792</th>\n",
       "      <td>690728923253055490</td>\n",
       "      <td>https://pbs.twimg.com/media/CZX2SxaXEAEcnR6.jpg</td>\n",
       "      <td>1</td>\n",
       "      <td>kuvasz</td>\n",
       "      <td>0.422806</td>\n",
       "      <td>True</td>\n",
       "      <td>golden_retriever</td>\n",
       "      <td>0.291586</td>\n",
       "      <td>True</td>\n",
       "      <td>Great_Pyrenees</td>\n",
       "      <td>0.076189</td>\n",
       "      <td>True</td>\n",
       "    </tr>\n",
       "    <tr>\n",
       "      <th>1246</th>\n",
       "      <td>747594051852075008</td>\n",
       "      <td>https://pbs.twimg.com/media/Cl_80k5WkAEbo9m.jpg</td>\n",
       "      <td>1</td>\n",
       "      <td>basenji</td>\n",
       "      <td>0.389136</td>\n",
       "      <td>True</td>\n",
       "      <td>dingo</td>\n",
       "      <td>0.270226</td>\n",
       "      <td>False</td>\n",
       "      <td>Chihuahua</td>\n",
       "      <td>0.098939</td>\n",
       "      <td>True</td>\n",
       "    </tr>\n",
       "    <tr>\n",
       "      <th>963</th>\n",
       "      <td>705975130514706432</td>\n",
       "      <td>https://pbs.twimg.com/media/CcwgjmuXIAEQoSd.jpg</td>\n",
       "      <td>1</td>\n",
       "      <td>Staffordshire_bullterrier</td>\n",
       "      <td>0.587764</td>\n",
       "      <td>True</td>\n",
       "      <td>American_Staffordshire_terrier</td>\n",
       "      <td>0.281429</td>\n",
       "      <td>True</td>\n",
       "      <td>bull_mastiff</td>\n",
       "      <td>0.094798</td>\n",
       "      <td>True</td>\n",
       "    </tr>\n",
       "    <tr>\n",
       "      <th>578</th>\n",
       "      <td>678755239630127104</td>\n",
       "      <td>https://pbs.twimg.com/media/CWtsSQAUkAAnWws.jpg</td>\n",
       "      <td>1</td>\n",
       "      <td>malamute</td>\n",
       "      <td>0.606654</td>\n",
       "      <td>True</td>\n",
       "      <td>Border_collie</td>\n",
       "      <td>0.193831</td>\n",
       "      <td>True</td>\n",
       "      <td>collie</td>\n",
       "      <td>0.048378</td>\n",
       "      <td>True</td>\n",
       "    </tr>\n",
       "    <tr>\n",
       "      <th>1289</th>\n",
       "      <td>751251247299190784</td>\n",
       "      <td>https://pbs.twimg.com/ext_tw_video_thumb/75125...</td>\n",
       "      <td>1</td>\n",
       "      <td>Walker_hound</td>\n",
       "      <td>0.178852</td>\n",
       "      <td>True</td>\n",
       "      <td>German_short-haired_pointer</td>\n",
       "      <td>0.115752</td>\n",
       "      <td>True</td>\n",
       "      <td>English_foxhound</td>\n",
       "      <td>0.113796</td>\n",
       "      <td>True</td>\n",
       "    </tr>\n",
       "    <tr>\n",
       "      <th>1152</th>\n",
       "      <td>732585889486888962</td>\n",
       "      <td>https://pbs.twimg.com/media/Ciqq-VFUUAANlWm.jpg</td>\n",
       "      <td>2</td>\n",
       "      <td>Staffordshire_bullterrier</td>\n",
       "      <td>0.843359</td>\n",
       "      <td>True</td>\n",
       "      <td>American_Staffordshire_terrier</td>\n",
       "      <td>0.028290</td>\n",
       "      <td>True</td>\n",
       "      <td>miniature_pinscher</td>\n",
       "      <td>0.016793</td>\n",
       "      <td>True</td>\n",
       "    </tr>\n",
       "    <tr>\n",
       "      <th>1085</th>\n",
       "      <td>718613305783398402</td>\n",
       "      <td>https://pbs.twimg.com/media/CfkG_PMWsAAH0MZ.jpg</td>\n",
       "      <td>1</td>\n",
       "      <td>Labrador_retriever</td>\n",
       "      <td>0.584580</td>\n",
       "      <td>True</td>\n",
       "      <td>German_short-haired_pointer</td>\n",
       "      <td>0.340657</td>\n",
       "      <td>True</td>\n",
       "      <td>Chesapeake_Bay_retriever</td>\n",
       "      <td>0.031975</td>\n",
       "      <td>True</td>\n",
       "    </tr>\n",
       "    <tr>\n",
       "      <th>26</th>\n",
       "      <td>666373753744588802</td>\n",
       "      <td>https://pbs.twimg.com/media/CT9vZEYWUAAlZ05.jpg</td>\n",
       "      <td>1</td>\n",
       "      <td>soft-coated_wheaten_terrier</td>\n",
       "      <td>0.326467</td>\n",
       "      <td>True</td>\n",
       "      <td>Afghan_hound</td>\n",
       "      <td>0.259551</td>\n",
       "      <td>True</td>\n",
       "      <td>briard</td>\n",
       "      <td>0.206803</td>\n",
       "      <td>True</td>\n",
       "    </tr>\n",
       "    <tr>\n",
       "      <th>747</th>\n",
       "      <td>687704180304273409</td>\n",
       "      <td>https://pbs.twimg.com/media/CYs3TKzUAAAF9A2.jpg</td>\n",
       "      <td>1</td>\n",
       "      <td>miniature_pinscher</td>\n",
       "      <td>0.956063</td>\n",
       "      <td>True</td>\n",
       "      <td>toy_terrier</td>\n",
       "      <td>0.012231</td>\n",
       "      <td>True</td>\n",
       "      <td>Chihuahua</td>\n",
       "      <td>0.005397</td>\n",
       "      <td>True</td>\n",
       "    </tr>\n",
       "    <tr>\n",
       "      <th>1696</th>\n",
       "      <td>816450570814898180</td>\n",
       "      <td>https://pbs.twimg.com/media/C1SddosXUAQcVR1.jpg</td>\n",
       "      <td>1</td>\n",
       "      <td>web_site</td>\n",
       "      <td>0.352857</td>\n",
       "      <td>False</td>\n",
       "      <td>envelope</td>\n",
       "      <td>0.060107</td>\n",
       "      <td>False</td>\n",
       "      <td>nail</td>\n",
       "      <td>0.031291</td>\n",
       "      <td>False</td>\n",
       "    </tr>\n",
       "  </tbody>\n",
       "</table>\n",
       "</div>"
      ],
      "text/plain": [
       "                tweet_id                                            jpg_url  \\\n",
       "1427  772615324260794368    https://pbs.twimg.com/media/Cp6db4-XYAAMmqL.jpg   \n",
       "421   674045139690631169    https://pbs.twimg.com/media/CVqwedgXIAEAT6A.jpg   \n",
       "1486  781955203444699136    https://pbs.twimg.com/media/CtoQGu4XgAQgv5m.jpg   \n",
       "848   695446424020918272    https://pbs.twimg.com/media/Caa407jWwAAJPH3.jpg   \n",
       "1460  778039087836069888    https://pbs.twimg.com/media/CswmaHmWAAAbdY9.jpg   \n",
       "792   690728923253055490    https://pbs.twimg.com/media/CZX2SxaXEAEcnR6.jpg   \n",
       "1246  747594051852075008    https://pbs.twimg.com/media/Cl_80k5WkAEbo9m.jpg   \n",
       "963   705975130514706432    https://pbs.twimg.com/media/CcwgjmuXIAEQoSd.jpg   \n",
       "578   678755239630127104    https://pbs.twimg.com/media/CWtsSQAUkAAnWws.jpg   \n",
       "1289  751251247299190784  https://pbs.twimg.com/ext_tw_video_thumb/75125...   \n",
       "1152  732585889486888962    https://pbs.twimg.com/media/Ciqq-VFUUAANlWm.jpg   \n",
       "1085  718613305783398402    https://pbs.twimg.com/media/CfkG_PMWsAAH0MZ.jpg   \n",
       "26    666373753744588802    https://pbs.twimg.com/media/CT9vZEYWUAAlZ05.jpg   \n",
       "747   687704180304273409    https://pbs.twimg.com/media/CYs3TKzUAAAF9A2.jpg   \n",
       "1696  816450570814898180    https://pbs.twimg.com/media/C1SddosXUAQcVR1.jpg   \n",
       "\n",
       "      img_num                           p1   p1_conf  p1_dog  \\\n",
       "1427        1                    dalmatian  0.556595    True   \n",
       "421         1                        robin  0.369661   False   \n",
       "1486        1                   pool_table  0.179568   False   \n",
       "848         1                      basenji  0.748904    True   \n",
       "1460        2              German_shepherd  0.717776    True   \n",
       "792         1                       kuvasz  0.422806    True   \n",
       "1246        1                      basenji  0.389136    True   \n",
       "963         1    Staffordshire_bullterrier  0.587764    True   \n",
       "578         1                     malamute  0.606654    True   \n",
       "1289        1                 Walker_hound  0.178852    True   \n",
       "1152        2    Staffordshire_bullterrier  0.843359    True   \n",
       "1085        1           Labrador_retriever  0.584580    True   \n",
       "26          1  soft-coated_wheaten_terrier  0.326467    True   \n",
       "747         1           miniature_pinscher  0.956063    True   \n",
       "1696        1                     web_site  0.352857   False   \n",
       "\n",
       "                                  p2   p2_conf  p2_dog  \\\n",
       "1427                         whippet  0.151047    True   \n",
       "421                rhinoceros_beetle  0.110607   False   \n",
       "1486                    dining_table  0.154396   False   \n",
       "848                         Cardigan  0.121102    True   \n",
       "1460                        malinois  0.111175    True   \n",
       "792                 golden_retriever  0.291586    True   \n",
       "1246                           dingo  0.270226   False   \n",
       "963   American_Staffordshire_terrier  0.281429    True   \n",
       "578                    Border_collie  0.193831    True   \n",
       "1289     German_short-haired_pointer  0.115752    True   \n",
       "1152  American_Staffordshire_terrier  0.028290    True   \n",
       "1085     German_short-haired_pointer  0.340657    True   \n",
       "26                      Afghan_hound  0.259551    True   \n",
       "747                      toy_terrier  0.012231    True   \n",
       "1696                        envelope  0.060107   False   \n",
       "\n",
       "                                  p3   p3_conf  p3_dog  \n",
       "1427  American_Staffordshire_terrier  0.096435    True  \n",
       "421         European_fire_salamander  0.043178   False  \n",
       "1486                       microwave  0.033690   False  \n",
       "848                         Pembroke  0.111767    True  \n",
       "1460              Norwegian_elkhound  0.058802    True  \n",
       "792                   Great_Pyrenees  0.076189    True  \n",
       "1246                       Chihuahua  0.098939    True  \n",
       "963                     bull_mastiff  0.094798    True  \n",
       "578                           collie  0.048378    True  \n",
       "1289                English_foxhound  0.113796    True  \n",
       "1152              miniature_pinscher  0.016793    True  \n",
       "1085        Chesapeake_Bay_retriever  0.031975    True  \n",
       "26                            briard  0.206803    True  \n",
       "747                        Chihuahua  0.005397    True  \n",
       "1696                            nail  0.031291   False  "
      ]
     },
     "execution_count": 142,
     "metadata": {},
     "output_type": "execute_result"
    }
   ],
   "source": [
    "# Take a random sample\n",
    "df_image_predictions.sample(15)"
   ]
  },
  {
   "cell_type": "code",
   "execution_count": 143,
   "metadata": {},
   "outputs": [
    {
     "name": "stdout",
     "output_type": "stream",
     "text": [
      "<class 'pandas.core.frame.DataFrame'>\n",
      "RangeIndex: 2075 entries, 0 to 2074\n",
      "Data columns (total 12 columns):\n",
      "tweet_id    2075 non-null int64\n",
      "jpg_url     2075 non-null object\n",
      "img_num     2075 non-null int64\n",
      "p1          2075 non-null object\n",
      "p1_conf     2075 non-null float64\n",
      "p1_dog      2075 non-null bool\n",
      "p2          2075 non-null object\n",
      "p2_conf     2075 non-null float64\n",
      "p2_dog      2075 non-null bool\n",
      "p3          2075 non-null object\n",
      "p3_conf     2075 non-null float64\n",
      "p3_dog      2075 non-null bool\n",
      "dtypes: bool(3), float64(3), int64(2), object(4)\n",
      "memory usage: 152.1+ KB\n"
     ]
    }
   ],
   "source": [
    "# Get column information - check for missing data\n",
    "df_image_predictions.info()"
   ]
  },
  {
   "cell_type": "code",
   "execution_count": 144,
   "metadata": {},
   "outputs": [
    {
     "data": {
      "text/plain": [
       "0"
      ]
     },
     "execution_count": 144,
     "metadata": {},
     "output_type": "execute_result"
    }
   ],
   "source": [
    "# Check for duplicates\n",
    "df_image_predictions.duplicated().sum()"
   ]
  },
  {
   "cell_type": "markdown",
   "metadata": {},
   "source": [
    "Finally, we'll investigate the `df_twitter_api` data frame:"
   ]
  },
  {
   "cell_type": "code",
   "execution_count": 145,
   "metadata": {},
   "outputs": [
    {
     "data": {
      "text/html": [
       "<div>\n",
       "<style scoped>\n",
       "    .dataframe tbody tr th:only-of-type {\n",
       "        vertical-align: middle;\n",
       "    }\n",
       "\n",
       "    .dataframe tbody tr th {\n",
       "        vertical-align: top;\n",
       "    }\n",
       "\n",
       "    .dataframe thead th {\n",
       "        text-align: right;\n",
       "    }\n",
       "</style>\n",
       "<table border=\"1\" class=\"dataframe\">\n",
       "  <thead>\n",
       "    <tr style=\"text-align: right;\">\n",
       "      <th></th>\n",
       "      <th>tweet_id</th>\n",
       "      <th>retweet_count</th>\n",
       "      <th>favorite_count</th>\n",
       "    </tr>\n",
       "  </thead>\n",
       "  <tbody>\n",
       "    <tr>\n",
       "      <th>378</th>\n",
       "      <td>827653905312006145</td>\n",
       "      <td>3433</td>\n",
       "      <td>16983</td>\n",
       "    </tr>\n",
       "    <tr>\n",
       "      <th>1393</th>\n",
       "      <td>699801817392291840</td>\n",
       "      <td>1088</td>\n",
       "      <td>3345</td>\n",
       "    </tr>\n",
       "    <tr>\n",
       "      <th>1955</th>\n",
       "      <td>673583129559498752</td>\n",
       "      <td>403</td>\n",
       "      <td>1273</td>\n",
       "    </tr>\n",
       "    <tr>\n",
       "      <th>2215</th>\n",
       "      <td>668528771708952576</td>\n",
       "      <td>242</td>\n",
       "      <td>496</td>\n",
       "    </tr>\n",
       "    <tr>\n",
       "      <th>1712</th>\n",
       "      <td>680440374763077632</td>\n",
       "      <td>564</td>\n",
       "      <td>1583</td>\n",
       "    </tr>\n",
       "  </tbody>\n",
       "</table>\n",
       "</div>"
      ],
      "text/plain": [
       "                tweet_id  retweet_count  favorite_count\n",
       "378   827653905312006145           3433           16983\n",
       "1393  699801817392291840           1088            3345\n",
       "1955  673583129559498752            403            1273\n",
       "2215  668528771708952576            242             496\n",
       "1712  680440374763077632            564            1583"
      ]
     },
     "execution_count": 145,
     "metadata": {},
     "output_type": "execute_result"
    }
   ],
   "source": [
    "# Take a random sample\n",
    "df_twitter_api.sample(5)"
   ]
  },
  {
   "cell_type": "code",
   "execution_count": 146,
   "metadata": {},
   "outputs": [
    {
     "name": "stdout",
     "output_type": "stream",
     "text": [
      "<class 'pandas.core.frame.DataFrame'>\n",
      "RangeIndex: 2354 entries, 0 to 2353\n",
      "Data columns (total 3 columns):\n",
      "tweet_id          2354 non-null int64\n",
      "retweet_count     2354 non-null int64\n",
      "favorite_count    2354 non-null int64\n",
      "dtypes: int64(3)\n",
      "memory usage: 55.2 KB\n"
     ]
    }
   ],
   "source": [
    "# Get info about the columns - check for missing data\n",
    "df_twitter_api.info()"
   ]
  },
  {
   "cell_type": "code",
   "execution_count": 147,
   "metadata": {},
   "outputs": [
    {
     "data": {
      "text/plain": [
       "0"
      ]
     },
     "execution_count": 147,
     "metadata": {},
     "output_type": "execute_result"
    }
   ],
   "source": [
    "# Check for duplicates\n",
    "df_twitter_api.duplicated().sum()"
   ]
  },
  {
   "cell_type": "markdown",
   "metadata": {},
   "source": [
    "The following issues could be detected from the assessment: \n",
    "\n",
    "#### Tidiness issues:\n",
    "\n",
    "`df_twitter_archive`\n",
    "* Unnecessary columns related to retweets and replies should be removed (`in_reply_to_status_id`, `in_reply_to_user_id`,`retweeted_status_id`, `retweeted_status_user_id`, `retweeted_status_timestamp`)\n",
    "* Dog stage columns should be combined into a single column (`doggo`, `floofer`, `pupper`, `puppo`) \n",
    "* The three data frames should be merged on `tweet_id`\n",
    "\n",
    "#### Quality issues:\n",
    "`df_twitter_archive`\n",
    "* Entries corresponding to retweets or replies should be removed\n",
    "* Data type of the `timestamp` column should be datetime, not string\n",
    "* Some dog names are not correct (eg. \"a\", \"quite\", \"such\", \"very\"), all of them appear in lowercase\n",
    "* Some dogs have more than one stage\n",
    "* Some dogs stages are `NaN`\n",
    "* A few rating denominator values are different from 10\n",
    "* A few rating numerator values are out of the range 1-10\n",
    "* The `expanded_urls` column has missing values\n",
    "\n",
    "`df_image_predictions` \n",
    "* Some prediction names appear in uppercase, while others in lowercase\n",
    "* In some prediction names there's an underscore instead of a whitespace to separate compound names\n",
    "\n",
    "\n",
    "* Some tweets don't have associated images"
   ]
  },
  {
   "cell_type": "markdown",
   "metadata": {},
   "source": [
    "<a id='clean'></a>\n",
    "### Cleaning"
   ]
  },
  {
   "cell_type": "markdown",
   "metadata": {},
   "source": [
    "Before addressing each issue, we'll make a copy of the three data frames where we'll store our changes:"
   ]
  },
  {
   "cell_type": "code",
   "execution_count": 148,
   "metadata": {},
   "outputs": [],
   "source": [
    "# Make copy of each data frame\n",
    "df_twitter_archive_clean = df_twitter_archive.copy()\n",
    "df_image_predictions_clean = df_image_predictions.copy()\n",
    "df_twitter_api_clean = df_twitter_api.copy()"
   ]
  },
  {
   "cell_type": "markdown",
   "metadata": {},
   "source": [
    "In the following we'll address each issue mentioned in the previous section."
   ]
  },
  {
   "cell_type": "markdown",
   "metadata": {},
   "source": [
    "#### Define\n",
    "* Remove entries corresponding to retweets or replies "
   ]
  },
  {
   "cell_type": "markdown",
   "metadata": {},
   "source": [
    "#### Code"
   ]
  },
  {
   "cell_type": "code",
   "execution_count": 149,
   "metadata": {},
   "outputs": [],
   "source": [
    "# Delete retweets rows\n",
    "df_twitter_archive_clean = df_twitter_archive_clean[pd.isnull(df_twitter_archive_clean['retweeted_status_id'])]"
   ]
  },
  {
   "cell_type": "code",
   "execution_count": 150,
   "metadata": {},
   "outputs": [],
   "source": [
    "# Delete replies rows\n",
    "df_twitter_archive_clean = df_twitter_archive_clean[pd.isnull(df_twitter_archive_clean['in_reply_to_status_id'])]"
   ]
  },
  {
   "cell_type": "markdown",
   "metadata": {},
   "source": [
    "#### Test"
   ]
  },
  {
   "cell_type": "code",
   "execution_count": 151,
   "metadata": {},
   "outputs": [
    {
     "data": {
      "text/plain": [
       "0"
      ]
     },
     "execution_count": 151,
     "metadata": {},
     "output_type": "execute_result"
    }
   ],
   "source": [
    "# Check for retweets\n",
    "sum(df_twitter_archive_clean[\"retweeted_status_id\"].value_counts())"
   ]
  },
  {
   "cell_type": "code",
   "execution_count": 152,
   "metadata": {},
   "outputs": [
    {
     "data": {
      "text/plain": [
       "0"
      ]
     },
     "execution_count": 152,
     "metadata": {},
     "output_type": "execute_result"
    }
   ],
   "source": [
    "# Check for replies\n",
    "sum(df_twitter_archive_clean[\"in_reply_to_status_id\"].value_counts())"
   ]
  },
  {
   "cell_type": "markdown",
   "metadata": {},
   "source": [
    "#### Define\n",
    "* Delete unnecessary columns related to retweets and replies: `in_reply_to_status_id`, `in_reply_to_user_id`,`retweeted_status_id`, `retweeted_status_user_id`, `retweeted_status_timestamp`"
   ]
  },
  {
   "cell_type": "markdown",
   "metadata": {},
   "source": [
    "#### Code"
   ]
  },
  {
   "cell_type": "code",
   "execution_count": 153,
   "metadata": {},
   "outputs": [],
   "source": [
    "# Drop unnecessary columns\n",
    "df_twitter_archive_clean = df_twitter_archive_clean.drop(['in_reply_to_status_id','in_reply_to_user_id','retweeted_status_id', 'retweeted_status_user_id','retweeted_status_timestamp'], axis=1)"
   ]
  },
  {
   "cell_type": "markdown",
   "metadata": {},
   "source": [
    "#### Test"
   ]
  },
  {
   "cell_type": "code",
   "execution_count": 154,
   "metadata": {},
   "outputs": [
    {
     "name": "stdout",
     "output_type": "stream",
     "text": [
      "<class 'pandas.core.frame.DataFrame'>\n",
      "Int64Index: 2097 entries, 0 to 2355\n",
      "Data columns (total 12 columns):\n",
      "tweet_id              2097 non-null int64\n",
      "timestamp             2097 non-null object\n",
      "source                2097 non-null object\n",
      "text                  2097 non-null object\n",
      "expanded_urls         2094 non-null object\n",
      "rating_numerator      2097 non-null int64\n",
      "rating_denominator    2097 non-null int64\n",
      "name                  2097 non-null object\n",
      "doggo                 2097 non-null object\n",
      "floofer               2097 non-null object\n",
      "pupper                2097 non-null object\n",
      "puppo                 2097 non-null object\n",
      "dtypes: int64(3), object(9)\n",
      "memory usage: 213.0+ KB\n"
     ]
    }
   ],
   "source": [
    "# Check if columns were actually deleted\n",
    "df_twitter_archive_clean.info()"
   ]
  },
  {
   "cell_type": "markdown",
   "metadata": {},
   "source": [
    "#### Define\n",
    "* Change data type of `timestamp` column from string to datetime"
   ]
  },
  {
   "cell_type": "markdown",
   "metadata": {},
   "source": [
    "#### Code"
   ]
  },
  {
   "cell_type": "code",
   "execution_count": 155,
   "metadata": {},
   "outputs": [],
   "source": [
    "df_twitter_archive_clean[\"timestamp\"] = pd.to_datetime(df_twitter_archive_clean[\"timestamp\"])"
   ]
  },
  {
   "cell_type": "markdown",
   "metadata": {},
   "source": [
    "#### Test"
   ]
  },
  {
   "cell_type": "code",
   "execution_count": 156,
   "metadata": {},
   "outputs": [
    {
     "data": {
      "text/plain": [
       "tweet_id                       int64\n",
       "timestamp             datetime64[ns]\n",
       "source                        object\n",
       "text                          object\n",
       "expanded_urls                 object\n",
       "rating_numerator               int64\n",
       "rating_denominator             int64\n",
       "name                          object\n",
       "doggo                         object\n",
       "floofer                       object\n",
       "pupper                        object\n",
       "puppo                         object\n",
       "dtype: object"
      ]
     },
     "execution_count": 156,
     "metadata": {},
     "output_type": "execute_result"
    }
   ],
   "source": [
    "# Check data types of columns\n",
    "df_twitter_archive_clean.dtypes"
   ]
  },
  {
   "cell_type": "markdown",
   "metadata": {},
   "source": [
    "#### Define\n",
    "* Replace lowercase dog names with \"None\""
   ]
  },
  {
   "cell_type": "markdown",
   "metadata": {},
   "source": [
    "#### Code"
   ]
  },
  {
   "cell_type": "code",
   "execution_count": 157,
   "metadata": {},
   "outputs": [
    {
     "name": "stderr",
     "output_type": "stream",
     "text": [
      "/opt/conda/lib/python3.6/site-packages/ipykernel_launcher.py:2: SettingWithCopyWarning: \n",
      "A value is trying to be set on a copy of a slice from a DataFrame\n",
      "\n",
      "See the caveats in the documentation: http://pandas.pydata.org/pandas-docs/stable/indexing.html#indexing-view-versus-copy\n",
      "  \n"
     ]
    }
   ],
   "source": [
    "# Assign \"None\" to values of dog names that match the regex '[a-z]+' (corresponding to lowercase names)\n",
    "df_twitter_archive_clean['name'][df_twitter_archive_clean['name'].str.match('[a-z]+')] = 'None'"
   ]
  },
  {
   "cell_type": "markdown",
   "metadata": {},
   "source": [
    "#### Test"
   ]
  },
  {
   "cell_type": "code",
   "execution_count": 158,
   "metadata": {},
   "outputs": [
    {
     "data": {
      "text/plain": [
       "array(['Phineas', 'Tilly', 'Archie', 'Darla', 'Franklin', 'None', 'Jax',\n",
       "       'Zoey', 'Cassie', 'Koda', 'Bruno', 'Ted', 'Stuart', 'Oliver', 'Jim',\n",
       "       'Zeke', 'Ralphus', 'Gerald', 'Jeffrey', 'Canela', 'Maya', 'Mingus',\n",
       "       'Derek', 'Roscoe', 'Waffles', 'Jimbo', 'Maisey', 'Earl', 'Lola',\n",
       "       'Kevin', 'Yogi', 'Noah', 'Bella', 'Grizzwald', 'Rusty', 'Gus',\n",
       "       'Stanley', 'Alfy', 'Koko', 'Rey', 'Gary', 'Elliot', 'Louis',\n",
       "       'Jesse', 'Romeo', 'Bailey', 'Duddles', 'Jack', 'Steven', 'Beau',\n",
       "       'Snoopy', 'Shadow', 'Emmy', 'Aja', 'Penny', 'Dante', 'Nelly',\n",
       "       'Ginger', 'Benedict', 'Venti', 'Goose', 'Nugget', 'Cash', 'Jed',\n",
       "       'Sebastian', 'Sierra', 'Monkey', 'Harry', 'Kody', 'Lassie', 'Rover',\n",
       "       'Napolean', 'Boomer', 'Cody', 'Rumble', 'Clifford', 'Dewey',\n",
       "       'Scout', 'Gizmo', 'Walter', 'Cooper', 'Harold', 'Shikha', 'Lili',\n",
       "       'Jamesy', 'Coco', 'Sammy', 'Meatball', 'Paisley', 'Albus',\n",
       "       'Neptune', 'Belle', 'Quinn', 'Zooey', 'Dave', 'Jersey', 'Hobbes',\n",
       "       'Burt', 'Lorenzo', 'Carl', 'Jordy', 'Milky', 'Trooper', 'Sophie',\n",
       "       'Wyatt', 'Rosie', 'Thor', 'Oscar', 'Callie', 'Cermet', 'Marlee',\n",
       "       'Arya', 'Einstein', 'Alice', 'Rumpole', 'Benny', 'Aspen', 'Jarod',\n",
       "       'Wiggles', 'General', 'Sailor', 'Iggy', 'Snoop', 'Kyle', 'Leo',\n",
       "       'Riley', 'Noosh', 'Odin', 'Jerry', 'Georgie', 'Rontu', 'Cannon',\n",
       "       'Furzey', 'Daisy', 'Tuck', 'Barney', 'Vixen', 'Jarvis', 'Mimosa',\n",
       "       'Pickles', 'Brady', 'Luna', 'Charlie', 'Margo', 'Sadie', 'Hank',\n",
       "       'Tycho', 'Indie', 'Winnie', 'George', 'Bentley', 'Max', 'Dawn',\n",
       "       'Maddie', 'Monty', 'Sojourner', 'Winston', 'Odie', 'Arlo',\n",
       "       'Vincent', 'Lucy', 'Clark', 'Mookie', 'Meera', 'Ava', 'Eli', 'Ash',\n",
       "       'Tucker', 'Tobi', 'Chester', 'Wilson', 'Sunshine', 'Lipton',\n",
       "       'Bronte', 'Poppy', 'Gidget', 'Rhino', 'Willow', 'Orion', 'Eevee',\n",
       "       'Smiley', 'Miguel', 'Emanuel', 'Kuyu', 'Dutch', 'Pete', 'Scooter',\n",
       "       'Reggie', 'Lilly', 'Samson', 'Mia', 'Astrid', 'Malcolm', 'Dexter',\n",
       "       'Alfie', 'Fiona', 'Mutt', 'Bear', 'Doobert', 'Beebop', 'Alexander',\n",
       "       'Sailer', 'Brutus', 'Kona', 'Boots', 'Ralphie', 'Loki', 'Cupid',\n",
       "       'Pawnd', 'Pilot', 'Ike', 'Mo', 'Toby', 'Sweet', 'Pablo', 'Nala',\n",
       "       'Crawford', 'Gabe', 'Jimison', 'Duchess', 'Harlso', 'Sundance',\n",
       "       'Luca', 'Flash', 'Sunny', 'Howie', 'Jazzy', 'Anna', 'Finn', 'Bo',\n",
       "       'Wafer', 'Tom', 'Florence', 'Autumn', 'Buddy', 'Dido', 'Eugene',\n",
       "       'Ken', 'Strudel', 'Tebow', 'Chloe', 'Timber', 'Binky', 'Moose',\n",
       "       'Dudley', 'Comet', 'Akumi', 'Titan', 'Olivia', 'Alf', 'Oshie',\n",
       "       'Chubbs', 'Sky', 'Atlas', 'Eleanor', 'Layla', 'Rocky', 'Baron',\n",
       "       'Tyr', 'Bauer', 'Swagger', 'Brandi', 'Mary', 'Moe', 'Halo', 'Augie',\n",
       "       'Craig', 'Sam', 'Hunter', 'Pavlov', 'Phil', 'Kyro', 'Wallace',\n",
       "       'Ito', 'Seamus', 'Ollie', 'Stephan', 'Lennon', 'Major', 'Duke',\n",
       "       'Sansa', 'Shooter', 'Django', 'Diogi', 'Sonny', 'Marley', 'Severus',\n",
       "       'Ronnie', 'Milo', 'Bones', 'Mauve', 'Chef', 'Doc', 'Peaches',\n",
       "       'Sobe', 'Longfellow', 'Mister', 'Iroh', 'Pancake', 'Snicku', 'Ruby',\n",
       "       'Brody', 'Mack', 'Nimbus', 'Laika', 'Maximus', 'Dobby', 'Moreton',\n",
       "       'Juno', 'Maude', 'Lily', 'Newt', 'Benji', 'Nida', 'Robin',\n",
       "       'Monster', 'BeBe', 'Remus', 'Levi', 'Mabel', 'Misty', 'Betty',\n",
       "       'Mosby', 'Maggie', 'Bruce', 'Happy', 'Ralphy', 'Brownie', 'Rizzy',\n",
       "       'Stella', 'Butter', 'Frank', 'Tonks', 'Lincoln', 'Rory', 'Logan',\n",
       "       'Dale', 'Rizzo', 'Arnie', 'Mattie', 'Pinot', 'Dallas', 'Hero',\n",
       "       'Frankie', 'Stormy', 'Reginald', 'Balto', 'Mairi', 'Loomis', 'Godi',\n",
       "       'Cali', 'Deacon', 'Timmy', 'Sampson', 'Chipson', 'Combo', 'Oakley',\n",
       "       'Dash', 'Hercules', 'Jay', 'Mya', 'Strider', 'Wesley', 'Solomon',\n",
       "       'Huck', 'O', 'Blue', 'Anakin', 'Finley', 'Sprinkles', 'Heinrich',\n",
       "       'Shakespeare', 'Chelsea', 'Bungalo', 'Chip', 'Grey', 'Roosevelt',\n",
       "       'Willem', 'Davey', 'Dakota', 'Fizz', 'Dixie', 'Al', 'Jackson',\n",
       "       'Carbon', 'Klein', 'DonDon', 'Kirby', 'Lou', 'Chevy', 'Tito',\n",
       "       'Philbert', 'Louie', 'Rupert', 'Rufus', 'Brudge', 'Shadoe', 'Angel',\n",
       "       'Brat', 'Tove', 'Gromit', 'Aubie', 'Kota', 'Leela', 'Glenn',\n",
       "       'Shelby', 'Sephie', 'Bonaparte', 'Albert', 'Wishes', 'Rose', 'Theo',\n",
       "       'Rocco', 'Fido', 'Emma', 'Spencer', 'Lilli', 'Boston', 'Brandonald',\n",
       "       'Corey', 'Leonard', 'Beckham', 'Devón', 'Gert', 'Watson', 'Keith',\n",
       "       'Dex', 'Ace', 'Tayzie', 'Grizzie', 'Fred', 'Gilbert', 'Meyer',\n",
       "       'Zoe', 'Stewie', 'Calvin', 'Lilah', 'Spanky', 'Jameson', 'Piper',\n",
       "       'Atticus', 'Blu', 'Dietrich', 'Divine', 'Tripp', 'Cora', 'Huxley',\n",
       "       'Keurig', 'Bookstore', 'Linus', 'Abby', 'Shiloh', 'Gustav', 'Arlen',\n",
       "       'Percy', 'Lenox', 'Sugar', 'Harvey', 'Blanket', 'Geno', 'Stark',\n",
       "       'Beya', 'Kilo', 'Kayla', 'Maxaroni', 'Bell', 'Doug', 'Edmund',\n",
       "       'Aqua', 'Theodore', 'Baloo', 'Chase', 'Nollie', 'Rorie', 'Simba',\n",
       "       'Charles', 'Bayley', 'Axel', 'Storkson', 'Remy', 'Chadrick',\n",
       "       'Kellogg', 'Buckley', 'Livvie', 'Terry', 'Hermione', 'Ralpher',\n",
       "       'Aldrick', 'Larry', 'Rooney', 'Crystal', 'Ziva', 'Stefan',\n",
       "       'Pupcasso', 'Puff', 'Flurpson', 'Coleman', 'Enchilada', 'Raymond',\n",
       "       'Rueben', 'Cilantro', 'Karll', 'Sprout', 'Blitz', 'Bloop', 'Colby',\n",
       "       'Lillie', 'Ashleigh', 'Kreggory', 'Sarge', 'Luther', 'Ivar',\n",
       "       'Jangle', 'Schnitzel', 'Panda', 'Berkeley', 'Ralphé', 'Charleson',\n",
       "       'Clyde', 'Harnold', 'Sid', 'Pippa', 'Otis', 'Carper', 'Bowie',\n",
       "       'Alexanderson', 'Suki', 'Barclay', 'Skittle', 'Ebby', 'Flávio',\n",
       "       'Smokey', 'Link', 'Jennifur', 'Ozzy', 'Bluebert', 'Stephanus',\n",
       "       'Bubbles', 'Zeus', 'Bertson', 'Nico', 'Michelangelope', 'Siba',\n",
       "       'Calbert', 'Curtis', 'Travis', 'Thumas', 'Kanu', 'Lance', 'Opie',\n",
       "       'Stubert', 'Kane', 'Olive', 'Chuckles', 'Staniel', 'Sora', 'Beemo',\n",
       "       'Gunner', 'Lacy', 'Tater', 'Olaf', 'Cecil', 'Vince', 'Karma',\n",
       "       'Billy', 'Walker', 'Rodney', 'Klevin', 'Malikai', 'Bobble', 'River',\n",
       "       'Jebberson', 'Remington', 'Farfle', 'Jiminus', 'Harper', 'Clarkus',\n",
       "       'Finnegus', 'Cupcake', 'Kathmandu', 'Ellie', 'Katie', 'Kara',\n",
       "       'Adele', 'Zara', 'Ambrose', 'Jimothy', 'Bode', 'Terrenth', 'Reese',\n",
       "       'Chesterson', 'Lucia', 'Bisquick', 'Ralphson', 'Socks', 'Rambo',\n",
       "       'Rudy', 'Fiji', 'Rilo', 'Bilbo', 'Coopson', 'Yoda', 'Millie',\n",
       "       'Chet', 'Crouton', 'Daniel', 'Kaia', 'Murphy', 'Dotsy', 'Eazy',\n",
       "       'Coops', 'Fillup', 'Miley', 'Charl', 'Reagan', 'Yukon', 'CeCe',\n",
       "       'Cuddles', 'Claude', 'Jessiga', 'Carter', 'Ole', 'Pherb', 'Blipson',\n",
       "       'Reptar', 'Trevith', 'Berb', 'Bob', 'Colin', 'Brian', 'Oliviér',\n",
       "       'Grady', 'Kobe', 'Freddery', 'Bodie', 'Dunkin', 'Wally', 'Tupawc',\n",
       "       'Amber', 'Herschel', 'Edgar', 'Teddy', 'Kingsley', 'Brockly',\n",
       "       'Richie', 'Molly', 'Vinscent', 'Cedrick', 'Hazel', 'Lolo', 'Eriq',\n",
       "       'Phred', 'Oddie', 'Maxwell', 'Geoff', 'Covach', 'Durg', 'Fynn',\n",
       "       'Ricky', 'Herald', 'Lucky', 'Ferg', 'Trip', 'Clarence', 'Hamrick',\n",
       "       'Brad', 'Pubert', 'Frönq', 'Derby', 'Lizzie', 'Ember', 'Blakely',\n",
       "       'Opal', 'Marq', 'Kramer', 'Barry', 'Tyrone', 'Gordon', 'Baxter',\n",
       "       'Mona', 'Horace', 'Crimson', 'Birf', 'Hammond', 'Lorelei', 'Marty',\n",
       "       'Brooks', 'Petrick', 'Hubertson', 'Gerbald', 'Oreo', 'Bruiser',\n",
       "       'Perry', 'Bobby', 'Jeph', 'Obi', 'Tino', 'Kulet', 'Sweets', 'Lupe',\n",
       "       'Tiger', 'Jiminy', 'Griffin', 'Banjo', 'Brandy', 'Lulu', 'Darrel',\n",
       "       'Taco', 'Joey', 'Patrick', 'Kreg', 'Todo', 'Tess', 'Ulysses',\n",
       "       'Toffee', 'Apollo', 'Carly', 'Asher', 'Glacier', 'Chuck', 'Champ',\n",
       "       'Ozzie', 'Griswold', 'Cheesy', 'Moofasa', 'Hector', 'Goliath',\n",
       "       'Kawhi', 'Emmie', 'Penelope', 'Willie', 'Rinna', 'Mike', 'William',\n",
       "       'Dwight', 'Evy', 'Hurley', 'Rubio', 'Chompsky', 'Rascal', 'Linda',\n",
       "       'Tug', 'Tango', 'Grizz', 'Jerome', 'Crumpet', 'Jessifer', 'Izzy',\n",
       "       'Ralph', 'Sandy', 'Humphrey', 'Tassy', 'Juckson', 'Chuq', 'Tyrus',\n",
       "       'Karl', 'Godzilla', 'Vinnie', 'Kenneth', 'Herm', 'Bert', 'Striker',\n",
       "       'Donny', 'Pepper', 'Bernie', 'Buddah', 'Lenny', 'Arnold', 'Zuzu',\n",
       "       'Mollie', 'Laela', 'Tedders', 'Superpup', 'Rufio', 'Jeb', 'Rodman',\n",
       "       'Jonah', 'Chesney', 'Kenny', 'Henry', 'Bobbay', 'Mitch', 'Kaiya',\n",
       "       'Acro', 'Aiden', 'Obie', 'Dot', 'Shnuggles', 'Kendall', 'Jeffri',\n",
       "       'Steve', 'Eve', 'Mac', 'Fletcher', 'Kenzie', 'Pumpkin', 'Schnozz',\n",
       "       'Gustaf', 'Cheryl', 'Ed', 'Leonidas', 'Norman', 'Caryl', 'Scott',\n",
       "       'Taz', 'Darby', 'Jackie', 'Jazz', 'Franq', 'Pippin', 'Rolf',\n",
       "       'Snickers', 'Ridley', 'Cal', 'Bradley', 'Bubba', 'Tuco', 'Patch',\n",
       "       'Mojo', 'Batdog', 'Dylan', 'Mark', 'JD', 'Alejandro', 'Scruffers',\n",
       "       'Pip', 'Julius', 'Tanner', 'Sparky', 'Anthony', 'Holly', 'Jett',\n",
       "       'Amy', 'Sage', 'Andy', 'Mason', 'Trigger', 'Antony', 'Creg',\n",
       "       'Traviss', 'Gin', 'Jeffrie', 'Danny', 'Ester', 'Pluto', 'Bloo',\n",
       "       'Edd', 'Paull', 'Willy', 'Herb', 'Damon', 'Peanut', 'Nigel',\n",
       "       'Butters', 'Sandra', 'Fabio', 'Randall', 'Liam', 'Tommy', 'Ben',\n",
       "       'Raphael', 'Julio', 'Andru', 'Kloey', 'Shawwn', 'Skye', 'Kollin',\n",
       "       'Ronduh', 'Billl', 'Saydee', 'Dug', 'Sully', 'Kirk', 'Ralf',\n",
       "       'Clarq', 'Jaspers', 'Samsom', 'Terrance', 'Harrison', 'Chaz',\n",
       "       'Jeremy', 'Jaycob', 'Lambeau', 'Ruffles', 'Amélie', 'Bobb',\n",
       "       'Banditt', 'Kevon', 'Winifred', 'Hanz', 'Churlie', 'Zeek', 'Timofy',\n",
       "       'Maks', 'Jomathan', 'Kallie', 'Marvin', 'Spark', 'Gòrdón', 'Jo',\n",
       "       'DayZ', 'Jareld', 'Torque', 'Ron', 'Skittles', 'Cleopatricia',\n",
       "       'Erik', 'Stu', 'Tedrick', 'Shaggy', 'Filup', 'Kial', 'Naphaniel',\n",
       "       'Dook', 'Hall', 'Philippe', 'Biden', 'Fwed', 'Genevieve', 'Joshwa',\n",
       "       'Timison', 'Bradlay', 'Pipsy', 'Clybe', 'Keet', 'Carll', 'Jockson',\n",
       "       'Josep', 'Lugan', 'Christoper'], dtype=object)"
      ]
     },
     "execution_count": 158,
     "metadata": {},
     "output_type": "execute_result"
    }
   ],
   "source": [
    "# Check for unique dog names\n",
    "df_twitter_archive_clean[\"name\"].unique()"
   ]
  },
  {
   "cell_type": "code",
   "execution_count": 159,
   "metadata": {},
   "outputs": [
    {
     "data": {
      "text/plain": [
       "None         707\n",
       "Lucy          11\n",
       "Charlie       11\n",
       "Cooper        10\n",
       "Oliver        10\n",
       "Tucker         9\n",
       "Penny          9\n",
       "Lola           8\n",
       "Winston        8\n",
       "Sadie          8\n",
       "Daisy          7\n",
       "Toby           7\n",
       "Bailey         6\n",
       "Stanley        6\n",
       "Bella          6\n",
       "Oscar          6\n",
       "Bo             6\n",
       "Koda           6\n",
       "Jax            6\n",
       "Milo           5\n",
       "Louis          5\n",
       "Scout          5\n",
       "Dave           5\n",
       "Rusty          5\n",
       "Chester        5\n",
       "Bentley        5\n",
       "Leo            5\n",
       "Buddy          5\n",
       "Phil           4\n",
       "Oakley         4\n",
       "            ... \n",
       "Chef           1\n",
       "Brutus         1\n",
       "Dug            1\n",
       "Genevieve      1\n",
       "Koko           1\n",
       "Billy          1\n",
       "Rumble         1\n",
       "Logan          1\n",
       "Eve            1\n",
       "Leonidas       1\n",
       "Cupid          1\n",
       "Severus        1\n",
       "Stu            1\n",
       "Kobe           1\n",
       "Dixie          1\n",
       "Rooney         1\n",
       "Enchilada      1\n",
       "Gerbald        1\n",
       "Jockson        1\n",
       "Edgar          1\n",
       "Moreton        1\n",
       "Snickers       1\n",
       "Tayzie         1\n",
       "Joshwa         1\n",
       "Dylan          1\n",
       "Shnuggles      1\n",
       "Loomis         1\n",
       "Tommy          1\n",
       "Pip            1\n",
       "Ace            1\n",
       "Name: name, Length: 930, dtype: int64"
      ]
     },
     "execution_count": 159,
     "metadata": {},
     "output_type": "execute_result"
    }
   ],
   "source": [
    "# Count values of each dog name\n",
    "df_twitter_archive_clean[\"name\"].value_counts()"
   ]
  },
  {
   "cell_type": "markdown",
   "metadata": {},
   "source": [
    "#### Define\n",
    "* Combine dog stage columns (`doggo`, `floofer`, `pupper`, `puppo`) into a single column `dog_stage`. Since the possible values for dog stages were originally extracted from the `text` column, we can actually extract them again and assign the corresponding value in the new column `dog_stage`. Then we can drop the `doggo`, `floofer`, `pupper` and `puppo` columns. \n",
    "* This will also solve the quality issue \"Some dogs have more than one stage\""
   ]
  },
  {
   "cell_type": "markdown",
   "metadata": {},
   "source": [
    "#### Code"
   ]
  },
  {
   "cell_type": "code",
   "execution_count": 160,
   "metadata": {},
   "outputs": [],
   "source": [
    "# Extract the possible stages from the \"text\" column and assign to new column \"dog_stage\"\n",
    "df_twitter_archive_clean[\"dog_stage\"] = df_twitter_archive_clean[\"text\"].str.extract(\"(doggo|floofer|pupper|puppo)\")"
   ]
  },
  {
   "cell_type": "code",
   "execution_count": 161,
   "metadata": {},
   "outputs": [],
   "source": [
    "# Drop columns\n",
    "df_twitter_archive_clean = df_twitter_archive_clean.drop([\"doggo\", \"floofer\", \"pupper\", \"puppo\"], axis=1)"
   ]
  },
  {
   "cell_type": "markdown",
   "metadata": {},
   "source": [
    "#### Test"
   ]
  },
  {
   "cell_type": "code",
   "execution_count": 162,
   "metadata": {},
   "outputs": [
    {
     "data": {
      "text/html": [
       "<div>\n",
       "<style scoped>\n",
       "    .dataframe tbody tr th:only-of-type {\n",
       "        vertical-align: middle;\n",
       "    }\n",
       "\n",
       "    .dataframe tbody tr th {\n",
       "        vertical-align: top;\n",
       "    }\n",
       "\n",
       "    .dataframe thead th {\n",
       "        text-align: right;\n",
       "    }\n",
       "</style>\n",
       "<table border=\"1\" class=\"dataframe\">\n",
       "  <thead>\n",
       "    <tr style=\"text-align: right;\">\n",
       "      <th></th>\n",
       "      <th>tweet_id</th>\n",
       "      <th>timestamp</th>\n",
       "      <th>source</th>\n",
       "      <th>text</th>\n",
       "      <th>expanded_urls</th>\n",
       "      <th>rating_numerator</th>\n",
       "      <th>rating_denominator</th>\n",
       "      <th>name</th>\n",
       "      <th>dog_stage</th>\n",
       "    </tr>\n",
       "  </thead>\n",
       "  <tbody>\n",
       "    <tr>\n",
       "      <th>1787</th>\n",
       "      <td>677565715327688705</td>\n",
       "      <td>2015-12-17 19:07:09</td>\n",
       "      <td>&lt;a href=\"http://twitter.com/download/iphone\" r...</td>\n",
       "      <td>Contortionist pup here. Inside pentagram. Clea...</td>\n",
       "      <td>https://twitter.com/dog_rates/status/677565715...</td>\n",
       "      <td>6</td>\n",
       "      <td>10</td>\n",
       "      <td>None</td>\n",
       "      <td>NaN</td>\n",
       "    </tr>\n",
       "    <tr>\n",
       "      <th>1403</th>\n",
       "      <td>699413908797464576</td>\n",
       "      <td>2016-02-16 02:04:04</td>\n",
       "      <td>&lt;a href=\"http://twitter.com/download/iphone\" r...</td>\n",
       "      <td>Meet Miley. She's a Scandinavian Hollabackgirl...</td>\n",
       "      <td>https://twitter.com/dog_rates/status/699413908...</td>\n",
       "      <td>11</td>\n",
       "      <td>10</td>\n",
       "      <td>Miley</td>\n",
       "      <td>NaN</td>\n",
       "    </tr>\n",
       "    <tr>\n",
       "      <th>1811</th>\n",
       "      <td>676819651066732545</td>\n",
       "      <td>2015-12-15 17:42:34</td>\n",
       "      <td>&lt;a href=\"http://twitter.com/download/iphone\" r...</td>\n",
       "      <td>Watch out Airbud. This pupper is also good at ...</td>\n",
       "      <td>https://twitter.com/dog_rates/status/676819651...</td>\n",
       "      <td>12</td>\n",
       "      <td>10</td>\n",
       "      <td>None</td>\n",
       "      <td>pupper</td>\n",
       "    </tr>\n",
       "    <tr>\n",
       "      <th>1387</th>\n",
       "      <td>700505138482569216</td>\n",
       "      <td>2016-02-19 02:20:14</td>\n",
       "      <td>&lt;a href=\"http://twitter.com/download/iphone\" r...</td>\n",
       "      <td>This is Kaia. She's just cute as hell. 12/10 I...</td>\n",
       "      <td>https://twitter.com/dog_rates/status/700505138...</td>\n",
       "      <td>12</td>\n",
       "      <td>10</td>\n",
       "      <td>Kaia</td>\n",
       "      <td>NaN</td>\n",
       "    </tr>\n",
       "    <tr>\n",
       "      <th>1322</th>\n",
       "      <td>706291001778950144</td>\n",
       "      <td>2016-03-06 01:31:11</td>\n",
       "      <td>&lt;a href=\"http://twitter.com/download/iphone\" r...</td>\n",
       "      <td>When you're just relaxin and having a swell ti...</td>\n",
       "      <td>https://twitter.com/dog_rates/status/706291001...</td>\n",
       "      <td>11</td>\n",
       "      <td>10</td>\n",
       "      <td>None</td>\n",
       "      <td>NaN</td>\n",
       "    </tr>\n",
       "  </tbody>\n",
       "</table>\n",
       "</div>"
      ],
      "text/plain": [
       "                tweet_id           timestamp  \\\n",
       "1787  677565715327688705 2015-12-17 19:07:09   \n",
       "1403  699413908797464576 2016-02-16 02:04:04   \n",
       "1811  676819651066732545 2015-12-15 17:42:34   \n",
       "1387  700505138482569216 2016-02-19 02:20:14   \n",
       "1322  706291001778950144 2016-03-06 01:31:11   \n",
       "\n",
       "                                                 source  \\\n",
       "1787  <a href=\"http://twitter.com/download/iphone\" r...   \n",
       "1403  <a href=\"http://twitter.com/download/iphone\" r...   \n",
       "1811  <a href=\"http://twitter.com/download/iphone\" r...   \n",
       "1387  <a href=\"http://twitter.com/download/iphone\" r...   \n",
       "1322  <a href=\"http://twitter.com/download/iphone\" r...   \n",
       "\n",
       "                                                   text  \\\n",
       "1787  Contortionist pup here. Inside pentagram. Clea...   \n",
       "1403  Meet Miley. She's a Scandinavian Hollabackgirl...   \n",
       "1811  Watch out Airbud. This pupper is also good at ...   \n",
       "1387  This is Kaia. She's just cute as hell. 12/10 I...   \n",
       "1322  When you're just relaxin and having a swell ti...   \n",
       "\n",
       "                                          expanded_urls  rating_numerator  \\\n",
       "1787  https://twitter.com/dog_rates/status/677565715...                 6   \n",
       "1403  https://twitter.com/dog_rates/status/699413908...                11   \n",
       "1811  https://twitter.com/dog_rates/status/676819651...                12   \n",
       "1387  https://twitter.com/dog_rates/status/700505138...                12   \n",
       "1322  https://twitter.com/dog_rates/status/706291001...                11   \n",
       "\n",
       "      rating_denominator   name dog_stage  \n",
       "1787                  10   None       NaN  \n",
       "1403                  10  Miley       NaN  \n",
       "1811                  10   None    pupper  \n",
       "1387                  10   Kaia       NaN  \n",
       "1322                  10   None       NaN  "
      ]
     },
     "execution_count": 162,
     "metadata": {},
     "output_type": "execute_result"
    }
   ],
   "source": [
    "# Check to see if the new column has the correct values\n",
    "df_twitter_archive_clean.sample(5)"
   ]
  },
  {
   "cell_type": "code",
   "execution_count": 163,
   "metadata": {},
   "outputs": [
    {
     "name": "stdout",
     "output_type": "stream",
     "text": [
      "<class 'pandas.core.frame.DataFrame'>\n",
      "Int64Index: 2097 entries, 0 to 2355\n",
      "Data columns (total 9 columns):\n",
      "tweet_id              2097 non-null int64\n",
      "timestamp             2097 non-null datetime64[ns]\n",
      "source                2097 non-null object\n",
      "text                  2097 non-null object\n",
      "expanded_urls         2094 non-null object\n",
      "rating_numerator      2097 non-null int64\n",
      "rating_denominator    2097 non-null int64\n",
      "name                  2097 non-null object\n",
      "dog_stage             353 non-null object\n",
      "dtypes: datetime64[ns](1), int64(3), object(5)\n",
      "memory usage: 163.8+ KB\n"
     ]
    }
   ],
   "source": [
    "df_twitter_archive_clean.info()"
   ]
  },
  {
   "cell_type": "markdown",
   "metadata": {},
   "source": [
    "#### Define\n",
    "* Replace \"NaN\" dog stages with \"None\"\n",
    "* Remove the 3 entries of `expanded_urls` that have null values\n",
    "\n",
    "With these two steps none of the columns in the data frame will have null values"
   ]
  },
  {
   "cell_type": "markdown",
   "metadata": {},
   "source": [
    "#### Code"
   ]
  },
  {
   "cell_type": "code",
   "execution_count": 164,
   "metadata": {},
   "outputs": [],
   "source": [
    "# Replace \"NaN\" values of the \"dog_stage\" column with \"None\"\n",
    "df_twitter_archive_clean[\"dog_stage\"] = df_twitter_archive_clean[\"dog_stage\"].replace(np.nan, \"None\")"
   ]
  },
  {
   "cell_type": "code",
   "execution_count": 165,
   "metadata": {},
   "outputs": [],
   "source": [
    "# Delete entries where \"expanded_urls\" has null values\n",
    "df_twitter_archive_clean.dropna(axis=0, how=\"any\", subset=[\"expanded_urls\"], inplace=True)"
   ]
  },
  {
   "cell_type": "markdown",
   "metadata": {},
   "source": [
    "#### Test"
   ]
  },
  {
   "cell_type": "code",
   "execution_count": 166,
   "metadata": {},
   "outputs": [
    {
     "name": "stdout",
     "output_type": "stream",
     "text": [
      "<class 'pandas.core.frame.DataFrame'>\n",
      "Int64Index: 2094 entries, 0 to 2355\n",
      "Data columns (total 9 columns):\n",
      "tweet_id              2094 non-null int64\n",
      "timestamp             2094 non-null datetime64[ns]\n",
      "source                2094 non-null object\n",
      "text                  2094 non-null object\n",
      "expanded_urls         2094 non-null object\n",
      "rating_numerator      2094 non-null int64\n",
      "rating_denominator    2094 non-null int64\n",
      "name                  2094 non-null object\n",
      "dog_stage             2094 non-null object\n",
      "dtypes: datetime64[ns](1), int64(3), object(5)\n",
      "memory usage: 163.6+ KB\n"
     ]
    }
   ],
   "source": [
    "# Check data frame info to verify there are no null values in any entry\n",
    "df_twitter_archive_clean.info()"
   ]
  },
  {
   "cell_type": "code",
   "execution_count": 167,
   "metadata": {},
   "outputs": [
    {
     "data": {
      "text/html": [
       "<div>\n",
       "<style scoped>\n",
       "    .dataframe tbody tr th:only-of-type {\n",
       "        vertical-align: middle;\n",
       "    }\n",
       "\n",
       "    .dataframe tbody tr th {\n",
       "        vertical-align: top;\n",
       "    }\n",
       "\n",
       "    .dataframe thead th {\n",
       "        text-align: right;\n",
       "    }\n",
       "</style>\n",
       "<table border=\"1\" class=\"dataframe\">\n",
       "  <thead>\n",
       "    <tr style=\"text-align: right;\">\n",
       "      <th></th>\n",
       "      <th>tweet_id</th>\n",
       "      <th>timestamp</th>\n",
       "      <th>source</th>\n",
       "      <th>text</th>\n",
       "      <th>expanded_urls</th>\n",
       "      <th>rating_numerator</th>\n",
       "      <th>rating_denominator</th>\n",
       "      <th>name</th>\n",
       "      <th>dog_stage</th>\n",
       "    </tr>\n",
       "  </thead>\n",
       "  <tbody>\n",
       "    <tr>\n",
       "      <th>77</th>\n",
       "      <td>877736472329191424</td>\n",
       "      <td>2017-06-22 03:54:17</td>\n",
       "      <td>&lt;a href=\"http://twitter.com/download/iphone\" r...</td>\n",
       "      <td>This is Aja. She was just told she's a good do...</td>\n",
       "      <td>https://twitter.com/dog_rates/status/877736472...</td>\n",
       "      <td>13</td>\n",
       "      <td>10</td>\n",
       "      <td>Aja</td>\n",
       "      <td>None</td>\n",
       "    </tr>\n",
       "    <tr>\n",
       "      <th>1656</th>\n",
       "      <td>683357973142474752</td>\n",
       "      <td>2016-01-02 18:43:31</td>\n",
       "      <td>&lt;a href=\"http://twitter.com/download/iphone\" r...</td>\n",
       "      <td>\"Have a seat, son. There are some things we ne...</td>\n",
       "      <td>https://twitter.com/dog_rates/status/683357973...</td>\n",
       "      <td>10</td>\n",
       "      <td>10</td>\n",
       "      <td>None</td>\n",
       "      <td>None</td>\n",
       "    </tr>\n",
       "    <tr>\n",
       "      <th>1860</th>\n",
       "      <td>675489971617296384</td>\n",
       "      <td>2015-12-12 01:38:53</td>\n",
       "      <td>&lt;a href=\"http://twitter.com/download/iphone\" r...</td>\n",
       "      <td>RT until we find this dog. Clearly a cool dog ...</td>\n",
       "      <td>https://twitter.com/dog_rates/status/675489971...</td>\n",
       "      <td>10</td>\n",
       "      <td>10</td>\n",
       "      <td>None</td>\n",
       "      <td>None</td>\n",
       "    </tr>\n",
       "    <tr>\n",
       "      <th>1714</th>\n",
       "      <td>680440374763077632</td>\n",
       "      <td>2015-12-25 17:30:01</td>\n",
       "      <td>&lt;a href=\"http://twitter.com/download/iphone\" r...</td>\n",
       "      <td>Merry Christmas. My gift to you is this tiny u...</td>\n",
       "      <td>https://twitter.com/dog_rates/status/680440374...</td>\n",
       "      <td>11</td>\n",
       "      <td>10</td>\n",
       "      <td>None</td>\n",
       "      <td>None</td>\n",
       "    </tr>\n",
       "    <tr>\n",
       "      <th>2240</th>\n",
       "      <td>667924896115245057</td>\n",
       "      <td>2015-11-21 04:37:59</td>\n",
       "      <td>&lt;a href=\"http://twitter.com/download/iphone\" r...</td>\n",
       "      <td>This is Jiminy. He has always wanted to be a c...</td>\n",
       "      <td>https://twitter.com/dog_rates/status/667924896...</td>\n",
       "      <td>9</td>\n",
       "      <td>10</td>\n",
       "      <td>Jiminy</td>\n",
       "      <td>None</td>\n",
       "    </tr>\n",
       "  </tbody>\n",
       "</table>\n",
       "</div>"
      ],
      "text/plain": [
       "                tweet_id           timestamp  \\\n",
       "77    877736472329191424 2017-06-22 03:54:17   \n",
       "1656  683357973142474752 2016-01-02 18:43:31   \n",
       "1860  675489971617296384 2015-12-12 01:38:53   \n",
       "1714  680440374763077632 2015-12-25 17:30:01   \n",
       "2240  667924896115245057 2015-11-21 04:37:59   \n",
       "\n",
       "                                                 source  \\\n",
       "77    <a href=\"http://twitter.com/download/iphone\" r...   \n",
       "1656  <a href=\"http://twitter.com/download/iphone\" r...   \n",
       "1860  <a href=\"http://twitter.com/download/iphone\" r...   \n",
       "1714  <a href=\"http://twitter.com/download/iphone\" r...   \n",
       "2240  <a href=\"http://twitter.com/download/iphone\" r...   \n",
       "\n",
       "                                                   text  \\\n",
       "77    This is Aja. She was just told she's a good do...   \n",
       "1656  \"Have a seat, son. There are some things we ne...   \n",
       "1860  RT until we find this dog. Clearly a cool dog ...   \n",
       "1714  Merry Christmas. My gift to you is this tiny u...   \n",
       "2240  This is Jiminy. He has always wanted to be a c...   \n",
       "\n",
       "                                          expanded_urls  rating_numerator  \\\n",
       "77    https://twitter.com/dog_rates/status/877736472...                13   \n",
       "1656  https://twitter.com/dog_rates/status/683357973...                10   \n",
       "1860  https://twitter.com/dog_rates/status/675489971...                10   \n",
       "1714  https://twitter.com/dog_rates/status/680440374...                11   \n",
       "2240  https://twitter.com/dog_rates/status/667924896...                 9   \n",
       "\n",
       "      rating_denominator    name dog_stage  \n",
       "77                    10     Aja      None  \n",
       "1656                  10    None      None  \n",
       "1860                  10    None      None  \n",
       "1714                  10    None      None  \n",
       "2240                  10  Jiminy      None  "
      ]
     },
     "execution_count": 167,
     "metadata": {},
     "output_type": "execute_result"
    }
   ],
   "source": [
    "df_twitter_archive_clean.sample(5)"
   ]
  },
  {
   "cell_type": "code",
   "execution_count": 168,
   "metadata": {},
   "outputs": [
    {
     "data": {
      "text/plain": [
       "None       1742\n",
       "pupper      239\n",
       "doggo        80\n",
       "puppo        29\n",
       "floofer       4\n",
       "Name: dog_stage, dtype: int64"
      ]
     },
     "execution_count": 168,
     "metadata": {},
     "output_type": "execute_result"
    }
   ],
   "source": [
    "# Check possible values of \"dog_stage\" column\n",
    "df_twitter_archive_clean[\"dog_stage\"].value_counts()"
   ]
  },
  {
   "cell_type": "markdown",
   "metadata": {},
   "source": [
    "#### Define\n",
    "* Remove entries with rating denominator different from 10"
   ]
  },
  {
   "cell_type": "markdown",
   "metadata": {},
   "source": [
    "#### Code"
   ]
  },
  {
   "cell_type": "code",
   "execution_count": 169,
   "metadata": {},
   "outputs": [],
   "source": [
    "# Apply filter to data frame - keep only rating denominators equals to 10\n",
    "df_twitter_archive_clean = df_twitter_archive_clean[df_twitter_archive_clean[\"rating_denominator\"] == 10]"
   ]
  },
  {
   "cell_type": "markdown",
   "metadata": {},
   "source": [
    "#### Test"
   ]
  },
  {
   "cell_type": "code",
   "execution_count": 170,
   "metadata": {},
   "outputs": [
    {
     "data": {
      "text/plain": [
       "10    2077\n",
       "Name: rating_denominator, dtype: int64"
      ]
     },
     "execution_count": 170,
     "metadata": {},
     "output_type": "execute_result"
    }
   ],
   "source": [
    "# Check possible values for rating denominator\n",
    "df_twitter_archive_clean[\"rating_denominator\"].value_counts()"
   ]
  },
  {
   "cell_type": "markdown",
   "metadata": {},
   "source": [
    "#### Define\n",
    "* Remove rating numerator values outside the range 1-14. According to the `WeRateDogs` Wikipedia page [1], dogs are rated on a scale of one to ten, but are invariably given ratings in excess of the maximum, such as \"13/10\". We will consider that values between 1-14 are correct, and the few exceptions that lie outside this range are considered outliers and therefore we'll remove them. "
   ]
  },
  {
   "cell_type": "markdown",
   "metadata": {},
   "source": [
    "#### Code"
   ]
  },
  {
   "cell_type": "code",
   "execution_count": 171,
   "metadata": {},
   "outputs": [],
   "source": [
    "# Apply filter to data frame - keep only rating numerators in the range 1-14\n",
    "df_twitter_archive_clean = df_twitter_archive_clean[(df_twitter_archive_clean[\"rating_numerator\"] >= 1) & (df_twitter_archive_clean[\"rating_numerator\"] <= 14)]"
   ]
  },
  {
   "cell_type": "markdown",
   "metadata": {},
   "source": [
    "#### Test"
   ]
  },
  {
   "cell_type": "code",
   "execution_count": 172,
   "metadata": {},
   "outputs": [
    {
     "data": {
      "text/plain": [
       "12    485\n",
       "10    434\n",
       "11    413\n",
       "13    287\n",
       "9     152\n",
       "8      98\n",
       "7      51\n",
       "14     38\n",
       "5      34\n",
       "6      32\n",
       "3      19\n",
       "4      15\n",
       "2       9\n",
       "1       4\n",
       "Name: rating_numerator, dtype: int64"
      ]
     },
     "execution_count": 172,
     "metadata": {},
     "output_type": "execute_result"
    }
   ],
   "source": [
    "# Check if possible values for rating_numerator are within the desired range\n",
    "df_twitter_archive_clean[\"rating_numerator\"].value_counts()"
   ]
  },
  {
   "cell_type": "code",
   "execution_count": 173,
   "metadata": {},
   "outputs": [
    {
     "name": "stdout",
     "output_type": "stream",
     "text": [
      "<class 'pandas.core.frame.DataFrame'>\n",
      "Int64Index: 2071 entries, 0 to 2355\n",
      "Data columns (total 9 columns):\n",
      "tweet_id              2071 non-null int64\n",
      "timestamp             2071 non-null datetime64[ns]\n",
      "source                2071 non-null object\n",
      "text                  2071 non-null object\n",
      "expanded_urls         2071 non-null object\n",
      "rating_numerator      2071 non-null int64\n",
      "rating_denominator    2071 non-null int64\n",
      "name                  2071 non-null object\n",
      "dog_stage             2071 non-null object\n",
      "dtypes: datetime64[ns](1), int64(3), object(5)\n",
      "memory usage: 161.8+ KB\n"
     ]
    }
   ],
   "source": [
    "df_twitter_archive_clean.info()"
   ]
  },
  {
   "cell_type": "code",
   "execution_count": 174,
   "metadata": {},
   "outputs": [
    {
     "data": {
      "text/html": [
       "<div>\n",
       "<style scoped>\n",
       "    .dataframe tbody tr th:only-of-type {\n",
       "        vertical-align: middle;\n",
       "    }\n",
       "\n",
       "    .dataframe tbody tr th {\n",
       "        vertical-align: top;\n",
       "    }\n",
       "\n",
       "    .dataframe thead th {\n",
       "        text-align: right;\n",
       "    }\n",
       "</style>\n",
       "<table border=\"1\" class=\"dataframe\">\n",
       "  <thead>\n",
       "    <tr style=\"text-align: right;\">\n",
       "      <th></th>\n",
       "      <th>tweet_id</th>\n",
       "      <th>timestamp</th>\n",
       "      <th>source</th>\n",
       "      <th>text</th>\n",
       "      <th>expanded_urls</th>\n",
       "      <th>rating_numerator</th>\n",
       "      <th>rating_denominator</th>\n",
       "      <th>name</th>\n",
       "      <th>dog_stage</th>\n",
       "    </tr>\n",
       "  </thead>\n",
       "  <tbody>\n",
       "    <tr>\n",
       "      <th>1171</th>\n",
       "      <td>720415127506415616</td>\n",
       "      <td>2016-04-14 00:55:25</td>\n",
       "      <td>&lt;a href=\"http://twitter.com/download/iphone\" r...</td>\n",
       "      <td>Garden's coming in nice this year. 10/10 https...</td>\n",
       "      <td>https://twitter.com/dog_rates/status/720415127...</td>\n",
       "      <td>10</td>\n",
       "      <td>10</td>\n",
       "      <td>None</td>\n",
       "      <td>None</td>\n",
       "    </tr>\n",
       "    <tr>\n",
       "      <th>271</th>\n",
       "      <td>841077006473256960</td>\n",
       "      <td>2017-03-13 00:02:39</td>\n",
       "      <td>&lt;a href=\"http://twitter.com/download/iphone\" r...</td>\n",
       "      <td>This is Dawn. She's just checking pup on you. ...</td>\n",
       "      <td>https://twitter.com/dog_rates/status/841077006...</td>\n",
       "      <td>12</td>\n",
       "      <td>10</td>\n",
       "      <td>Dawn</td>\n",
       "      <td>None</td>\n",
       "    </tr>\n",
       "    <tr>\n",
       "      <th>2018</th>\n",
       "      <td>672139350159835138</td>\n",
       "      <td>2015-12-02 19:44:43</td>\n",
       "      <td>&lt;a href=\"http://twitter.com/download/iphone\" r...</td>\n",
       "      <td>This pup has a heart on its ass and that is do...</td>\n",
       "      <td>https://twitter.com/dog_rates/status/672139350...</td>\n",
       "      <td>12</td>\n",
       "      <td>10</td>\n",
       "      <td>None</td>\n",
       "      <td>None</td>\n",
       "    </tr>\n",
       "    <tr>\n",
       "      <th>567</th>\n",
       "      <td>802239329049477120</td>\n",
       "      <td>2016-11-25 19:55:35</td>\n",
       "      <td>&lt;a href=\"http://twitter.com/download/iphone\" r...</td>\n",
       "      <td>This is Loki. He'll do your taxes for you. Can...</td>\n",
       "      <td>https://twitter.com/dog_rates/status/802239329...</td>\n",
       "      <td>12</td>\n",
       "      <td>10</td>\n",
       "      <td>Loki</td>\n",
       "      <td>puppo</td>\n",
       "    </tr>\n",
       "    <tr>\n",
       "      <th>225</th>\n",
       "      <td>849051919805034497</td>\n",
       "      <td>2017-04-04 00:12:06</td>\n",
       "      <td>&lt;a href=\"http://twitter.com/download/iphone\" r...</td>\n",
       "      <td>This is Kevin. Kevin doesn't give a single h*c...</td>\n",
       "      <td>https://twitter.com/dog_rates/status/849051919...</td>\n",
       "      <td>13</td>\n",
       "      <td>10</td>\n",
       "      <td>Kevin</td>\n",
       "      <td>None</td>\n",
       "    </tr>\n",
       "  </tbody>\n",
       "</table>\n",
       "</div>"
      ],
      "text/plain": [
       "                tweet_id           timestamp  \\\n",
       "1171  720415127506415616 2016-04-14 00:55:25   \n",
       "271   841077006473256960 2017-03-13 00:02:39   \n",
       "2018  672139350159835138 2015-12-02 19:44:43   \n",
       "567   802239329049477120 2016-11-25 19:55:35   \n",
       "225   849051919805034497 2017-04-04 00:12:06   \n",
       "\n",
       "                                                 source  \\\n",
       "1171  <a href=\"http://twitter.com/download/iphone\" r...   \n",
       "271   <a href=\"http://twitter.com/download/iphone\" r...   \n",
       "2018  <a href=\"http://twitter.com/download/iphone\" r...   \n",
       "567   <a href=\"http://twitter.com/download/iphone\" r...   \n",
       "225   <a href=\"http://twitter.com/download/iphone\" r...   \n",
       "\n",
       "                                                   text  \\\n",
       "1171  Garden's coming in nice this year. 10/10 https...   \n",
       "271   This is Dawn. She's just checking pup on you. ...   \n",
       "2018  This pup has a heart on its ass and that is do...   \n",
       "567   This is Loki. He'll do your taxes for you. Can...   \n",
       "225   This is Kevin. Kevin doesn't give a single h*c...   \n",
       "\n",
       "                                          expanded_urls  rating_numerator  \\\n",
       "1171  https://twitter.com/dog_rates/status/720415127...                10   \n",
       "271   https://twitter.com/dog_rates/status/841077006...                12   \n",
       "2018  https://twitter.com/dog_rates/status/672139350...                12   \n",
       "567   https://twitter.com/dog_rates/status/802239329...                12   \n",
       "225   https://twitter.com/dog_rates/status/849051919...                13   \n",
       "\n",
       "      rating_denominator   name dog_stage  \n",
       "1171                  10   None      None  \n",
       "271                   10   Dawn      None  \n",
       "2018                  10   None      None  \n",
       "567                   10   Loki     puppo  \n",
       "225                   10  Kevin      None  "
      ]
     },
     "execution_count": 174,
     "metadata": {},
     "output_type": "execute_result"
    }
   ],
   "source": [
    "df_twitter_archive_clean.sample(5)"
   ]
  },
  {
   "cell_type": "markdown",
   "metadata": {},
   "source": [
    "#### Define\n",
    "* Apply \"lower\" method to make all prediction names lowercase\n",
    "* Replace underscore in prediction names with whitespace"
   ]
  },
  {
   "cell_type": "markdown",
   "metadata": {},
   "source": [
    "#### Code"
   ]
  },
  {
   "cell_type": "code",
   "execution_count": 175,
   "metadata": {},
   "outputs": [],
   "source": [
    "# Replace values in prediction columns p1, p2 and p3 with the corrections\n",
    "df_image_predictions_clean[\"p1\"] = df_image_predictions_clean[\"p1\"].str.replace('_', ' ').str.lower()\n",
    "df_image_predictions_clean[\"p2\"] = df_image_predictions_clean[\"p2\"].str.replace('_', ' ').str.lower()\n",
    "df_image_predictions_clean[\"p3\"] = df_image_predictions_clean[\"p3\"].str.replace('_', ' ').str.lower()"
   ]
  },
  {
   "cell_type": "markdown",
   "metadata": {},
   "source": [
    "#### Test"
   ]
  },
  {
   "cell_type": "code",
   "execution_count": 176,
   "metadata": {},
   "outputs": [
    {
     "data": {
      "text/plain": [
       "golden retriever             150\n",
       "labrador retriever           100\n",
       "pembroke                      89\n",
       "chihuahua                     83\n",
       "pug                           57\n",
       "chow                          44\n",
       "samoyed                       43\n",
       "toy poodle                    39\n",
       "pomeranian                    38\n",
       "malamute                      30\n",
       "cocker spaniel                30\n",
       "french bulldog                26\n",
       "miniature pinscher            23\n",
       "chesapeake bay retriever      23\n",
       "seat belt                     22\n",
       "german shepherd               20\n",
       "siberian husky                20\n",
       "staffordshire bullterrier     20\n",
       "cardigan                      19\n",
       "web site                      19\n",
       "teddy                         18\n",
       "eskimo dog                    18\n",
       "shetland sheepdog             18\n",
       "maltese dog                   18\n",
       "beagle                        18\n",
       "shih-tzu                      17\n",
       "rottweiler                    17\n",
       "lakeland terrier              17\n",
       "kuvasz                        16\n",
       "italian greyhound             16\n",
       "                            ... \n",
       "bighorn                        1\n",
       "minibus                        1\n",
       "microphone                     1\n",
       "leaf beetle                    1\n",
       "coral reef                     1\n",
       "carton                         1\n",
       "fire engine                    1\n",
       "bee eater                      1\n",
       "restaurant                     1\n",
       "walking stick                  1\n",
       "lawn mower                     1\n",
       "silky terrier                  1\n",
       "desktop computer               1\n",
       "robin                          1\n",
       "sundial                        1\n",
       "mailbox                        1\n",
       "african hunting dog            1\n",
       "lorikeet                       1\n",
       "bannister                      1\n",
       "cheeseburger                   1\n",
       "black-footed ferret            1\n",
       "beaver                         1\n",
       "espresso                       1\n",
       "pole                           1\n",
       "bookshop                       1\n",
       "madagascar cat                 1\n",
       "slug                           1\n",
       "syringe                        1\n",
       "maillot                        1\n",
       "tailed frog                    1\n",
       "Name: p1, Length: 378, dtype: int64"
      ]
     },
     "execution_count": 176,
     "metadata": {},
     "output_type": "execute_result"
    }
   ],
   "source": [
    "# Check names of \"p1\" predictions\n",
    "df_image_predictions_clean[\"p1\"].value_counts()"
   ]
  },
  {
   "cell_type": "code",
   "execution_count": 177,
   "metadata": {},
   "outputs": [
    {
     "data": {
      "text/plain": [
       "labrador retriever                104\n",
       "golden retriever                   92\n",
       "cardigan                           74\n",
       "chihuahua                          44\n",
       "pomeranian                         42\n",
       "french bulldog                     41\n",
       "chesapeake bay retriever           41\n",
       "toy poodle                         37\n",
       "cocker spaniel                     34\n",
       "miniature poodle                   33\n",
       "siberian husky                     33\n",
       "beagle                             28\n",
       "collie                             27\n",
       "pembroke                           27\n",
       "eskimo dog                         27\n",
       "kuvasz                             26\n",
       "italian greyhound                  22\n",
       "pekinese                           21\n",
       "american staffordshire terrier     21\n",
       "chow                               20\n",
       "miniature pinscher                 20\n",
       "toy terrier                        20\n",
       "samoyed                            20\n",
       "malinois                           20\n",
       "boston bull                        19\n",
       "norwegian elkhound                 19\n",
       "staffordshire bullterrier          18\n",
       "pug                                17\n",
       "irish terrier                      17\n",
       "kelpie                             16\n",
       "                                 ... \n",
       "basketball                          1\n",
       "computer keyboard                   1\n",
       "otter                               1\n",
       "soccer ball                         1\n",
       "torch                               1\n",
       "bernese mountain dog                1\n",
       "hyena                               1\n",
       "stingray                            1\n",
       "sunglass                            1\n",
       "screw                               1\n",
       "snorkel                             1\n",
       "cowboy hat                          1\n",
       "barracouta                          1\n",
       "boathouse                           1\n",
       "sock                                1\n",
       "lighter                             1\n",
       "european gallinule                  1\n",
       "bearskin                            1\n",
       "quail                               1\n",
       "sandal                              1\n",
       "home theater                        1\n",
       "ipod                                1\n",
       "cradle                              1\n",
       "mashed potato                       1\n",
       "chain mail                          1\n",
       "tick                                1\n",
       "timber wolf                         1\n",
       "spindle                             1\n",
       "web site                            1\n",
       "indri                               1\n",
       "Name: p2, Length: 404, dtype: int64"
      ]
     },
     "execution_count": 177,
     "metadata": {},
     "output_type": "execute_result"
    }
   ],
   "source": [
    "# Check names of \"p2\" predictions\n",
    "df_image_predictions_clean[\"p2\"].value_counts()"
   ]
  },
  {
   "cell_type": "code",
   "execution_count": 178,
   "metadata": {},
   "outputs": [
    {
     "data": {
      "text/plain": [
       "labrador retriever                79\n",
       "chihuahua                         58\n",
       "golden retriever                  48\n",
       "eskimo dog                        38\n",
       "kelpie                            35\n",
       "kuvasz                            34\n",
       "chow                              32\n",
       "staffordshire bullterrier         32\n",
       "beagle                            31\n",
       "cocker spaniel                    31\n",
       "toy poodle                        29\n",
       "pekinese                          29\n",
       "pomeranian                        29\n",
       "chesapeake bay retriever          27\n",
       "great pyrenees                    27\n",
       "pembroke                          27\n",
       "french bulldog                    26\n",
       "malamute                          26\n",
       "american staffordshire terrier    24\n",
       "cardigan                          23\n",
       "pug                               23\n",
       "basenji                           21\n",
       "toy terrier                       20\n",
       "bull mastiff                      20\n",
       "siberian husky                    19\n",
       "shetland sheepdog                 17\n",
       "boston bull                       17\n",
       "doormat                           16\n",
       "lakeland terrier                  16\n",
       "boxer                             16\n",
       "                                  ..\n",
       "bow                                1\n",
       "cab                                1\n",
       "chest                              1\n",
       "screen                             1\n",
       "ballplayer                         1\n",
       "cup                                1\n",
       "window screen                      1\n",
       "bow tie                            1\n",
       "loupe                              1\n",
       "drumstick                          1\n",
       "pot                                1\n",
       "paintbrush                         1\n",
       "cliff                              1\n",
       "viaduct                            1\n",
       "african chameleon                  1\n",
       "grey fox                           1\n",
       "grand piano                        1\n",
       "neck brace                         1\n",
       "spatula                            1\n",
       "broccoli                           1\n",
       "loggerhead                         1\n",
       "notebook                           1\n",
       "whiptail                           1\n",
       "assault rifle                      1\n",
       "french horn                        1\n",
       "buckeye                            1\n",
       "joystick                           1\n",
       "jersey                             1\n",
       "cloak                              1\n",
       "coral reef                         1\n",
       "Name: p3, Length: 408, dtype: int64"
      ]
     },
     "execution_count": 178,
     "metadata": {},
     "output_type": "execute_result"
    }
   ],
   "source": [
    "# Check names of \"p3\" predictions\n",
    "df_image_predictions_clean[\"p3\"].value_counts()"
   ]
  },
  {
   "cell_type": "markdown",
   "metadata": {},
   "source": [
    "#### Define\n",
    "* Merge the three data frames `df_twitter_archive_clean`,  `df_image_predictions_clean` and `df_twitter_api_clean` on `tweet_id` into `df_twitter_master` data frame"
   ]
  },
  {
   "cell_type": "markdown",
   "metadata": {},
   "source": [
    "#### Code"
   ]
  },
  {
   "cell_type": "code",
   "execution_count": 179,
   "metadata": {},
   "outputs": [],
   "source": [
    "# Merge the three data frames\n",
    "df_twitter_master = pd.merge(left=df_twitter_archive_clean, right=df_twitter_api_clean, how='left', on='tweet_id')\n",
    "df_twitter_master = pd.merge(left=df_twitter_master, right=df_image_predictions_clean, how='left', on='tweet_id')"
   ]
  },
  {
   "cell_type": "markdown",
   "metadata": {},
   "source": [
    "#### Test"
   ]
  },
  {
   "cell_type": "code",
   "execution_count": 180,
   "metadata": {},
   "outputs": [
    {
     "data": {
      "text/html": [
       "<div>\n",
       "<style scoped>\n",
       "    .dataframe tbody tr th:only-of-type {\n",
       "        vertical-align: middle;\n",
       "    }\n",
       "\n",
       "    .dataframe tbody tr th {\n",
       "        vertical-align: top;\n",
       "    }\n",
       "\n",
       "    .dataframe thead th {\n",
       "        text-align: right;\n",
       "    }\n",
       "</style>\n",
       "<table border=\"1\" class=\"dataframe\">\n",
       "  <thead>\n",
       "    <tr style=\"text-align: right;\">\n",
       "      <th></th>\n",
       "      <th>tweet_id</th>\n",
       "      <th>timestamp</th>\n",
       "      <th>source</th>\n",
       "      <th>text</th>\n",
       "      <th>expanded_urls</th>\n",
       "      <th>rating_numerator</th>\n",
       "      <th>rating_denominator</th>\n",
       "      <th>name</th>\n",
       "      <th>dog_stage</th>\n",
       "      <th>retweet_count</th>\n",
       "      <th>...</th>\n",
       "      <th>img_num</th>\n",
       "      <th>p1</th>\n",
       "      <th>p1_conf</th>\n",
       "      <th>p1_dog</th>\n",
       "      <th>p2</th>\n",
       "      <th>p2_conf</th>\n",
       "      <th>p2_dog</th>\n",
       "      <th>p3</th>\n",
       "      <th>p3_conf</th>\n",
       "      <th>p3_dog</th>\n",
       "    </tr>\n",
       "  </thead>\n",
       "  <tbody>\n",
       "    <tr>\n",
       "      <th>0</th>\n",
       "      <td>892420643555336193</td>\n",
       "      <td>2017-08-01 16:23:56</td>\n",
       "      <td>&lt;a href=\"http://twitter.com/download/iphone\" r...</td>\n",
       "      <td>This is Phineas. He's a mystical boy. Only eve...</td>\n",
       "      <td>https://twitter.com/dog_rates/status/892420643...</td>\n",
       "      <td>13</td>\n",
       "      <td>10</td>\n",
       "      <td>Phineas</td>\n",
       "      <td>None</td>\n",
       "      <td>8853</td>\n",
       "      <td>...</td>\n",
       "      <td>1.0</td>\n",
       "      <td>orange</td>\n",
       "      <td>0.097049</td>\n",
       "      <td>False</td>\n",
       "      <td>bagel</td>\n",
       "      <td>0.085851</td>\n",
       "      <td>False</td>\n",
       "      <td>banana</td>\n",
       "      <td>0.076110</td>\n",
       "      <td>False</td>\n",
       "    </tr>\n",
       "    <tr>\n",
       "      <th>1</th>\n",
       "      <td>892177421306343426</td>\n",
       "      <td>2017-08-01 00:17:27</td>\n",
       "      <td>&lt;a href=\"http://twitter.com/download/iphone\" r...</td>\n",
       "      <td>This is Tilly. She's just checking pup on you....</td>\n",
       "      <td>https://twitter.com/dog_rates/status/892177421...</td>\n",
       "      <td>13</td>\n",
       "      <td>10</td>\n",
       "      <td>Tilly</td>\n",
       "      <td>None</td>\n",
       "      <td>6514</td>\n",
       "      <td>...</td>\n",
       "      <td>1.0</td>\n",
       "      <td>chihuahua</td>\n",
       "      <td>0.323581</td>\n",
       "      <td>True</td>\n",
       "      <td>pekinese</td>\n",
       "      <td>0.090647</td>\n",
       "      <td>True</td>\n",
       "      <td>papillon</td>\n",
       "      <td>0.068957</td>\n",
       "      <td>True</td>\n",
       "    </tr>\n",
       "    <tr>\n",
       "      <th>2</th>\n",
       "      <td>891815181378084864</td>\n",
       "      <td>2017-07-31 00:18:03</td>\n",
       "      <td>&lt;a href=\"http://twitter.com/download/iphone\" r...</td>\n",
       "      <td>This is Archie. He is a rare Norwegian Pouncin...</td>\n",
       "      <td>https://twitter.com/dog_rates/status/891815181...</td>\n",
       "      <td>12</td>\n",
       "      <td>10</td>\n",
       "      <td>Archie</td>\n",
       "      <td>None</td>\n",
       "      <td>4328</td>\n",
       "      <td>...</td>\n",
       "      <td>1.0</td>\n",
       "      <td>chihuahua</td>\n",
       "      <td>0.716012</td>\n",
       "      <td>True</td>\n",
       "      <td>malamute</td>\n",
       "      <td>0.078253</td>\n",
       "      <td>True</td>\n",
       "      <td>kelpie</td>\n",
       "      <td>0.031379</td>\n",
       "      <td>True</td>\n",
       "    </tr>\n",
       "    <tr>\n",
       "      <th>3</th>\n",
       "      <td>891689557279858688</td>\n",
       "      <td>2017-07-30 15:58:51</td>\n",
       "      <td>&lt;a href=\"http://twitter.com/download/iphone\" r...</td>\n",
       "      <td>This is Darla. She commenced a snooze mid meal...</td>\n",
       "      <td>https://twitter.com/dog_rates/status/891689557...</td>\n",
       "      <td>13</td>\n",
       "      <td>10</td>\n",
       "      <td>Darla</td>\n",
       "      <td>None</td>\n",
       "      <td>8964</td>\n",
       "      <td>...</td>\n",
       "      <td>1.0</td>\n",
       "      <td>paper towel</td>\n",
       "      <td>0.170278</td>\n",
       "      <td>False</td>\n",
       "      <td>labrador retriever</td>\n",
       "      <td>0.168086</td>\n",
       "      <td>True</td>\n",
       "      <td>spatula</td>\n",
       "      <td>0.040836</td>\n",
       "      <td>False</td>\n",
       "    </tr>\n",
       "    <tr>\n",
       "      <th>4</th>\n",
       "      <td>891327558926688256</td>\n",
       "      <td>2017-07-29 16:00:24</td>\n",
       "      <td>&lt;a href=\"http://twitter.com/download/iphone\" r...</td>\n",
       "      <td>This is Franklin. He would like you to stop ca...</td>\n",
       "      <td>https://twitter.com/dog_rates/status/891327558...</td>\n",
       "      <td>12</td>\n",
       "      <td>10</td>\n",
       "      <td>Franklin</td>\n",
       "      <td>None</td>\n",
       "      <td>9774</td>\n",
       "      <td>...</td>\n",
       "      <td>2.0</td>\n",
       "      <td>basset</td>\n",
       "      <td>0.555712</td>\n",
       "      <td>True</td>\n",
       "      <td>english springer</td>\n",
       "      <td>0.225770</td>\n",
       "      <td>True</td>\n",
       "      <td>german short-haired pointer</td>\n",
       "      <td>0.175219</td>\n",
       "      <td>True</td>\n",
       "    </tr>\n",
       "  </tbody>\n",
       "</table>\n",
       "<p>5 rows × 22 columns</p>\n",
       "</div>"
      ],
      "text/plain": [
       "             tweet_id           timestamp  \\\n",
       "0  892420643555336193 2017-08-01 16:23:56   \n",
       "1  892177421306343426 2017-08-01 00:17:27   \n",
       "2  891815181378084864 2017-07-31 00:18:03   \n",
       "3  891689557279858688 2017-07-30 15:58:51   \n",
       "4  891327558926688256 2017-07-29 16:00:24   \n",
       "\n",
       "                                              source  \\\n",
       "0  <a href=\"http://twitter.com/download/iphone\" r...   \n",
       "1  <a href=\"http://twitter.com/download/iphone\" r...   \n",
       "2  <a href=\"http://twitter.com/download/iphone\" r...   \n",
       "3  <a href=\"http://twitter.com/download/iphone\" r...   \n",
       "4  <a href=\"http://twitter.com/download/iphone\" r...   \n",
       "\n",
       "                                                text  \\\n",
       "0  This is Phineas. He's a mystical boy. Only eve...   \n",
       "1  This is Tilly. She's just checking pup on you....   \n",
       "2  This is Archie. He is a rare Norwegian Pouncin...   \n",
       "3  This is Darla. She commenced a snooze mid meal...   \n",
       "4  This is Franklin. He would like you to stop ca...   \n",
       "\n",
       "                                       expanded_urls  rating_numerator  \\\n",
       "0  https://twitter.com/dog_rates/status/892420643...                13   \n",
       "1  https://twitter.com/dog_rates/status/892177421...                13   \n",
       "2  https://twitter.com/dog_rates/status/891815181...                12   \n",
       "3  https://twitter.com/dog_rates/status/891689557...                13   \n",
       "4  https://twitter.com/dog_rates/status/891327558...                12   \n",
       "\n",
       "   rating_denominator      name dog_stage  retweet_count  ...    img_num  \\\n",
       "0                  10   Phineas      None           8853  ...        1.0   \n",
       "1                  10     Tilly      None           6514  ...        1.0   \n",
       "2                  10    Archie      None           4328  ...        1.0   \n",
       "3                  10     Darla      None           8964  ...        1.0   \n",
       "4                  10  Franklin      None           9774  ...        2.0   \n",
       "\n",
       "            p1   p1_conf p1_dog                  p2   p2_conf p2_dog  \\\n",
       "0       orange  0.097049  False               bagel  0.085851  False   \n",
       "1    chihuahua  0.323581   True            pekinese  0.090647   True   \n",
       "2    chihuahua  0.716012   True            malamute  0.078253   True   \n",
       "3  paper towel  0.170278  False  labrador retriever  0.168086   True   \n",
       "4       basset  0.555712   True    english springer  0.225770   True   \n",
       "\n",
       "                            p3   p3_conf p3_dog  \n",
       "0                       banana  0.076110  False  \n",
       "1                     papillon  0.068957   True  \n",
       "2                       kelpie  0.031379   True  \n",
       "3                      spatula  0.040836  False  \n",
       "4  german short-haired pointer  0.175219   True  \n",
       "\n",
       "[5 rows x 22 columns]"
      ]
     },
     "execution_count": 180,
     "metadata": {},
     "output_type": "execute_result"
    }
   ],
   "source": [
    "df_twitter_master.head()"
   ]
  },
  {
   "cell_type": "code",
   "execution_count": 181,
   "metadata": {},
   "outputs": [
    {
     "name": "stdout",
     "output_type": "stream",
     "text": [
      "<class 'pandas.core.frame.DataFrame'>\n",
      "Int64Index: 2071 entries, 0 to 2070\n",
      "Data columns (total 22 columns):\n",
      "tweet_id              2071 non-null int64\n",
      "timestamp             2071 non-null datetime64[ns]\n",
      "source                2071 non-null object\n",
      "text                  2071 non-null object\n",
      "expanded_urls         2071 non-null object\n",
      "rating_numerator      2071 non-null int64\n",
      "rating_denominator    2071 non-null int64\n",
      "name                  2071 non-null object\n",
      "dog_stage             2071 non-null object\n",
      "retweet_count         2071 non-null int64\n",
      "favorite_count        2071 non-null int64\n",
      "jpg_url               1948 non-null object\n",
      "img_num               1948 non-null float64\n",
      "p1                    1948 non-null object\n",
      "p1_conf               1948 non-null float64\n",
      "p1_dog                1948 non-null object\n",
      "p2                    1948 non-null object\n",
      "p2_conf               1948 non-null float64\n",
      "p2_dog                1948 non-null object\n",
      "p3                    1948 non-null object\n",
      "p3_conf               1948 non-null float64\n",
      "p3_dog                1948 non-null object\n",
      "dtypes: datetime64[ns](1), float64(4), int64(5), object(12)\n",
      "memory usage: 372.1+ KB\n"
     ]
    }
   ],
   "source": [
    "df_twitter_master.info()"
   ]
  },
  {
   "cell_type": "markdown",
   "metadata": {},
   "source": [
    "#### Define\n",
    "* It seems some of the tweets don't have images associated, so we will remove them"
   ]
  },
  {
   "cell_type": "markdown",
   "metadata": {},
   "source": [
    "#### Code"
   ]
  },
  {
   "cell_type": "code",
   "execution_count": 182,
   "metadata": {},
   "outputs": [],
   "source": [
    "# Drop null entries\n",
    "df_twitter_master.dropna(axis = 0, inplace=True)"
   ]
  },
  {
   "cell_type": "markdown",
   "metadata": {},
   "source": [
    "#### Test"
   ]
  },
  {
   "cell_type": "code",
   "execution_count": 183,
   "metadata": {},
   "outputs": [
    {
     "name": "stdout",
     "output_type": "stream",
     "text": [
      "<class 'pandas.core.frame.DataFrame'>\n",
      "Int64Index: 1948 entries, 0 to 2070\n",
      "Data columns (total 22 columns):\n",
      "tweet_id              1948 non-null int64\n",
      "timestamp             1948 non-null datetime64[ns]\n",
      "source                1948 non-null object\n",
      "text                  1948 non-null object\n",
      "expanded_urls         1948 non-null object\n",
      "rating_numerator      1948 non-null int64\n",
      "rating_denominator    1948 non-null int64\n",
      "name                  1948 non-null object\n",
      "dog_stage             1948 non-null object\n",
      "retweet_count         1948 non-null int64\n",
      "favorite_count        1948 non-null int64\n",
      "jpg_url               1948 non-null object\n",
      "img_num               1948 non-null float64\n",
      "p1                    1948 non-null object\n",
      "p1_conf               1948 non-null float64\n",
      "p1_dog                1948 non-null object\n",
      "p2                    1948 non-null object\n",
      "p2_conf               1948 non-null float64\n",
      "p2_dog                1948 non-null object\n",
      "p3                    1948 non-null object\n",
      "p3_conf               1948 non-null float64\n",
      "p3_dog                1948 non-null object\n",
      "dtypes: datetime64[ns](1), float64(4), int64(5), object(12)\n",
      "memory usage: 350.0+ KB\n"
     ]
    }
   ],
   "source": [
    "# Check data frame info to verify there are no null values\n",
    "df_twitter_master.info()"
   ]
  },
  {
   "cell_type": "markdown",
   "metadata": {},
   "source": [
    "<a id='storing'></a>\n",
    "### Saving the cleaned data\n",
    "\n",
    "Now that our data is cleaned, we will save the `df_twitter_master` data frame in the `twitter_archive_master.csv` file. "
   ]
  },
  {
   "cell_type": "code",
   "execution_count": 184,
   "metadata": {},
   "outputs": [],
   "source": [
    "# Save our cleaned dataframe in twitter_archive_master.csv\n",
    "df_twitter_master.to_csv('twitter_archive_master.csv', index=False)"
   ]
  },
  {
   "cell_type": "markdown",
   "metadata": {},
   "source": [
    "<a id='conclusions'></a>\n",
    "### Insights and Conclusions\n",
    "\n",
    "Based on our clean data, we'll pose some questions in order to get some insights about the information that `WeRateDogs` offers. "
   ]
  },
  {
   "cell_type": "markdown",
   "metadata": {},
   "source": [
    "#### Q1: What are the 15 most common dog breeds in the dataset?\n",
    "\n",
    "To answer this we'll investigate the values of prediction P1, which seems to be the most reliable in general."
   ]
  },
  {
   "cell_type": "code",
   "execution_count": 185,
   "metadata": {},
   "outputs": [
    {
     "name": "stdout",
     "output_type": "stream",
     "text": [
      "golden retriever            134\n",
      "labrador retriever           91\n",
      "pembroke                     88\n",
      "chihuahua                    78\n",
      "pug                          54\n",
      "chow                         41\n",
      "samoyed                      40\n",
      "pomeranian                   37\n",
      "toy poodle                   37\n",
      "malamute                     29\n",
      "cocker spaniel               27\n",
      "french bulldog               26\n",
      "chesapeake bay retriever     23\n",
      "miniature pinscher           21\n",
      "german shepherd              20\n",
      "Name: p1, dtype: int64\n"
     ]
    },
    {
     "data": {
      "text/plain": [
       "Text(0.5,1,'Fifteen most common dog breeds')"
      ]
     },
     "execution_count": 185,
     "metadata": {},
     "output_type": "execute_result"
    },
    {
     "data": {
      "image/png": "[encoded data removed]",
      "text/plain": [
       "<matplotlib.figure.Figure at 0x7f27600f0ba8>"
      ]
     },
     "metadata": {
      "needs_background": "light"
     },
     "output_type": "display_data"
    }
   ],
   "source": [
    "# Check value counts of 15 most common dog names (only include values of P1 where p1_dog is True)\n",
    "print(df_twitter_master.query(\"p1_dog == True\")[\"p1\"].value_counts()[0:15])\n",
    "\n",
    "# Bar plot\n",
    "plt.figure(figsize=(12,6)) \n",
    "df_twitter_master.query(\"p1_dog == True\")[\"p1\"].value_counts()[0:15].plot.bar(color=\"mediumslateblue\", rot=55)\n",
    "plt.xlabel(\"Dog breeds\", fontsize=14)\n",
    "plt.ylabel(\"Counts\", fontsize=14)\n",
    "plt.title(\"Fifteen most common dog breeds\", fontsize=16)"
   ]
  },
  {
   "cell_type": "markdown",
   "metadata": {},
   "source": [
    "As it can be seen, the most common dog breed predicted by the neural network in this dataset is by far golden retriever."
   ]
  },
  {
   "cell_type": "markdown",
   "metadata": {},
   "source": [
    "#### Q2: Is there a correlation between Twitter favorites (likes) and retweets?"
   ]
  },
  {
   "cell_type": "markdown",
   "metadata": {},
   "source": [
    "We'll plot the two variables `favorite_count` and `retweet_count` together in a scatter plot and then calculate Pearson's correlation coefficient."
   ]
  },
  {
   "cell_type": "code",
   "execution_count": 186,
   "metadata": {},
   "outputs": [
    {
     "data": {
      "text/plain": [
       "Text(0.5,1,'Relationship between favorites and retweets')"
      ]
     },
     "execution_count": 186,
     "metadata": {},
     "output_type": "execute_result"
    },
    {
     "data": {
      "image/png": "[encoded data removed]",
      "text/plain": [
       "<matplotlib.figure.Figure at 0x7f27601502b0>"
      ]
     },
     "metadata": {
      "needs_background": "light"
     },
     "output_type": "display_data"
    }
   ],
   "source": [
    "# Scatter plot between favorite count and retweet count\n",
    "plt.figure(figsize=(10,6)) \n",
    "plt.scatter(x=df_twitter_master[\"favorite_count\"], y=df_twitter_master[\"retweet_count\"], color=\"mediumslateblue\");\n",
    "plt.xlabel(\"Favorite count\", fontsize=14)\n",
    "plt.ylabel(\"Retweet count\", fontsize=14)\n",
    "plt.title(\"Relationship between favorites and retweets\",fontsize=16)"
   ]
  },
  {
   "cell_type": "code",
   "execution_count": 187,
   "metadata": {},
   "outputs": [
    {
     "data": {
      "text/plain": [
       "0.91342507815212126"
      ]
     },
     "execution_count": 187,
     "metadata": {},
     "output_type": "execute_result"
    }
   ],
   "source": [
    "# Calculate pairwise correlation coeficient\n",
    "df_twitter_master['favorite_count'].corr(df_twitter_master['retweet_count'])"
   ]
  },
  {
   "cell_type": "markdown",
   "metadata": {},
   "source": [
    "The correlation coefficient we obtained is consistent with what is observed in the graph. There seems to be a correlation between faving (liking) a tweet and retweeting it."
   ]
  },
  {
   "cell_type": "markdown",
   "metadata": {},
   "source": [
    "#### Q3: What are the 15 most common dog names? "
   ]
  },
  {
   "cell_type": "markdown",
   "metadata": {},
   "source": [
    "We'll plot in a bar chart the 15 dog names that appear most frequently in the dataset."
   ]
  },
  {
   "cell_type": "code",
   "execution_count": 188,
   "metadata": {},
   "outputs": [
    {
     "name": "stdout",
     "output_type": "stream",
     "text": [
      "Charlie    11\n",
      "Lucy       10\n",
      "Oliver     10\n",
      "Cooper     10\n",
      "Tucker      9\n",
      "Penny       9\n",
      "Winston     8\n",
      "Sadie       8\n",
      "Lola        7\n",
      "Daisy       7\n",
      "Toby        7\n",
      "Bo          6\n",
      "Jax         6\n",
      "Koda        6\n",
      "Bella       6\n",
      "Name: name, dtype: int64\n"
     ]
    },
    {
     "data": {
      "text/plain": [
       "Text(0.5,1,'Fifteen most common dog names')"
      ]
     },
     "execution_count": 188,
     "metadata": {},
     "output_type": "execute_result"
    },
    {
     "data": {
      "image/png": "[encoded data removed]",
      "text/plain": [
       "<matplotlib.figure.Figure at 0x7f275b9c2518>"
      ]
     },
     "metadata": {
      "needs_background": "light"
     },
     "output_type": "display_data"
    }
   ],
   "source": [
    "# Check value counts of 15 most common dog names\n",
    "print(df_twitter_master[\"name\"].value_counts()[1:16])\n",
    "\n",
    "# Bar plot\n",
    "plt.figure(figsize=(10,6)) \n",
    "df_twitter_master[\"name\"].value_counts()[1:16].plot.bar(color=\"mediumslateblue\")\n",
    "plt.xlabel(\"Dog names\", fontsize= 14)\n",
    "plt.ylabel(\"Counts\", fontsize=14)\n",
    "plt.title(\"Fifteen most common dog names\", fontsize =16)"
   ]
  },
  {
   "cell_type": "markdown",
   "metadata": {},
   "source": [
    "We see that the most common dog name for this cleaned dataset is \"Charlie\"."
   ]
  },
  {
   "cell_type": "markdown",
   "metadata": {},
   "source": [
    "#### Q4: How is the distribution of dog stages?"
   ]
  },
  {
   "cell_type": "markdown",
   "metadata": {},
   "source": [
    "Finally, we'll plot in a bar chart the number of dogs corresponding to each stage: `doggo`, `floofer`, `pupper` and `puppo`."
   ]
  },
  {
   "cell_type": "code",
   "execution_count": 189,
   "metadata": {},
   "outputs": [
    {
     "name": "stdout",
     "output_type": "stream",
     "text": [
      "pupper     214\n",
      "doggo       70\n",
      "puppo       28\n",
      "floofer      3\n",
      "Name: dog_stage, dtype: int64\n"
     ]
    },
    {
     "data": {
      "text/plain": [
       "Text(0.5,1,'Amount of dogs in each stage')"
      ]
     },
     "execution_count": 189,
     "metadata": {},
     "output_type": "execute_result"
    },
    {
     "data": {
      "image/png": "[encoded data removed]",
      "text/plain": [
       "<matplotlib.figure.Figure at 0x7f275c2d54a8>"
      ]
     },
     "metadata": {
      "needs_background": "light"
     },
     "output_type": "display_data"
    }
   ],
   "source": [
    "# Check value counts of dog stages (do not include Nones)\n",
    "print(df_twitter_master[\"dog_stage\"].value_counts()[1:])\n",
    "\n",
    "# Bar plot\n",
    "plt.figure(figsize=(10,6)) \n",
    "df_twitter_master[\"dog_stage\"].value_counts()[1:5].plot.bar(color=\"mediumslateblue\",rot=45)\n",
    "plt.xlabel(\"Dog stages\", fontsize=14)\n",
    "plt.ylabel(\"Counts\", fontsize=14)\n",
    "plt.title(\"Amount of dogs in each stage\", fontsize=16)"
   ]
  },
  {
   "cell_type": "markdown",
   "metadata": {},
   "source": [
    "The most common dog stage by far is `pupper`, while the least common is `floofer`."
   ]
  },
  {
   "cell_type": "markdown",
   "metadata": {},
   "source": [
    "<a id='references'></a>\n",
    "### References\n",
    "\n",
    "[1] \"WeRateDogs\" Wikipedia page https://en.wikipedia.org/wiki/WeRateDogs"
   ]
  }
 ],
 "metadata": {
  "kernelspec": {
   "display_name": "Python 3",
   "language": "python",
   "name": "python3"
  },
  "language_info": {
   "codemirror_mode": {
    "name": "ipython",
    "version": 3
   },
   "file_extension": ".py",
   "mimetype": "text/x-python",
   "name": "python",
   "nbconvert_exporter": "python",
   "pygments_lexer": "ipython3",
   "version": "3.8.8"
  }
 },
 "nbformat": 4,
 "nbformat_minor": 2
}
