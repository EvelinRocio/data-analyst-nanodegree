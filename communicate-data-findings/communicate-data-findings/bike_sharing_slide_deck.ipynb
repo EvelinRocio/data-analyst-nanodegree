{
 "cells": [
  {
   "cell_type": "markdown",
   "metadata": {
    "slideshow": {
     "slide_type": "slide"
    }
   },
   "source": [
    "# Bike Sharing System Data\n",
    "\n",
    "## by Evelin Battocchio"
   ]
  },
  {
   "cell_type": "markdown",
   "metadata": {
    "slideshow": {
     "slide_type": "slide"
    }
   },
   "source": [
    "## Contents\n",
    "\n",
    "* Dataset overview\n",
    "\n",
    "* Univariate Exploration\n",
    "\n",
    "* Bivariate Exploration\n",
    "\n",
    "* Multivariate Exploration\n",
    "\n",
    "* Conclusions"
   ]
  },
  {
   "cell_type": "markdown",
   "metadata": {
    "slideshow": {
     "slide_type": "slide"
    }
   },
   "source": [
    "## Investigation Overview\n",
    "\n",
    "In this presentation, I'll investigate a dataset about individual rides made in the bike-sharing system provided by Bay Wheels in 2019, which covers the greater San Francisco Bay area. \n",
    "\n",
    "## Dataset Overview\n",
    "\n",
    "The dataset contains 16 columns and 2407259 entries, representing information about:\n",
    "\n",
    "\n",
    "* Bike ride duration, start and end time\n",
    "* Start station ID, name, latitude and longitude\n",
    "* End station ID, name, latitude and longitude\n",
    "* Bike ID\n",
    "* User type: either Subscriber or Customer\n"
   ]
  },
  {
   "cell_type": "code",
   "execution_count": 4,
   "metadata": {
    "slideshow": {
     "slide_type": "skip"
    }
   },
   "outputs": [],
   "source": [
    "# import all packages and set plots to be embedded inline\n",
    "import numpy as np\n",
    "import pandas as pd\n",
    "import matplotlib.pyplot as plt\n",
    "import seaborn as sb\n",
    "import glob\n",
    "\n",
    "%matplotlib inline\n",
    "\n",
    "# suppress warnings from final output\n",
    "import warnings\n",
    "warnings.simplefilter(\"ignore\")"
   ]
  },
  {
   "cell_type": "code",
   "execution_count": 5,
   "metadata": {
    "slideshow": {
     "slide_type": "skip"
    }
   },
   "outputs": [],
   "source": [
    "# Join data from all months of 2019\n",
    "df = pd.concat([pd.read_csv(file) for file in glob.glob(\"Data/*.csv\")], ignore_index=True)\n",
    "\n",
    "# Drop unnecessary columns\n",
    "df.drop([\"bike_share_for_all_trip\", \"rental_access_method\"], axis=1, inplace=True)\n",
    "df.head()\n",
    "\n",
    "# Drop rows with null values\n",
    "df.dropna(inplace=True)\n",
    "\n",
    "# Convert start_time and end_time to datetime\n",
    "df[\"start_time\"] = pd.to_datetime(df[\"start_time\"])\n",
    "df[\"end_time\"] = pd.to_datetime(df[\"end_time\"])\n",
    "\n",
    "# Convert start_station_id and end_station_id to int64\n",
    "df[\"start_station_id\"] = df[\"start_station_id\"].astype(\"int64\")\n",
    "df[\"end_station_id\"] = df[\"end_station_id\"].astype(\"int64\")\n",
    "\n",
    "# Create column for starting month\n",
    "df[\"start_month\"] = pd.DatetimeIndex(df['start_time']).month\n",
    "\n",
    "# Create column for starting day\n",
    "df[\"start_day\"] = pd.DatetimeIndex(df['start_time']).weekday\n",
    "\n",
    "# Add column with duration in minutes\n",
    "df[\"duration_min\"] = df[\"duration_sec\"]/60"
   ]
  },
  {
   "cell_type": "code",
   "execution_count": 6,
   "metadata": {
    "slideshow": {
     "slide_type": "skip"
    }
   },
   "outputs": [
    {
     "name": "stdout",
     "output_type": "stream",
     "text": [
      "<class 'pandas.core.frame.DataFrame'>\n",
      "Int64Index: 2407259 entries, 0 to 2506660\n",
      "Data columns (total 16 columns):\n",
      " #   Column                   Non-Null Count    Dtype         \n",
      "---  ------                   --------------    -----         \n",
      " 0   duration_sec             2407259 non-null  int64         \n",
      " 1   start_time               2407259 non-null  datetime64[ns]\n",
      " 2   end_time                 2407259 non-null  datetime64[ns]\n",
      " 3   start_station_id         2407259 non-null  int64         \n",
      " 4   start_station_name       2407259 non-null  object        \n",
      " 5   start_station_latitude   2407259 non-null  float64       \n",
      " 6   start_station_longitude  2407259 non-null  float64       \n",
      " 7   end_station_id           2407259 non-null  int64         \n",
      " 8   end_station_name         2407259 non-null  object        \n",
      " 9   end_station_latitude     2407259 non-null  float64       \n",
      " 10  end_station_longitude    2407259 non-null  float64       \n",
      " 11  bike_id                  2407259 non-null  int64         \n",
      " 12  user_type                2407259 non-null  object        \n",
      " 13  start_month              2407259 non-null  int64         \n",
      " 14  start_day                2407259 non-null  int64         \n",
      " 15  duration_min             2407259 non-null  float64       \n",
      "dtypes: datetime64[ns](2), float64(5), int64(6), object(3)\n",
      "memory usage: 312.2+ MB\n"
     ]
    }
   ],
   "source": [
    "df.info(verbose=True, null_counts=True)"
   ]
  },
  {
   "cell_type": "markdown",
   "metadata": {
    "slideshow": {
     "slide_type": "slide"
    }
   },
   "source": [
    "## Visualization 1: Ride count per user type\n",
    "\n",
    "We'll first evaluate the distribution of bike rides according to the type of user: subscriber or customer"
   ]
  },
  {
   "cell_type": "code",
   "execution_count": 7,
   "metadata": {
    "slideshow": {
     "slide_type": "subslide"
    }
   },
   "outputs": [
    {
     "data": {
      "image/png": "[encoded data removed]",
      "text/plain": [
       "<Figure size 864x432 with 1 Axes>"
      ]
     },
     "metadata": {
      "needs_background": "light"
     },
     "output_type": "display_data"
    }
   ],
   "source": [
    "# Plot distribution of rides according to user type\n",
    "user_counts = df[\"user_type\"].value_counts()\n",
    "plt.figure(figsize=(12, 6))\n",
    "\n",
    "# Bar chart\n",
    "plt.subplot(1, 2, 1)\n",
    "plt.bar(user_counts.index, user_counts.values, color=[\"steelblue\", \"mediumseagreen\"]) \n",
    "plt.title('Distribution of rides per user type', fontsize=16)\n",
    "plt.xlabel('User type', fontsize=14)\n",
    "plt.ylabel('Rides count', fontsize=14)\n",
    "plt.ticklabel_format(style='plain', axis='y')"
   ]
  },
  {
   "cell_type": "markdown",
   "metadata": {
    "collapsed": true,
    "slideshow": {
     "slide_type": "slide"
    }
   },
   "source": [
    "## Visualization 2: Number of rides per day of week\n",
    "\n",
    "Next, we'll plot the distribution of rides in each day of the week, taking into account the information on the ride starting time."
   ]
  },
  {
   "cell_type": "code",
   "execution_count": 8,
   "metadata": {
    "slideshow": {
     "slide_type": "subslide"
    }
   },
   "outputs": [
    {
     "data": {
      "image/png": "[encoded data removed]",
      "text/plain": [
       "<Figure size 864x432 with 1 Axes>"
      ]
     },
     "metadata": {
      "needs_background": "light"
     },
     "output_type": "display_data"
    }
   ],
   "source": [
    "# Plot distribution of rides per day as countplot\n",
    "plt.figure(figsize=(12, 6))\n",
    "sb.countplot(data=df,x='start_day', palette=\"viridis\");\n",
    "plt.title('Distribution of rides per day of week', fontsize=16);\n",
    "plt.xlabel('Day of week', fontsize=14);\n",
    "plt.ylabel('Rides count', fontsize=14);\n",
    "plt.xticks([0,1,2,3,4,5,6],[\"Mon\", \"Tue\", \"Wed\", \"Thu\", \"Fri\", \"Sat\", \"Sun\"]);"
   ]
  },
  {
   "cell_type": "markdown",
   "metadata": {
    "slideshow": {
     "slide_type": "slide"
    }
   },
   "source": [
    "## Visualization 3: Mean trip duration per day of week and user type\n",
    "\n",
    "Now we'll observe the relationship between bike ride duration, day of the week and user type."
   ]
  },
  {
   "cell_type": "code",
   "execution_count": 9,
   "metadata": {
    "slideshow": {
     "slide_type": "subslide"
    }
   },
   "outputs": [
    {
     "data": {
      "image/png": "[encoded data removed]",
      "text/plain": [
       "<Figure size 864x432 with 1 Axes>"
      ]
     },
     "metadata": {
      "needs_background": "light"
     },
     "output_type": "display_data"
    }
   ],
   "source": [
    "# Plot trip duration per day of week and user type as barplot\n",
    "plt.figure(figsize =(12, 6)) \n",
    "sb.barplot(data=df, x=\"start_day\", y=\"duration_min\", hue=\"user_type\", palette=\"viridis\")\n",
    "plt.title('Mean trip duration per day of week', fontsize=16)\n",
    "plt.xlabel('Day of week', fontsize=14)\n",
    "plt.ylabel('Mean trip duration [min]', fontsize=14)\n",
    "plt.xticks([0,1,2,3,4,5,6],[\"Mon\", \"Tue\", \"Wed\", \"Thu\", \"Fri\", \"Sat\", \"Sun\"]);"
   ]
  },
  {
   "cell_type": "markdown",
   "metadata": {
    "slideshow": {
     "slide_type": "slide"
    }
   },
   "source": [
    "## Conclusions\n",
    "\n",
    "* Approximately 80% of the people who use the bicycles are subscribers, while the remaining 20% are occasional users.\n",
    "\n",
    "* The use of the bike sharing system remains almost constant during the week, but drops significantly on the weekends.\n",
    "\n",
    "* On average, the duration of bike rides is longer for occasional customers than for subscribed users.\n",
    "\n",
    "* Trip lengths are longer on the weekends, and this is mainly attributed to occasional users. "
   ]
  }
 ],
 "metadata": {
  "celltoolbar": "Slideshow",
  "kernelspec": {
   "display_name": "Python 3",
   "language": "python",
   "name": "python3"
  },
  "language_info": {
   "codemirror_mode": {
    "name": "ipython",
    "version": 3
   },
   "file_extension": ".py",
   "mimetype": "text/x-python",
   "name": "python",
   "nbconvert_exporter": "python",
   "pygments_lexer": "ipython3",
   "version": "3.8.8"
  }
 },
 "nbformat": 4,
 "nbformat_minor": 2
}
