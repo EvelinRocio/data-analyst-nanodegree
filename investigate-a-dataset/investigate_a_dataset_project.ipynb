{
 "cells": [
  {
   "cell_type": "markdown",
   "metadata": {},
   "source": [
    "# Project: Medical Appointments No-Shows Analysis"
   ]
  },
  {
   "cell_type": "markdown",
   "metadata": {},
   "source": [
    "## Table of Contents\n",
    "<ul>\n",
    "<li><a href=\"#intro\">Introduction</a></li>\n",
    "<li><a href=\"#wrangling\">Data Wrangling</a></li>\n",
    "<li><a href=\"#eda\">Exploratory Data Analysis</a></li>\n",
    "<li><a href=\"#conclusions\">Conclusions</a></li>\n",
    "</ul>"
   ]
  },
  {
   "cell_type": "markdown",
   "metadata": {},
   "source": [
    "<a id='intro'></a>\n",
    "## Introduction\n",
    "\n",
    "This dataset contains information on more than 110k medical appointments scheduled in Brazil in 2016. According to the data source [1], the following variables regarding appointments and patients are available for each entry in the dataset:\n",
    "\n",
    "- Patient ID\n",
    "- Appointment ID\n",
    "- Gender of the patient\n",
    "- Age of the patient\n",
    "- Neighbourhood where the appointment takes place\n",
    "- Scholarship: whether or not the patient receives help from the social welfare program Bolsa Familia [2]\n",
    "- Hypertension: whether or not the patient suffers from this disease\n",
    "- Diabetes: whether or not the patient suffers from this disease\n",
    "- Alcoholism: whether or not the patient suffers from this disease \n",
    "- Handicap: number of disabilities that the patient has \n",
    "- Date when the appointment was scheduled\n",
    "- Date of the actual appointment\n",
    "- SMS received: whether or not the patient received a reminder of the appointment by SMS\n",
    "\n",
    "Finally, there is a dependent variable that determines whether the patient attended the appointment or not. \n",
    "\n",
    "The goal of this analysis is to explore which factors are associated with a patient attending a medical appointment. Some possible questions to support this analysis are:\n",
    "\n",
    "- How does appointment attendance vary according to the patient's age and gender? Do women attend more than men? Do older people attend more than younger people? \n",
    "- Do people with pre-existing illnesses (hypertension, diabetes, alcoholism) or with a disability tend to respect medical appointments more?\n",
    "- Do people who receive help from the government tend to go to the doctor more than those who do not?\n",
    "- Do people who receive an SMS reminder tend to miss less appointments?"
   ]
  },
  {
   "cell_type": "code",
   "execution_count": 166,
   "metadata": {},
   "outputs": [],
   "source": [
    "# Import the necessary libraries\n",
    "import pandas as pd\n",
    "import numpy as np\n",
    "import matplotlib.pyplot as plt\n",
    "\n",
    "# Add the magic keyword for matplotlib to show visualizations in the notebook\n",
    "%matplotlib inline"
   ]
  },
  {
   "cell_type": "markdown",
   "metadata": {},
   "source": [
    "<a id='wrangling'></a>\n",
    "## Data Wrangling\n",
    "\n",
    "First, we'll load the dataset `no_show_appointments.csv`, which was downloaded from Kaggle [1] and saved in the current working directory. "
   ]
  },
  {
   "cell_type": "code",
   "execution_count": 2,
   "metadata": {},
   "outputs": [
    {
     "data": {
      "text/html": [
       "<div>\n",
       "<style scoped>\n",
       "    .dataframe tbody tr th:only-of-type {\n",
       "        vertical-align: middle;\n",
       "    }\n",
       "\n",
       "    .dataframe tbody tr th {\n",
       "        vertical-align: top;\n",
       "    }\n",
       "\n",
       "    .dataframe thead th {\n",
       "        text-align: right;\n",
       "    }\n",
       "</style>\n",
       "<table border=\"1\" class=\"dataframe\">\n",
       "  <thead>\n",
       "    <tr style=\"text-align: right;\">\n",
       "      <th></th>\n",
       "      <th>PatientId</th>\n",
       "      <th>AppointmentID</th>\n",
       "      <th>Gender</th>\n",
       "      <th>ScheduledDay</th>\n",
       "      <th>AppointmentDay</th>\n",
       "      <th>Age</th>\n",
       "      <th>Neighbourhood</th>\n",
       "      <th>Scholarship</th>\n",
       "      <th>Hipertension</th>\n",
       "      <th>Diabetes</th>\n",
       "      <th>Alcoholism</th>\n",
       "      <th>Handcap</th>\n",
       "      <th>SMS_received</th>\n",
       "      <th>No-show</th>\n",
       "    </tr>\n",
       "  </thead>\n",
       "  <tbody>\n",
       "    <tr>\n",
       "      <th>0</th>\n",
       "      <td>2.987250e+13</td>\n",
       "      <td>5642903</td>\n",
       "      <td>F</td>\n",
       "      <td>2016-04-29T18:38:08Z</td>\n",
       "      <td>2016-04-29T00:00:00Z</td>\n",
       "      <td>62</td>\n",
       "      <td>JARDIM DA PENHA</td>\n",
       "      <td>0</td>\n",
       "      <td>1</td>\n",
       "      <td>0</td>\n",
       "      <td>0</td>\n",
       "      <td>0</td>\n",
       "      <td>0</td>\n",
       "      <td>No</td>\n",
       "    </tr>\n",
       "    <tr>\n",
       "      <th>1</th>\n",
       "      <td>5.589978e+14</td>\n",
       "      <td>5642503</td>\n",
       "      <td>M</td>\n",
       "      <td>2016-04-29T16:08:27Z</td>\n",
       "      <td>2016-04-29T00:00:00Z</td>\n",
       "      <td>56</td>\n",
       "      <td>JARDIM DA PENHA</td>\n",
       "      <td>0</td>\n",
       "      <td>0</td>\n",
       "      <td>0</td>\n",
       "      <td>0</td>\n",
       "      <td>0</td>\n",
       "      <td>0</td>\n",
       "      <td>No</td>\n",
       "    </tr>\n",
       "    <tr>\n",
       "      <th>2</th>\n",
       "      <td>4.262962e+12</td>\n",
       "      <td>5642549</td>\n",
       "      <td>F</td>\n",
       "      <td>2016-04-29T16:19:04Z</td>\n",
       "      <td>2016-04-29T00:00:00Z</td>\n",
       "      <td>62</td>\n",
       "      <td>MATA DA PRAIA</td>\n",
       "      <td>0</td>\n",
       "      <td>0</td>\n",
       "      <td>0</td>\n",
       "      <td>0</td>\n",
       "      <td>0</td>\n",
       "      <td>0</td>\n",
       "      <td>No</td>\n",
       "    </tr>\n",
       "    <tr>\n",
       "      <th>3</th>\n",
       "      <td>8.679512e+11</td>\n",
       "      <td>5642828</td>\n",
       "      <td>F</td>\n",
       "      <td>2016-04-29T17:29:31Z</td>\n",
       "      <td>2016-04-29T00:00:00Z</td>\n",
       "      <td>8</td>\n",
       "      <td>PONTAL DE CAMBURI</td>\n",
       "      <td>0</td>\n",
       "      <td>0</td>\n",
       "      <td>0</td>\n",
       "      <td>0</td>\n",
       "      <td>0</td>\n",
       "      <td>0</td>\n",
       "      <td>No</td>\n",
       "    </tr>\n",
       "    <tr>\n",
       "      <th>4</th>\n",
       "      <td>8.841186e+12</td>\n",
       "      <td>5642494</td>\n",
       "      <td>F</td>\n",
       "      <td>2016-04-29T16:07:23Z</td>\n",
       "      <td>2016-04-29T00:00:00Z</td>\n",
       "      <td>56</td>\n",
       "      <td>JARDIM DA PENHA</td>\n",
       "      <td>0</td>\n",
       "      <td>1</td>\n",
       "      <td>1</td>\n",
       "      <td>0</td>\n",
       "      <td>0</td>\n",
       "      <td>0</td>\n",
       "      <td>No</td>\n",
       "    </tr>\n",
       "  </tbody>\n",
       "</table>\n",
       "</div>"
      ],
      "text/plain": [
       "      PatientId  AppointmentID Gender          ScheduledDay  \\\n",
       "0  2.987250e+13        5642903      F  2016-04-29T18:38:08Z   \n",
       "1  5.589978e+14        5642503      M  2016-04-29T16:08:27Z   \n",
       "2  4.262962e+12        5642549      F  2016-04-29T16:19:04Z   \n",
       "3  8.679512e+11        5642828      F  2016-04-29T17:29:31Z   \n",
       "4  8.841186e+12        5642494      F  2016-04-29T16:07:23Z   \n",
       "\n",
       "         AppointmentDay  Age      Neighbourhood  Scholarship  Hipertension  \\\n",
       "0  2016-04-29T00:00:00Z   62    JARDIM DA PENHA            0             1   \n",
       "1  2016-04-29T00:00:00Z   56    JARDIM DA PENHA            0             0   \n",
       "2  2016-04-29T00:00:00Z   62      MATA DA PRAIA            0             0   \n",
       "3  2016-04-29T00:00:00Z    8  PONTAL DE CAMBURI            0             0   \n",
       "4  2016-04-29T00:00:00Z   56    JARDIM DA PENHA            0             1   \n",
       "\n",
       "   Diabetes  Alcoholism  Handcap  SMS_received No-show  \n",
       "0         0           0        0             0      No  \n",
       "1         0           0        0             0      No  \n",
       "2         0           0        0             0      No  \n",
       "3         0           0        0             0      No  \n",
       "4         1           0        0             0      No  "
      ]
     },
     "execution_count": 2,
     "metadata": {},
     "output_type": "execute_result"
    }
   ],
   "source": [
    "# Load dataset and show first entries\n",
    "df = pd.read_csv(\"no_show_appointments.csv\")\n",
    "\n",
    "df.head()"
   ]
  },
  {
   "cell_type": "markdown",
   "metadata": {},
   "source": [
    "We can see that the columns correspond to the variables mentioned in the introduction section. It is important to mention that the last variable, named \"No-show\", takes the following values: \n",
    "- \"No\": means that the patient attended the appointment.\n",
    "- \"Yes\": means that the patient did not attend the appointment.\n",
    "\n",
    "It makes sense to transform these string values to numbers, so that `Yes` maps to 1 and `No` maps to 0. The following cell performs this operation."
   ]
  },
  {
   "cell_type": "code",
   "execution_count": 3,
   "metadata": {
    "scrolled": true
   },
   "outputs": [
    {
     "data": {
      "text/html": [
       "<div>\n",
       "<style scoped>\n",
       "    .dataframe tbody tr th:only-of-type {\n",
       "        vertical-align: middle;\n",
       "    }\n",
       "\n",
       "    .dataframe tbody tr th {\n",
       "        vertical-align: top;\n",
       "    }\n",
       "\n",
       "    .dataframe thead th {\n",
       "        text-align: right;\n",
       "    }\n",
       "</style>\n",
       "<table border=\"1\" class=\"dataframe\">\n",
       "  <thead>\n",
       "    <tr style=\"text-align: right;\">\n",
       "      <th></th>\n",
       "      <th>PatientId</th>\n",
       "      <th>AppointmentID</th>\n",
       "      <th>Gender</th>\n",
       "      <th>ScheduledDay</th>\n",
       "      <th>AppointmentDay</th>\n",
       "      <th>Age</th>\n",
       "      <th>Neighbourhood</th>\n",
       "      <th>Scholarship</th>\n",
       "      <th>Hipertension</th>\n",
       "      <th>Diabetes</th>\n",
       "      <th>Alcoholism</th>\n",
       "      <th>Handcap</th>\n",
       "      <th>SMS_received</th>\n",
       "      <th>No-show</th>\n",
       "    </tr>\n",
       "  </thead>\n",
       "  <tbody>\n",
       "    <tr>\n",
       "      <th>0</th>\n",
       "      <td>2.987250e+13</td>\n",
       "      <td>5642903</td>\n",
       "      <td>F</td>\n",
       "      <td>2016-04-29T18:38:08Z</td>\n",
       "      <td>2016-04-29T00:00:00Z</td>\n",
       "      <td>62</td>\n",
       "      <td>JARDIM DA PENHA</td>\n",
       "      <td>0</td>\n",
       "      <td>1</td>\n",
       "      <td>0</td>\n",
       "      <td>0</td>\n",
       "      <td>0</td>\n",
       "      <td>0</td>\n",
       "      <td>0</td>\n",
       "    </tr>\n",
       "    <tr>\n",
       "      <th>1</th>\n",
       "      <td>5.589978e+14</td>\n",
       "      <td>5642503</td>\n",
       "      <td>M</td>\n",
       "      <td>2016-04-29T16:08:27Z</td>\n",
       "      <td>2016-04-29T00:00:00Z</td>\n",
       "      <td>56</td>\n",
       "      <td>JARDIM DA PENHA</td>\n",
       "      <td>0</td>\n",
       "      <td>0</td>\n",
       "      <td>0</td>\n",
       "      <td>0</td>\n",
       "      <td>0</td>\n",
       "      <td>0</td>\n",
       "      <td>0</td>\n",
       "    </tr>\n",
       "    <tr>\n",
       "      <th>2</th>\n",
       "      <td>4.262962e+12</td>\n",
       "      <td>5642549</td>\n",
       "      <td>F</td>\n",
       "      <td>2016-04-29T16:19:04Z</td>\n",
       "      <td>2016-04-29T00:00:00Z</td>\n",
       "      <td>62</td>\n",
       "      <td>MATA DA PRAIA</td>\n",
       "      <td>0</td>\n",
       "      <td>0</td>\n",
       "      <td>0</td>\n",
       "      <td>0</td>\n",
       "      <td>0</td>\n",
       "      <td>0</td>\n",
       "      <td>0</td>\n",
       "    </tr>\n",
       "    <tr>\n",
       "      <th>3</th>\n",
       "      <td>8.679512e+11</td>\n",
       "      <td>5642828</td>\n",
       "      <td>F</td>\n",
       "      <td>2016-04-29T17:29:31Z</td>\n",
       "      <td>2016-04-29T00:00:00Z</td>\n",
       "      <td>8</td>\n",
       "      <td>PONTAL DE CAMBURI</td>\n",
       "      <td>0</td>\n",
       "      <td>0</td>\n",
       "      <td>0</td>\n",
       "      <td>0</td>\n",
       "      <td>0</td>\n",
       "      <td>0</td>\n",
       "      <td>0</td>\n",
       "    </tr>\n",
       "    <tr>\n",
       "      <th>4</th>\n",
       "      <td>8.841186e+12</td>\n",
       "      <td>5642494</td>\n",
       "      <td>F</td>\n",
       "      <td>2016-04-29T16:07:23Z</td>\n",
       "      <td>2016-04-29T00:00:00Z</td>\n",
       "      <td>56</td>\n",
       "      <td>JARDIM DA PENHA</td>\n",
       "      <td>0</td>\n",
       "      <td>1</td>\n",
       "      <td>1</td>\n",
       "      <td>0</td>\n",
       "      <td>0</td>\n",
       "      <td>0</td>\n",
       "      <td>0</td>\n",
       "    </tr>\n",
       "  </tbody>\n",
       "</table>\n",
       "</div>"
      ],
      "text/plain": [
       "      PatientId  AppointmentID Gender          ScheduledDay  \\\n",
       "0  2.987250e+13        5642903      F  2016-04-29T18:38:08Z   \n",
       "1  5.589978e+14        5642503      M  2016-04-29T16:08:27Z   \n",
       "2  4.262962e+12        5642549      F  2016-04-29T16:19:04Z   \n",
       "3  8.679512e+11        5642828      F  2016-04-29T17:29:31Z   \n",
       "4  8.841186e+12        5642494      F  2016-04-29T16:07:23Z   \n",
       "\n",
       "         AppointmentDay  Age      Neighbourhood  Scholarship  Hipertension  \\\n",
       "0  2016-04-29T00:00:00Z   62    JARDIM DA PENHA            0             1   \n",
       "1  2016-04-29T00:00:00Z   56    JARDIM DA PENHA            0             0   \n",
       "2  2016-04-29T00:00:00Z   62      MATA DA PRAIA            0             0   \n",
       "3  2016-04-29T00:00:00Z    8  PONTAL DE CAMBURI            0             0   \n",
       "4  2016-04-29T00:00:00Z   56    JARDIM DA PENHA            0             1   \n",
       "\n",
       "   Diabetes  Alcoholism  Handcap  SMS_received  No-show  \n",
       "0         0           0        0             0        0  \n",
       "1         0           0        0             0        0  \n",
       "2         0           0        0             0        0  \n",
       "3         0           0        0             0        0  \n",
       "4         1           0        0             0        0  "
      ]
     },
     "execution_count": 3,
     "metadata": {},
     "output_type": "execute_result"
    }
   ],
   "source": [
    "# Map \"No-show\" column string values to 0/1\n",
    "df['No-show'] = df['No-show'].map(lambda x: 1 if x == 'Yes' else 0) \n",
    "df.head()"
   ]
  },
  {
   "cell_type": "markdown",
   "metadata": {},
   "source": [
    "Below we'll explore the data statistics in more detail."
   ]
  },
  {
   "cell_type": "code",
   "execution_count": 4,
   "metadata": {},
   "outputs": [
    {
     "data": {
      "text/plain": [
       "(110527, 14)"
      ]
     },
     "execution_count": 4,
     "metadata": {},
     "output_type": "execute_result"
    }
   ],
   "source": [
    "# Check shape of dataset (number of columns and entries)\n",
    "df.shape"
   ]
  },
  {
   "cell_type": "code",
   "execution_count": 5,
   "metadata": {},
   "outputs": [
    {
     "name": "stdout",
     "output_type": "stream",
     "text": [
      "<class 'pandas.core.frame.DataFrame'>\n",
      "RangeIndex: 110527 entries, 0 to 110526\n",
      "Data columns (total 14 columns):\n",
      " #   Column          Non-Null Count   Dtype  \n",
      "---  ------          --------------   -----  \n",
      " 0   PatientId       110527 non-null  float64\n",
      " 1   AppointmentID   110527 non-null  int64  \n",
      " 2   Gender          110527 non-null  object \n",
      " 3   ScheduledDay    110527 non-null  object \n",
      " 4   AppointmentDay  110527 non-null  object \n",
      " 5   Age             110527 non-null  int64  \n",
      " 6   Neighbourhood   110527 non-null  object \n",
      " 7   Scholarship     110527 non-null  int64  \n",
      " 8   Hipertension    110527 non-null  int64  \n",
      " 9   Diabetes        110527 non-null  int64  \n",
      " 10  Alcoholism      110527 non-null  int64  \n",
      " 11  Handcap         110527 non-null  int64  \n",
      " 12  SMS_received    110527 non-null  int64  \n",
      " 13  No-show         110527 non-null  int64  \n",
      "dtypes: float64(1), int64(9), object(4)\n",
      "memory usage: 11.8+ MB\n"
     ]
    }
   ],
   "source": [
    "# Check data types and see if there is missing data\n",
    "df.info()"
   ]
  },
  {
   "cell_type": "markdown",
   "metadata": {},
   "source": [
    "As we can see, the dataset consists of 14 columns and 110527 entries, none of which contains null values. In the following cell we'll look for duplicated entries in order to remove them. "
   ]
  },
  {
   "cell_type": "code",
   "execution_count": 6,
   "metadata": {},
   "outputs": [
    {
     "data": {
      "text/plain": [
       "0"
      ]
     },
     "execution_count": 6,
     "metadata": {},
     "output_type": "execute_result"
    }
   ],
   "source": [
    "# Check for duplicates\n",
    "sum(df.duplicated())"
   ]
  },
  {
   "cell_type": "markdown",
   "metadata": {},
   "source": [
    "There seems to be no duplicates, so there's no need to delete entries for now. Next, we'll observe the statistical description of the quantitative variables:"
   ]
  },
  {
   "cell_type": "code",
   "execution_count": 7,
   "metadata": {},
   "outputs": [
    {
     "data": {
      "text/html": [
       "<div>\n",
       "<style scoped>\n",
       "    .dataframe tbody tr th:only-of-type {\n",
       "        vertical-align: middle;\n",
       "    }\n",
       "\n",
       "    .dataframe tbody tr th {\n",
       "        vertical-align: top;\n",
       "    }\n",
       "\n",
       "    .dataframe thead th {\n",
       "        text-align: right;\n",
       "    }\n",
       "</style>\n",
       "<table border=\"1\" class=\"dataframe\">\n",
       "  <thead>\n",
       "    <tr style=\"text-align: right;\">\n",
       "      <th></th>\n",
       "      <th>PatientId</th>\n",
       "      <th>AppointmentID</th>\n",
       "      <th>Age</th>\n",
       "      <th>Scholarship</th>\n",
       "      <th>Hipertension</th>\n",
       "      <th>Diabetes</th>\n",
       "      <th>Alcoholism</th>\n",
       "      <th>Handcap</th>\n",
       "      <th>SMS_received</th>\n",
       "      <th>No-show</th>\n",
       "    </tr>\n",
       "  </thead>\n",
       "  <tbody>\n",
       "    <tr>\n",
       "      <th>count</th>\n",
       "      <td>1.105270e+05</td>\n",
       "      <td>1.105270e+05</td>\n",
       "      <td>110527.000000</td>\n",
       "      <td>110527.000000</td>\n",
       "      <td>110527.000000</td>\n",
       "      <td>110527.000000</td>\n",
       "      <td>110527.000000</td>\n",
       "      <td>110527.000000</td>\n",
       "      <td>110527.000000</td>\n",
       "      <td>110527.000000</td>\n",
       "    </tr>\n",
       "    <tr>\n",
       "      <th>mean</th>\n",
       "      <td>1.474963e+14</td>\n",
       "      <td>5.675305e+06</td>\n",
       "      <td>37.088874</td>\n",
       "      <td>0.098266</td>\n",
       "      <td>0.197246</td>\n",
       "      <td>0.071865</td>\n",
       "      <td>0.030400</td>\n",
       "      <td>0.022248</td>\n",
       "      <td>0.321026</td>\n",
       "      <td>0.201933</td>\n",
       "    </tr>\n",
       "    <tr>\n",
       "      <th>std</th>\n",
       "      <td>2.560949e+14</td>\n",
       "      <td>7.129575e+04</td>\n",
       "      <td>23.110205</td>\n",
       "      <td>0.297675</td>\n",
       "      <td>0.397921</td>\n",
       "      <td>0.258265</td>\n",
       "      <td>0.171686</td>\n",
       "      <td>0.161543</td>\n",
       "      <td>0.466873</td>\n",
       "      <td>0.401444</td>\n",
       "    </tr>\n",
       "    <tr>\n",
       "      <th>min</th>\n",
       "      <td>3.921784e+04</td>\n",
       "      <td>5.030230e+06</td>\n",
       "      <td>-1.000000</td>\n",
       "      <td>0.000000</td>\n",
       "      <td>0.000000</td>\n",
       "      <td>0.000000</td>\n",
       "      <td>0.000000</td>\n",
       "      <td>0.000000</td>\n",
       "      <td>0.000000</td>\n",
       "      <td>0.000000</td>\n",
       "    </tr>\n",
       "    <tr>\n",
       "      <th>25%</th>\n",
       "      <td>4.172614e+12</td>\n",
       "      <td>5.640286e+06</td>\n",
       "      <td>18.000000</td>\n",
       "      <td>0.000000</td>\n",
       "      <td>0.000000</td>\n",
       "      <td>0.000000</td>\n",
       "      <td>0.000000</td>\n",
       "      <td>0.000000</td>\n",
       "      <td>0.000000</td>\n",
       "      <td>0.000000</td>\n",
       "    </tr>\n",
       "    <tr>\n",
       "      <th>50%</th>\n",
       "      <td>3.173184e+13</td>\n",
       "      <td>5.680573e+06</td>\n",
       "      <td>37.000000</td>\n",
       "      <td>0.000000</td>\n",
       "      <td>0.000000</td>\n",
       "      <td>0.000000</td>\n",
       "      <td>0.000000</td>\n",
       "      <td>0.000000</td>\n",
       "      <td>0.000000</td>\n",
       "      <td>0.000000</td>\n",
       "    </tr>\n",
       "    <tr>\n",
       "      <th>75%</th>\n",
       "      <td>9.439172e+13</td>\n",
       "      <td>5.725524e+06</td>\n",
       "      <td>55.000000</td>\n",
       "      <td>0.000000</td>\n",
       "      <td>0.000000</td>\n",
       "      <td>0.000000</td>\n",
       "      <td>0.000000</td>\n",
       "      <td>0.000000</td>\n",
       "      <td>1.000000</td>\n",
       "      <td>0.000000</td>\n",
       "    </tr>\n",
       "    <tr>\n",
       "      <th>max</th>\n",
       "      <td>9.999816e+14</td>\n",
       "      <td>5.790484e+06</td>\n",
       "      <td>115.000000</td>\n",
       "      <td>1.000000</td>\n",
       "      <td>1.000000</td>\n",
       "      <td>1.000000</td>\n",
       "      <td>1.000000</td>\n",
       "      <td>4.000000</td>\n",
       "      <td>1.000000</td>\n",
       "      <td>1.000000</td>\n",
       "    </tr>\n",
       "  </tbody>\n",
       "</table>\n",
       "</div>"
      ],
      "text/plain": [
       "          PatientId  AppointmentID            Age    Scholarship  \\\n",
       "count  1.105270e+05   1.105270e+05  110527.000000  110527.000000   \n",
       "mean   1.474963e+14   5.675305e+06      37.088874       0.098266   \n",
       "std    2.560949e+14   7.129575e+04      23.110205       0.297675   \n",
       "min    3.921784e+04   5.030230e+06      -1.000000       0.000000   \n",
       "25%    4.172614e+12   5.640286e+06      18.000000       0.000000   \n",
       "50%    3.173184e+13   5.680573e+06      37.000000       0.000000   \n",
       "75%    9.439172e+13   5.725524e+06      55.000000       0.000000   \n",
       "max    9.999816e+14   5.790484e+06     115.000000       1.000000   \n",
       "\n",
       "        Hipertension       Diabetes     Alcoholism        Handcap  \\\n",
       "count  110527.000000  110527.000000  110527.000000  110527.000000   \n",
       "mean        0.197246       0.071865       0.030400       0.022248   \n",
       "std         0.397921       0.258265       0.171686       0.161543   \n",
       "min         0.000000       0.000000       0.000000       0.000000   \n",
       "25%         0.000000       0.000000       0.000000       0.000000   \n",
       "50%         0.000000       0.000000       0.000000       0.000000   \n",
       "75%         0.000000       0.000000       0.000000       0.000000   \n",
       "max         1.000000       1.000000       1.000000       4.000000   \n",
       "\n",
       "        SMS_received        No-show  \n",
       "count  110527.000000  110527.000000  \n",
       "mean        0.321026       0.201933  \n",
       "std         0.466873       0.401444  \n",
       "min         0.000000       0.000000  \n",
       "25%         0.000000       0.000000  \n",
       "50%         0.000000       0.000000  \n",
       "75%         1.000000       0.000000  \n",
       "max         1.000000       1.000000  "
      ]
     },
     "execution_count": 7,
     "metadata": {},
     "output_type": "execute_result"
    }
   ],
   "source": [
    "df.describe()"
   ]
  },
  {
   "cell_type": "markdown",
   "metadata": {},
   "source": [
    "In the description we can see that the average age of the patients is around 37 years, but as a minimum value we have -1, which is ambiguous to understand. At the same time, the oldest patient appears to be 115 years old, which is also rare. We will analyze the `Age` column in more detail. If we perform a search to see which entries correspond to `Age = -1`, we get the following result:"
   ]
  },
  {
   "cell_type": "code",
   "execution_count": 8,
   "metadata": {},
   "outputs": [
    {
     "data": {
      "text/html": [
       "<div>\n",
       "<style scoped>\n",
       "    .dataframe tbody tr th:only-of-type {\n",
       "        vertical-align: middle;\n",
       "    }\n",
       "\n",
       "    .dataframe tbody tr th {\n",
       "        vertical-align: top;\n",
       "    }\n",
       "\n",
       "    .dataframe thead th {\n",
       "        text-align: right;\n",
       "    }\n",
       "</style>\n",
       "<table border=\"1\" class=\"dataframe\">\n",
       "  <thead>\n",
       "    <tr style=\"text-align: right;\">\n",
       "      <th></th>\n",
       "      <th>PatientId</th>\n",
       "      <th>AppointmentID</th>\n",
       "      <th>Gender</th>\n",
       "      <th>ScheduledDay</th>\n",
       "      <th>AppointmentDay</th>\n",
       "      <th>Age</th>\n",
       "      <th>Neighbourhood</th>\n",
       "      <th>Scholarship</th>\n",
       "      <th>Hipertension</th>\n",
       "      <th>Diabetes</th>\n",
       "      <th>Alcoholism</th>\n",
       "      <th>Handcap</th>\n",
       "      <th>SMS_received</th>\n",
       "      <th>No-show</th>\n",
       "    </tr>\n",
       "  </thead>\n",
       "  <tbody>\n",
       "    <tr>\n",
       "      <th>99832</th>\n",
       "      <td>4.659432e+14</td>\n",
       "      <td>5775010</td>\n",
       "      <td>F</td>\n",
       "      <td>2016-06-06T08:58:13Z</td>\n",
       "      <td>2016-06-06T00:00:00Z</td>\n",
       "      <td>-1</td>\n",
       "      <td>ROMÃO</td>\n",
       "      <td>0</td>\n",
       "      <td>0</td>\n",
       "      <td>0</td>\n",
       "      <td>0</td>\n",
       "      <td>0</td>\n",
       "      <td>0</td>\n",
       "      <td>0</td>\n",
       "    </tr>\n",
       "  </tbody>\n",
       "</table>\n",
       "</div>"
      ],
      "text/plain": [
       "          PatientId  AppointmentID Gender          ScheduledDay  \\\n",
       "99832  4.659432e+14        5775010      F  2016-06-06T08:58:13Z   \n",
       "\n",
       "             AppointmentDay  Age Neighbourhood  Scholarship  Hipertension  \\\n",
       "99832  2016-06-06T00:00:00Z   -1         ROMÃO            0             0   \n",
       "\n",
       "       Diabetes  Alcoholism  Handcap  SMS_received  No-show  \n",
       "99832         0           0        0             0        0  "
      ]
     },
     "execution_count": 8,
     "metadata": {},
     "output_type": "execute_result"
    }
   ],
   "source": [
    "# Search for entries with Age = -1\n",
    "df.query('Age == -1')"
   ]
  },
  {
   "cell_type": "markdown",
   "metadata": {},
   "source": [
    "Since the result is a single entry, we can assume that the corresponding age is wrong and therefore we will remove it:"
   ]
  },
  {
   "cell_type": "code",
   "execution_count": 9,
   "metadata": {},
   "outputs": [
    {
     "data": {
      "text/html": [
       "<div>\n",
       "<style scoped>\n",
       "    .dataframe tbody tr th:only-of-type {\n",
       "        vertical-align: middle;\n",
       "    }\n",
       "\n",
       "    .dataframe tbody tr th {\n",
       "        vertical-align: top;\n",
       "    }\n",
       "\n",
       "    .dataframe thead th {\n",
       "        text-align: right;\n",
       "    }\n",
       "</style>\n",
       "<table border=\"1\" class=\"dataframe\">\n",
       "  <thead>\n",
       "    <tr style=\"text-align: right;\">\n",
       "      <th></th>\n",
       "      <th>PatientId</th>\n",
       "      <th>AppointmentID</th>\n",
       "      <th>Gender</th>\n",
       "      <th>ScheduledDay</th>\n",
       "      <th>AppointmentDay</th>\n",
       "      <th>Age</th>\n",
       "      <th>Neighbourhood</th>\n",
       "      <th>Scholarship</th>\n",
       "      <th>Hipertension</th>\n",
       "      <th>Diabetes</th>\n",
       "      <th>Alcoholism</th>\n",
       "      <th>Handcap</th>\n",
       "      <th>SMS_received</th>\n",
       "      <th>No-show</th>\n",
       "    </tr>\n",
       "  </thead>\n",
       "  <tbody>\n",
       "  </tbody>\n",
       "</table>\n",
       "</div>"
      ],
      "text/plain": [
       "Empty DataFrame\n",
       "Columns: [PatientId, AppointmentID, Gender, ScheduledDay, AppointmentDay, Age, Neighbourhood, Scholarship, Hipertension, Diabetes, Alcoholism, Handcap, SMS_received, No-show]\n",
       "Index: []"
      ]
     },
     "execution_count": 9,
     "metadata": {},
     "output_type": "execute_result"
    }
   ],
   "source": [
    "index = 99832 # index corresponding to entry with Age = -1\n",
    "df.drop(index, inplace=True)  # drop entry\n",
    "\n",
    "df.query('Age == -1') # check if it was correctly deleted"
   ]
  },
  {
   "cell_type": "markdown",
   "metadata": {},
   "source": [
    "We'll inspect now the entries corresponding to `Age = 115`:"
   ]
  },
  {
   "cell_type": "code",
   "execution_count": 10,
   "metadata": {},
   "outputs": [
    {
     "data": {
      "text/html": [
       "<div>\n",
       "<style scoped>\n",
       "    .dataframe tbody tr th:only-of-type {\n",
       "        vertical-align: middle;\n",
       "    }\n",
       "\n",
       "    .dataframe tbody tr th {\n",
       "        vertical-align: top;\n",
       "    }\n",
       "\n",
       "    .dataframe thead th {\n",
       "        text-align: right;\n",
       "    }\n",
       "</style>\n",
       "<table border=\"1\" class=\"dataframe\">\n",
       "  <thead>\n",
       "    <tr style=\"text-align: right;\">\n",
       "      <th></th>\n",
       "      <th>PatientId</th>\n",
       "      <th>AppointmentID</th>\n",
       "      <th>Gender</th>\n",
       "      <th>ScheduledDay</th>\n",
       "      <th>AppointmentDay</th>\n",
       "      <th>Age</th>\n",
       "      <th>Neighbourhood</th>\n",
       "      <th>Scholarship</th>\n",
       "      <th>Hipertension</th>\n",
       "      <th>Diabetes</th>\n",
       "      <th>Alcoholism</th>\n",
       "      <th>Handcap</th>\n",
       "      <th>SMS_received</th>\n",
       "      <th>No-show</th>\n",
       "    </tr>\n",
       "  </thead>\n",
       "  <tbody>\n",
       "    <tr>\n",
       "      <th>63912</th>\n",
       "      <td>3.196321e+13</td>\n",
       "      <td>5700278</td>\n",
       "      <td>F</td>\n",
       "      <td>2016-05-16T09:17:44Z</td>\n",
       "      <td>2016-05-19T00:00:00Z</td>\n",
       "      <td>115</td>\n",
       "      <td>ANDORINHAS</td>\n",
       "      <td>0</td>\n",
       "      <td>0</td>\n",
       "      <td>0</td>\n",
       "      <td>0</td>\n",
       "      <td>1</td>\n",
       "      <td>0</td>\n",
       "      <td>1</td>\n",
       "    </tr>\n",
       "    <tr>\n",
       "      <th>63915</th>\n",
       "      <td>3.196321e+13</td>\n",
       "      <td>5700279</td>\n",
       "      <td>F</td>\n",
       "      <td>2016-05-16T09:17:44Z</td>\n",
       "      <td>2016-05-19T00:00:00Z</td>\n",
       "      <td>115</td>\n",
       "      <td>ANDORINHAS</td>\n",
       "      <td>0</td>\n",
       "      <td>0</td>\n",
       "      <td>0</td>\n",
       "      <td>0</td>\n",
       "      <td>1</td>\n",
       "      <td>0</td>\n",
       "      <td>1</td>\n",
       "    </tr>\n",
       "    <tr>\n",
       "      <th>68127</th>\n",
       "      <td>3.196321e+13</td>\n",
       "      <td>5562812</td>\n",
       "      <td>F</td>\n",
       "      <td>2016-04-08T14:29:17Z</td>\n",
       "      <td>2016-05-16T00:00:00Z</td>\n",
       "      <td>115</td>\n",
       "      <td>ANDORINHAS</td>\n",
       "      <td>0</td>\n",
       "      <td>0</td>\n",
       "      <td>0</td>\n",
       "      <td>0</td>\n",
       "      <td>1</td>\n",
       "      <td>0</td>\n",
       "      <td>1</td>\n",
       "    </tr>\n",
       "    <tr>\n",
       "      <th>76284</th>\n",
       "      <td>3.196321e+13</td>\n",
       "      <td>5744037</td>\n",
       "      <td>F</td>\n",
       "      <td>2016-05-30T09:44:51Z</td>\n",
       "      <td>2016-05-30T00:00:00Z</td>\n",
       "      <td>115</td>\n",
       "      <td>ANDORINHAS</td>\n",
       "      <td>0</td>\n",
       "      <td>0</td>\n",
       "      <td>0</td>\n",
       "      <td>0</td>\n",
       "      <td>1</td>\n",
       "      <td>0</td>\n",
       "      <td>0</td>\n",
       "    </tr>\n",
       "    <tr>\n",
       "      <th>97666</th>\n",
       "      <td>7.482346e+14</td>\n",
       "      <td>5717451</td>\n",
       "      <td>F</td>\n",
       "      <td>2016-05-19T07:57:56Z</td>\n",
       "      <td>2016-06-03T00:00:00Z</td>\n",
       "      <td>115</td>\n",
       "      <td>SÃO JOSÉ</td>\n",
       "      <td>0</td>\n",
       "      <td>1</td>\n",
       "      <td>0</td>\n",
       "      <td>0</td>\n",
       "      <td>0</td>\n",
       "      <td>1</td>\n",
       "      <td>0</td>\n",
       "    </tr>\n",
       "  </tbody>\n",
       "</table>\n",
       "</div>"
      ],
      "text/plain": [
       "          PatientId  AppointmentID Gender          ScheduledDay  \\\n",
       "63912  3.196321e+13        5700278      F  2016-05-16T09:17:44Z   \n",
       "63915  3.196321e+13        5700279      F  2016-05-16T09:17:44Z   \n",
       "68127  3.196321e+13        5562812      F  2016-04-08T14:29:17Z   \n",
       "76284  3.196321e+13        5744037      F  2016-05-30T09:44:51Z   \n",
       "97666  7.482346e+14        5717451      F  2016-05-19T07:57:56Z   \n",
       "\n",
       "             AppointmentDay  Age Neighbourhood  Scholarship  Hipertension  \\\n",
       "63912  2016-05-19T00:00:00Z  115    ANDORINHAS            0             0   \n",
       "63915  2016-05-19T00:00:00Z  115    ANDORINHAS            0             0   \n",
       "68127  2016-05-16T00:00:00Z  115    ANDORINHAS            0             0   \n",
       "76284  2016-05-30T00:00:00Z  115    ANDORINHAS            0             0   \n",
       "97666  2016-06-03T00:00:00Z  115      SÃO JOSÉ            0             1   \n",
       "\n",
       "       Diabetes  Alcoholism  Handcap  SMS_received  No-show  \n",
       "63912         0           0        1             0        1  \n",
       "63915         0           0        1             0        1  \n",
       "68127         0           0        1             0        1  \n",
       "76284         0           0        1             0        0  \n",
       "97666         0           0        0             1        0  "
      ]
     },
     "execution_count": 10,
     "metadata": {},
     "output_type": "execute_result"
    }
   ],
   "source": [
    "# Search for entries with Age = 115\n",
    "df.query('Age == 115')"
   ]
  },
  {
   "cell_type": "markdown",
   "metadata": {},
   "source": [
    "As in this case we only have 2 different patients, we can assume that the age values are incorrect and therefore remove these entries."
   ]
  },
  {
   "cell_type": "code",
   "execution_count": 11,
   "metadata": {},
   "outputs": [
    {
     "data": {
      "text/html": [
       "<div>\n",
       "<style scoped>\n",
       "    .dataframe tbody tr th:only-of-type {\n",
       "        vertical-align: middle;\n",
       "    }\n",
       "\n",
       "    .dataframe tbody tr th {\n",
       "        vertical-align: top;\n",
       "    }\n",
       "\n",
       "    .dataframe thead th {\n",
       "        text-align: right;\n",
       "    }\n",
       "</style>\n",
       "<table border=\"1\" class=\"dataframe\">\n",
       "  <thead>\n",
       "    <tr style=\"text-align: right;\">\n",
       "      <th></th>\n",
       "      <th>PatientId</th>\n",
       "      <th>AppointmentID</th>\n",
       "      <th>Gender</th>\n",
       "      <th>ScheduledDay</th>\n",
       "      <th>AppointmentDay</th>\n",
       "      <th>Age</th>\n",
       "      <th>Neighbourhood</th>\n",
       "      <th>Scholarship</th>\n",
       "      <th>Hipertension</th>\n",
       "      <th>Diabetes</th>\n",
       "      <th>Alcoholism</th>\n",
       "      <th>Handcap</th>\n",
       "      <th>SMS_received</th>\n",
       "      <th>No-show</th>\n",
       "    </tr>\n",
       "  </thead>\n",
       "  <tbody>\n",
       "  </tbody>\n",
       "</table>\n",
       "</div>"
      ],
      "text/plain": [
       "Empty DataFrame\n",
       "Columns: [PatientId, AppointmentID, Gender, ScheduledDay, AppointmentDay, Age, Neighbourhood, Scholarship, Hipertension, Diabetes, Alcoholism, Handcap, SMS_received, No-show]\n",
       "Index: []"
      ]
     },
     "execution_count": 11,
     "metadata": {},
     "output_type": "execute_result"
    }
   ],
   "source": [
    "indexes = [63912, 63915, 68127, 76284, 97666] # indexes corresponding to entry with Age = 115\n",
    "df.drop(indexes, inplace=True)  # drop entries\n",
    "\n",
    "df.query('Age == 115') # check if entries were correctly deleted"
   ]
  },
  {
   "cell_type": "markdown",
   "metadata": {},
   "source": [
    "Before we continue with the analysis, we'll drop the columns that are not necessary to answer the questions we initially posed: `PatientId`, `AppointmentID`, `ScheduledDay`, `AppointmentDay` and `Neighbourhood`. Also, we'll fix the typo in the `Handcap` and `Hipertension` columns, and replace the hyphen in the `No-show` column with an underscore."
   ]
  },
  {
   "cell_type": "code",
   "execution_count": 12,
   "metadata": {},
   "outputs": [
    {
     "data": {
      "text/html": [
       "<div>\n",
       "<style scoped>\n",
       "    .dataframe tbody tr th:only-of-type {\n",
       "        vertical-align: middle;\n",
       "    }\n",
       "\n",
       "    .dataframe tbody tr th {\n",
       "        vertical-align: top;\n",
       "    }\n",
       "\n",
       "    .dataframe thead th {\n",
       "        text-align: right;\n",
       "    }\n",
       "</style>\n",
       "<table border=\"1\" class=\"dataframe\">\n",
       "  <thead>\n",
       "    <tr style=\"text-align: right;\">\n",
       "      <th></th>\n",
       "      <th>Gender</th>\n",
       "      <th>Age</th>\n",
       "      <th>Scholarship</th>\n",
       "      <th>Hypertension</th>\n",
       "      <th>Diabetes</th>\n",
       "      <th>Alcoholism</th>\n",
       "      <th>Handicap</th>\n",
       "      <th>SMS_received</th>\n",
       "      <th>No_show</th>\n",
       "    </tr>\n",
       "  </thead>\n",
       "  <tbody>\n",
       "    <tr>\n",
       "      <th>0</th>\n",
       "      <td>F</td>\n",
       "      <td>62</td>\n",
       "      <td>0</td>\n",
       "      <td>1</td>\n",
       "      <td>0</td>\n",
       "      <td>0</td>\n",
       "      <td>0</td>\n",
       "      <td>0</td>\n",
       "      <td>0</td>\n",
       "    </tr>\n",
       "    <tr>\n",
       "      <th>1</th>\n",
       "      <td>M</td>\n",
       "      <td>56</td>\n",
       "      <td>0</td>\n",
       "      <td>0</td>\n",
       "      <td>0</td>\n",
       "      <td>0</td>\n",
       "      <td>0</td>\n",
       "      <td>0</td>\n",
       "      <td>0</td>\n",
       "    </tr>\n",
       "    <tr>\n",
       "      <th>2</th>\n",
       "      <td>F</td>\n",
       "      <td>62</td>\n",
       "      <td>0</td>\n",
       "      <td>0</td>\n",
       "      <td>0</td>\n",
       "      <td>0</td>\n",
       "      <td>0</td>\n",
       "      <td>0</td>\n",
       "      <td>0</td>\n",
       "    </tr>\n",
       "    <tr>\n",
       "      <th>3</th>\n",
       "      <td>F</td>\n",
       "      <td>8</td>\n",
       "      <td>0</td>\n",
       "      <td>0</td>\n",
       "      <td>0</td>\n",
       "      <td>0</td>\n",
       "      <td>0</td>\n",
       "      <td>0</td>\n",
       "      <td>0</td>\n",
       "    </tr>\n",
       "    <tr>\n",
       "      <th>4</th>\n",
       "      <td>F</td>\n",
       "      <td>56</td>\n",
       "      <td>0</td>\n",
       "      <td>1</td>\n",
       "      <td>1</td>\n",
       "      <td>0</td>\n",
       "      <td>0</td>\n",
       "      <td>0</td>\n",
       "      <td>0</td>\n",
       "    </tr>\n",
       "  </tbody>\n",
       "</table>\n",
       "</div>"
      ],
      "text/plain": [
       "  Gender  Age  Scholarship  Hypertension  Diabetes  Alcoholism  Handicap  \\\n",
       "0      F   62            0             1         0           0         0   \n",
       "1      M   56            0             0         0           0         0   \n",
       "2      F   62            0             0         0           0         0   \n",
       "3      F    8            0             0         0           0         0   \n",
       "4      F   56            0             1         1           0         0   \n",
       "\n",
       "   SMS_received  No_show  \n",
       "0             0        0  \n",
       "1             0        0  \n",
       "2             0        0  \n",
       "3             0        0  \n",
       "4             0        0  "
      ]
     },
     "execution_count": 12,
     "metadata": {},
     "output_type": "execute_result"
    }
   ],
   "source": [
    "# Drop unnecessary columns\n",
    "df.drop([\"PatientId\", \"AppointmentID\", \"ScheduledDay\", \"AppointmentDay\", \"Neighbourhood\"], axis=1, inplace=True)\n",
    "\n",
    "# Fix typos \n",
    "df.rename({\"Handcap\":\"Handicap\", \"Hipertension\":\"Hypertension\", \"No-show\":\"No_show\"}, axis=1, inplace=True)\n",
    "\n",
    "# Add underscore\n",
    "df.head()"
   ]
  },
  {
   "cell_type": "markdown",
   "metadata": {},
   "source": [
    "As the final step of this Data Wrangling section, we'll plot the histograms of the variables in our dataset to make a quick visual inspection on them."
   ]
  },
  {
   "cell_type": "code",
   "execution_count": 13,
   "metadata": {},
   "outputs": [
    {
     "data": {
      "image/png": "[encoded data removed]",
      "text/plain": [
       "<Figure size 864x864 with 9 Axes>"
      ]
     },
     "metadata": {
      "needs_background": "light"
     },
     "output_type": "display_data"
    }
   ],
   "source": [
    "df.hist(figsize=(12,12)); "
   ]
  },
  {
   "cell_type": "markdown",
   "metadata": {},
   "source": [
    "We can see that most of the variables only take two values (0/1), except for `Age` and `Handicap`. In the case of the `Handicap` column, its possible values are:"
   ]
  },
  {
   "cell_type": "code",
   "execution_count": 14,
   "metadata": {},
   "outputs": [
    {
     "data": {
      "text/plain": [
       "0    108284\n",
       "1      2038\n",
       "2       183\n",
       "3        13\n",
       "4         3\n",
       "Name: Handicap, dtype: int64"
      ]
     },
     "execution_count": 14,
     "metadata": {},
     "output_type": "execute_result"
    }
   ],
   "source": [
    "df[\"Handicap\"].value_counts() # values of the Handicap column"
   ]
  },
  {
   "cell_type": "markdown",
   "metadata": {},
   "source": [
    "According to the data source [3], the values the `Handicap` column takes correspond to the number of disabilities a patient has, ranging from 0 (no disabilities) to 4 (four different impairments).\n",
    "\n",
    "As a final remark, we can observe that there are no outliers in the cleaned dataset. The final size of the dataset is: "
   ]
  },
  {
   "cell_type": "code",
   "execution_count": 15,
   "metadata": {},
   "outputs": [
    {
     "data": {
      "text/plain": [
       "(110521, 9)"
      ]
     },
     "execution_count": 15,
     "metadata": {},
     "output_type": "execute_result"
    }
   ],
   "source": [
    "df.shape"
   ]
  },
  {
   "cell_type": "markdown",
   "metadata": {},
   "source": [
    "<a id='eda'></a>\n",
    "## Exploratory Data Analysis\n",
    "\n",
    "To begin our analysis, we'll calculate how many appointments were actually attended and how many were not."
   ]
  },
  {
   "cell_type": "code",
   "execution_count": 16,
   "metadata": {},
   "outputs": [
    {
     "data": {
      "text/plain": [
       "0    88205\n",
       "1    22316\n",
       "Name: No_show, dtype: int64"
      ]
     },
     "execution_count": 16,
     "metadata": {},
     "output_type": "execute_result"
    }
   ],
   "source": [
    "df[\"No_show\"].value_counts()"
   ]
  },
  {
   "cell_type": "markdown",
   "metadata": {},
   "source": [
    "We see that the number of attended appointments is considerably higher than the number of no-shows. This can be observed more clearly in the following pie chart, where the corresponding percentages are shown:"
   ]
  },
  {
   "cell_type": "code",
   "execution_count": 165,
   "metadata": {},
   "outputs": [
    {
     "data": {
      "text/plain": [
       "<AxesSubplot:title={'center':'Appointments'}>"
      ]
     },
     "execution_count": 165,
     "metadata": {},
     "output_type": "execute_result"
    },
    {
     "data": {
      "image/png": "[encoded data removed]",
      "text/plain": [
       "<Figure size 288x288 with 1 Axes>"
      ]
     },
     "metadata": {},
     "output_type": "display_data"
    }
   ],
   "source": [
    "df[\"No_show\"].value_counts().plot(kind=\"pie\", autopct='%.2f', labels=[\"% attended\", \"% no-shows\"], title=\"Appointments\", ylabel=\"\", figsize=(4,4), colors=[\"g\", \"b\"], wedgeprops={'alpha':0.4})"
   ]
  },
  {
   "cell_type": "markdown",
   "metadata": {},
   "source": [
    "Next, we'll define masks that will help to select the entries corresponding to attended and not attended appointments:"
   ]
  },
  {
   "cell_type": "code",
   "execution_count": 18,
   "metadata": {},
   "outputs": [],
   "source": [
    "# Define masks for attended appointments and no-shows\n",
    "attended = df[\"No_show\"] == 0\n",
    "no_show = df[\"No_show\"] == 1"
   ]
  },
  {
   "cell_type": "markdown",
   "metadata": {},
   "source": [
    "### Q1: How does appointment attendance vary according to the patient's age and gender?"
   ]
  },
  {
   "cell_type": "markdown",
   "metadata": {},
   "source": [
    "First, we'll analyze the data corresponding to gender. In the following figure, we can see on the left the number of attended  appointments (in blue) and the number of no-shows (in green) for each gender (men and women). In the figure on the right we can observe the mean value of no-shows in each case."
   ]
  },
  {
   "cell_type": "code",
   "execution_count": 101,
   "metadata": {},
   "outputs": [
    {
     "name": "stdout",
     "output_type": "stream",
     "text": [
      "Female no-shows mean: \n",
      "0.2031210847231116\n",
      "Male no-shows mean: \n",
      "0.19967947889471915\n"
     ]
    },
    {
     "data": {
      "image/png": "[encoded data removed]",
      "text/plain": [
       "<Figure size 864x288 with 2 Axes>"
      ]
     },
     "metadata": {
      "needs_background": "light"
     },
     "output_type": "display_data"
    }
   ],
   "source": [
    "# Plot analysis by gender\n",
    "fig, axes = plt.subplots(nrows=1, ncols=2)\n",
    "plt.suptitle(\"Analysis by gender\", y=1.05);\n",
    "\n",
    "df.Gender[attended].value_counts().plot(kind=\"bar\", ax=axes[0], color=\"b\", alpha=0.4);\n",
    "df.Gender[no_show].value_counts().plot(kind=\"bar\", ax=axes[0], color=\"g\", alpha=0.4,  figsize=(12,4));\n",
    "axes[0].set_xticklabels([\"F\", \"M\"], rotation=\"horizontal\")\n",
    "axes[0].legend([\"Attended\" , \"No-show\"])\n",
    "axes[0].set_xlabel(\"Gender\")\n",
    "axes[0].set_ylabel(\"Value counts\")\n",
    "axes[0].set_title(\"Attended and missed appointments\")\n",
    "axes[0].grid()\n",
    "\n",
    "df.groupby(\"Gender\")[\"No_show\"].mean().plot(ax=axes[1], kind=\"bar\", color=\"b\", alpha=0.4,  figsize=(12,4));\n",
    "axes[1].set_xticklabels([\"F\", \"M\"], rotation=\"horizontal\")\n",
    "axes[1].set_ylabel(\"Mean value\")\n",
    "axes[1].set_title(\"Mean number of no-shows by gender\")\n",
    "axes[1].grid()\n",
    "\n",
    "# Calculate mean values of no-shows for each gender \n",
    "print(\"Female no-shows mean: \")\n",
    "print(len(df.query('Gender == \"F\" & No_show == 1'))/len(df.query('Gender == \"F\"')))\n",
    "print(\"Male no-shows mean: \")\n",
    "print(len(df.query('Gender == \"M\" & No_show == 1'))/len(df.query('Gender == \"M\"')))"
   ]
  },
  {
   "cell_type": "markdown",
   "metadata": {},
   "source": [
    "We can see that women schedule almost twice as many appointments as men to go to the doctor. However, the percentage of attendance is very similar in both cases, being even slightly higher in the case of men.\n",
    "\n",
    "In the following graph we'll see the distribution of attended and missed appointments according to the patient's age."
   ]
  },
  {
   "cell_type": "code",
   "execution_count": 140,
   "metadata": {},
   "outputs": [
    {
     "data": {
      "image/png": "[encoded data removed]",
      "text/plain": [
       "<Figure size 576x360 with 1 Axes>"
      ]
     },
     "metadata": {
      "needs_background": "light"
     },
     "output_type": "display_data"
    }
   ],
   "source": [
    "# Plot analysis by age\n",
    "df.Age[attended].hist(bins=25, color=\"b\", alpha=0.4);\n",
    "df.Age[no_show].hist(bins=25,  color=\"g\", alpha=0.4, figsize=(8,5));\n",
    "\n",
    "plt.xlabel(\"Age\");\n",
    "plt.ylabel(\"Value counts\");\n",
    "plt.title(\"Attended and missed appointments by age\");\n",
    "plt.legend([\"Attended\", \"No-show\"]);"
   ]
  },
  {
   "cell_type": "markdown",
   "metadata": {},
   "source": [
    "We can observe that in both cases (attended appointments and no-shows), the distribution is skewed to the right. This means that the highest number of medical appointments is scheduled for relatively young people, since from the age of 60 on, the amount of appointments decreases.\n",
    "In the case of attended appointments, a peak is observed in the first years of life (babies and very young children), and another one around the age of 50.\n",
    "In any case, there does not seem to exist a certain age range in which the percentage of non-shows is considerably higher. If we calculate the mean age both for attended appointments and no-shows, we obtain: "
   ]
  },
  {
   "cell_type": "code",
   "execution_count": 22,
   "metadata": {},
   "outputs": [
    {
     "data": {
      "text/plain": [
       "37.7887534720254"
      ]
     },
     "execution_count": 22,
     "metadata": {},
     "output_type": "execute_result"
    }
   ],
   "source": [
    "df.Age[attended].mean()"
   ]
  },
  {
   "cell_type": "code",
   "execution_count": 23,
   "metadata": {},
   "outputs": [
    {
     "data": {
      "text/plain": [
       "34.30682021867718"
      ]
     },
     "execution_count": 23,
     "metadata": {},
     "output_type": "execute_result"
    }
   ],
   "source": [
    "df.Age[no_show].mean()"
   ]
  },
  {
   "cell_type": "markdown",
   "metadata": {},
   "source": [
    "We see that the average age in both cases is quite similar, being slightly lower in the case of no-shows. \n",
    "Now we'll observe how the attended and not-attended appointments are distributed by both age and gender. "
   ]
  },
  {
   "cell_type": "code",
   "execution_count": 157,
   "metadata": {},
   "outputs": [
    {
     "data": {
      "image/png": "[encoded data removed]",
      "text/plain": [
       "<Figure size 864x288 with 2 Axes>"
      ]
     },
     "metadata": {
      "needs_background": "light"
     },
     "output_type": "display_data"
    }
   ],
   "source": [
    "# Plot distribution of patients age and gender\n",
    "fig, axes = plt.subplots(nrows=1, ncols=2)\n",
    "plt.suptitle(\"Attended and missed apointments by age and gender\", y=1.05);\n",
    "\n",
    "df.query('Gender == \"F\" & No_show == 0')[\"Age\"].hist(ax=axes[0], bins=25, color=\"b\", alpha=0.4);\n",
    "df.query('Gender == \"M\" & No_show == 0')[\"Age\"].hist(ax=axes[0], bins=25, color=\"g\", alpha=0.4, figsize=(12,4));\n",
    "axes[0].legend([\"Women\" , \"Men\"]);\n",
    "axes[0].set_xlabel(\"Age\");\n",
    "axes[0].set_ylabel(\"Value counts\");\n",
    "axes[0].set_title(\"Attended appointments\");\n",
    "\n",
    "df.query('Gender == \"F\" & No_show == 1')[\"Age\"].hist(ax=axes[1], bins=25, color=\"b\", alpha=0.4);\n",
    "df.query('Gender == \"M\" & No_show == 1')[\"Age\"].hist(ax=axes[1], bins=25, color=\"g\", alpha=0.4, figsize=(12,4));\n",
    "axes[1].legend([\"Women\" , \"Men\"]);\n",
    "axes[1].set_xlabel(\"Age\");\n",
    "axes[1].set_ylabel(\"Value counts\");\n",
    "axes[1].set_title(\"No-shows\");"
   ]
  },
  {
   "cell_type": "markdown",
   "metadata": {},
   "source": [
    "We see that in all cases the graphs are also skewed to the right. \n",
    "In the case of women, the highest number of no-shows ocurrs between the ages 20-40, while for men this happens in the earliest age range (0-20)."
   ]
  },
  {
   "cell_type": "markdown",
   "metadata": {},
   "source": [
    "### Q2: Do people with pre-existing illnesses or disabilities have higher attendance to medical appointments?"
   ]
  },
  {
   "cell_type": "markdown",
   "metadata": {},
   "source": [
    "In the following we'll analyze what happens with the attendance to medical appointments in the case of patients with pre-existing diseases (diabetes, hypertension and alcoholism) and disabilities. \n",
    "\n",
    "In the figures below, we'll see the number of attended appointments and no-shows in the case of patients with or without a certain disease. We'll also observe the mean value of no-shows in each case. We'll start with diabetes, continue with hypertension and finally analyze the case of patients with alcoholism."
   ]
  },
  {
   "cell_type": "code",
   "execution_count": 159,
   "metadata": {},
   "outputs": [
    {
     "name": "stdout",
     "output_type": "stream",
     "text": [
      "Patients with diabetes no-shows mean: \n",
      "0.18003273322422259\n",
      "Patients without diabetes no-shows mean: \n",
      "0.20361091072159723\n"
     ]
    },
    {
     "data": {
      "image/png": "[encoded data removed]",
      "text/plain": [
       "<Figure size 864x288 with 2 Axes>"
      ]
     },
     "metadata": {
      "needs_background": "light"
     },
     "output_type": "display_data"
    }
   ],
   "source": [
    "# Plot graphs corresponding to patients with diabetes\n",
    "fig, axes = plt.subplots(nrows=1, ncols=2)\n",
    "plt.suptitle(\"Patients with diabetes\", y=1.05);\n",
    "\n",
    "df.Diabetes[attended].value_counts().plot(kind=\"bar\", ax=axes[0], color=\"b\", alpha=0.4);\n",
    "df.Diabetes[no_show].value_counts().plot(kind=\"bar\", ax=axes[0], color=\"g\", alpha=0.4,  figsize=(12,4));\n",
    "axes[0].set_xticklabels([\"No\", \"Yes\"], rotation=\"horizontal\")\n",
    "axes[0].legend([\"Attended\" , \"No-show\"])\n",
    "axes[0].set_xlabel(\"Diabetes\")\n",
    "axes[0].set_ylabel(\"Value count\")\n",
    "axes[0].set_title(\"Attended and missed appointments\")\n",
    "axes[0].grid()\n",
    "\n",
    "df.groupby(\"Diabetes\")[\"No_show\"].mean().plot(ax=axes[1], kind=\"bar\", color=\"b\", alpha=0.4,  figsize=(12,4));\n",
    "axes[1].set_xticklabels([\"No\", \"Yes\"], rotation=\"horizontal\")\n",
    "axes[1].set_ylabel(\"Mean value\")\n",
    "axes[1].set_title(\"Mean number of no-shows\")\n",
    "axes[1].grid()\n",
    "\n",
    "# Calculate mean value of no-shows for patients with and without diabetes\n",
    "print(\"Patients with diabetes no-shows mean: \")\n",
    "print(len(df.query('Diabetes == 1 & No_show == 1'))/len(df.query('Diabetes == 1')))\n",
    "print(\"Patients without diabetes no-shows mean: \")\n",
    "print(len(df.query('Diabetes == 0 & No_show == 1'))/len(df.query('Diabetes == 0')))"
   ]
  },
  {
   "cell_type": "markdown",
   "metadata": {},
   "source": [
    "We can observe that patients with diabetes represent a considerably reduced fraction of the total. The mean number of no-shows is lower in patients who suffer the disease, although the difference with non-diabetic patients isn't too significant (around 2%).\n",
    "\n",
    "Next, we'll analyze the case of patients with hypertension."
   ]
  },
  {
   "cell_type": "code",
   "execution_count": 164,
   "metadata": {},
   "outputs": [
    {
     "name": "stdout",
     "output_type": "stream",
     "text": [
      "Patients with hypertension no-shows mean: \n",
      "0.1730275229357798\n",
      "Patients without hypertension no-shows mean: \n",
      "0.20901477665941548\n"
     ]
    },
    {
     "data": {
      "image/png": "[encoded data removed]",
      "text/plain": [
       "<Figure size 864x288 with 2 Axes>"
      ]
     },
     "metadata": {
      "needs_background": "light"
     },
     "output_type": "display_data"
    }
   ],
   "source": [
    "# Plot graphs corresponding to patients with hypertension\n",
    "fig, axes = plt.subplots(nrows=1, ncols=2)\n",
    "plt.suptitle(\"Patients with hypertension\", y=1.05);\n",
    "\n",
    "df.Hypertension[attended].value_counts().plot(kind=\"bar\", ax=axes[0], color=\"b\", alpha=0.4);\n",
    "df.Hypertension[no_show].value_counts().plot(kind=\"bar\", ax=axes[0], color=\"g\", alpha=0.4,  figsize=(12,4));\n",
    "axes[0].set_xticklabels([\"No\", \"Yes\"], rotation=\"horizontal\")\n",
    "axes[0].legend([\"Attended\" , \"No-show\"])\n",
    "axes[0].set_xlabel(\"Hypertension\")\n",
    "axes[0].set_ylabel(\"Value counts\")\n",
    "axes[0].set_title(\"Attended and missed appointments\")\n",
    "axes[0].grid()\n",
    "\n",
    "df.groupby(\"Hypertension\")[\"No_show\"].mean().plot(ax=axes[1], kind=\"bar\", color=\"b\", alpha=0.4,  figsize=(12,4));\n",
    "axes[1].set_xticklabels([\"No\", \"Yes\"], rotation=\"horizontal\")\n",
    "axes[1].set_ylabel(\"Mean value\")\n",
    "axes[1].set_title(\"Mean number of no-shows\")\n",
    "axes[1].grid()\n",
    "\n",
    "# Calculate mean value of no-shows for patients with and without hypertension\n",
    "print(\"Patients with hypertension no-shows mean: \")\n",
    "print(len(df.query('Hypertension == 1 & No_show == 1'))/len(df.query('Hypertension == 1')))\n",
    "print(\"Patients without hypertension no-shows mean: \")\n",
    "print(len(df.query('Hypertension == 0 & No_show == 1'))/len(df.query('Hypertension == 0')))"
   ]
  },
  {
   "cell_type": "markdown",
   "metadata": {},
   "source": [
    "Here we see that the fraction of patients with hypertension is higher than in the case of diabetes. However, the same phenomenon occurs: the mean value of no-shows is lower in the case of patients with the disease, but not significantly (around 3%).\n",
    "\n",
    "In the next step, we'll analyze the case of patients who suffer alcoholism."
   ]
  },
  {
   "cell_type": "code",
   "execution_count": 161,
   "metadata": {},
   "outputs": [
    {
     "name": "stdout",
     "output_type": "stream",
     "text": [
      "Patients with alcoholism no-shows mean: \n",
      "0.20148809523809524\n",
      "Patients without alcoholism no-shows mean: \n",
      "0.20192980655275708\n"
     ]
    },
    {
     "data": {
      "image/png": "[encoded data removed]",
      "text/plain": [
       "<Figure size 864x288 with 2 Axes>"
      ]
     },
     "metadata": {
      "needs_background": "light"
     },
     "output_type": "display_data"
    }
   ],
   "source": [
    "# Plot graphs corresponding to patients with alcoholism\n",
    "fig, axes = plt.subplots(nrows=1, ncols=2)\n",
    "plt.suptitle(\"Patients with alcoholism\", y=1.05);\n",
    "\n",
    "df.Alcoholism[attended].value_counts().plot(kind=\"bar\", ax=axes[0], color=\"b\", alpha=0.4);\n",
    "df.Alcoholism[no_show].value_counts().plot(kind=\"bar\", ax=axes[0], color=\"g\", alpha=0.4,  figsize=(12,4));\n",
    "axes[0].set_xticklabels([\"No\", \"Yes\"], rotation=\"horizontal\")\n",
    "axes[0].legend([\"Attended\" , \"No-show\"])\n",
    "axes[0].set_xlabel(\"Alcoholism\")\n",
    "axes[0].set_ylabel(\"Value counts\")\n",
    "axes[0].set_title(\"Attended and missed appointments\")\n",
    "axes[0].grid()\n",
    "\n",
    "df.groupby(\"Alcoholism\")[\"No_show\"].mean().plot(ax=axes[1], kind=\"bar\", color=\"b\", alpha=0.4,  figsize=(12,4));\n",
    "axes[1].set_xticklabels([\"No\", \"Yes\"], rotation=\"horizontal\")\n",
    "axes[1].set_ylabel(\"Mean value\")\n",
    "axes[1].set_title(\"Mean number of no-shows\")\n",
    "axes[1].grid()\n",
    "\n",
    "# Calculate mean value of no-shows for patients with and without alcoholism\n",
    "print(\"Patients with alcoholism no-shows mean: \")\n",
    "print(len(df.query('Alcoholism == 1 & No_show == 1'))/len(df.query('Alcoholism == 1')))\n",
    "print(\"Patients without alcoholism no-shows mean: \")\n",
    "print(len(df.query('Alcoholism == 0 & No_show == 1'))/len(df.query('Alcoholism == 0')))"
   ]
  },
  {
   "cell_type": "markdown",
   "metadata": {},
   "source": [
    "We can see that alcoholism is the least frequent of the three studied diseases. The average number of no-shows is practically the same for patients who suffer alcoholism and for those who don't.\n",
    "\n",
    "Finally, we'll study what happens in the case patients with disabilities."
   ]
  },
  {
   "cell_type": "code",
   "execution_count": 74,
   "metadata": {},
   "outputs": [
    {
     "data": {
      "image/png": "[encoded data removed]",
      "text/plain": [
       "<Figure size 720x360 with 1 Axes>"
      ]
     },
     "metadata": {
      "needs_background": "light"
     },
     "output_type": "display_data"
    }
   ],
   "source": [
    "# Plot graph for patients with disabilities\n",
    "df.groupby(\"Handicap\")[\"No_show\"].mean().plot(kind=\"bar\",  color=\"b\", alpha=0.4,  figsize=(10,5));\n",
    "\n",
    "plt.title(\"Mean number of no-shows by number of disabilities\")\n",
    "plt.xlabel(\"Number of disabilities\")\n",
    "plt.xticks(rotation='horizontal')\n",
    "plt.grid()"
   ]
  },
  {
   "cell_type": "markdown",
   "metadata": {},
   "source": [
    "Here we can observe that, on average, patients without disabilities miss more medical appointments than patients with a single disability, but present the same amount of no-shows as patients with 2 different impairments. \n",
    "In the case of patients with 3 disabilities onwards, the number of no-shows starts to be higher."
   ]
  },
  {
   "cell_type": "markdown",
   "metadata": {},
   "source": [
    "### Q3: Do people who receive help from the government tend to respect the appointments more?"
   ]
  },
  {
   "cell_type": "markdown",
   "metadata": {},
   "source": [
    "Let's now analyze what happens with patients who receive financial assistance from the government, the Bolsa Familia program.\n",
    "The graph below shows on the left the number of attended appointments and no-shows for those who receive the scholarship and those who don't. In the figure on the right we can see the mean value of no-shows for both cases."
   ]
  },
  {
   "cell_type": "code",
   "execution_count": 162,
   "metadata": {},
   "outputs": [
    {
     "name": "stdout",
     "output_type": "stream",
     "text": [
      "Mean value of no-shows for patients with scholarship: \n",
      "0.2373630420771568\n",
      "Mean value of no-shows for patients without scholarship:  \n",
      "0.19805338149709012\n"
     ]
    },
    {
     "data": {
      "image/png": "[encoded data removed]",
      "text/plain": [
       "<Figure size 864x288 with 2 Axes>"
      ]
     },
     "metadata": {
      "needs_background": "light"
     },
     "output_type": "display_data"
    }
   ],
   "source": [
    "# Plots for analysis based on scholarship status\n",
    "fig, axes = plt.subplots(nrows=1, ncols=2)\n",
    "plt.suptitle(\"Analysis based on scholarship status\", y=1.05);\n",
    "\n",
    "df.Scholarship[attended].value_counts().plot(kind=\"bar\", ax=axes[0], color=\"b\", alpha=0.4);\n",
    "df.Scholarship[no_show].value_counts().plot(kind=\"bar\", ax=axes[0], color=\"g\", alpha=0.4,  figsize=(12,4));\n",
    "axes[0].set_xticklabels([\"No\", \"Yes\"], rotation=\"horizontal\")\n",
    "axes[0].legend([\"Attended\" , \"No-show\"])\n",
    "axes[0].set_xlabel(\"Scholarship\")\n",
    "axes[0].set_ylabel(\"Value counts\")\n",
    "axes[0].set_title(\"Attended and missed appointments\")\n",
    "axes[0].grid()\n",
    "\n",
    "df.groupby(\"Scholarship\")[\"No_show\"].mean().plot(ax=axes[1], kind=\"bar\", color=\"b\", alpha=0.4,  figsize=(12,4));\n",
    "axes[1].set_xticklabels([\"No\", \"Yes\"], rotation=\"horizontal\")\n",
    "axes[1].set_ylabel(\"Mean value\")\n",
    "axes[1].set_title(\"Mean number of no-shows by scholarship status\")\n",
    "axes[1].grid()\n",
    "\n",
    "# Calculate mean value of no-shows for patients with or without scholarship\n",
    "print(\"Mean value of no-shows for patients with scholarship: \")\n",
    "print(len(df.query('Scholarship == 1 & No_show == 1'))/len(df.query('Scholarship == 1')))\n",
    "print(\"Mean value of no-shows for patients without scholarship:  \")\n",
    "print(len(df.query('Scholarship == 0 & No_show == 1'))/len(df.query('Scholarship == 0')))"
   ]
  },
  {
   "cell_type": "markdown",
   "metadata": {},
   "source": [
    "We can observe that only a small part of the patients receives financial assistance from the Bolsa Familia program. These patients tend to miss more medical appointments (about 4%) than those who don't receive government assistance."
   ]
  },
  {
   "cell_type": "markdown",
   "metadata": {},
   "source": [
    "### Q4: Do people who receive an SMS reminder tend to miss less appointments?"
   ]
  },
  {
   "cell_type": "markdown",
   "metadata": {},
   "source": [
    "Finally, we want to take a look at the situation of patients who received an SMS reminder prior to the appointment.\n",
    "\n",
    "We'll plot below the number of attended and missed appointments distinguishing between those who received the SMS and those who did not. We'll also calculate the mean value of no-shows in both cases."
   ]
  },
  {
   "cell_type": "code",
   "execution_count": 163,
   "metadata": {},
   "outputs": [
    {
     "name": "stdout",
     "output_type": "stream",
     "text": [
      "Mean value of no-shows for patients who received SMS: \n",
      "0.27575322003325725\n",
      "Mean value of no-shows for patients who didn't receive SMS: \n",
      "0.1670042643923241\n"
     ]
    },
    {
     "data": {
      "image/png": "[encoded data removed]",
      "text/plain": [
       "<Figure size 864x288 with 2 Axes>"
      ]
     },
     "metadata": {
      "needs_background": "light"
     },
     "output_type": "display_data"
    }
   ],
   "source": [
    "# Plots for analysis based on SMS reception\n",
    "fig, axes = plt.subplots(nrows=1, ncols=2)\n",
    "plt.suptitle(\"Analysis based on SMS reception\", y=1.05);\n",
    "\n",
    "df.SMS_received[attended].value_counts().plot(kind=\"bar\", ax=axes[0], color=\"b\", alpha=0.4);\n",
    "df.SMS_received[no_show].value_counts().plot(kind=\"bar\", ax=axes[0], color=\"g\", alpha=0.4,  figsize=(12,4));\n",
    "axes[0].set_xticklabels([\"No\", \"Yes\"], rotation=\"horizontal\")\n",
    "axes[0].legend([\"Attended\" , \"No-show\"])\n",
    "axes[0].set_xlabel(\"SMS reception\")\n",
    "axes[0].set_ylabel(\"Value counts\")\n",
    "axes[0].set_title(\"Attended and missed appointments\")\n",
    "axes[0].grid()\n",
    "\n",
    "df.groupby(\"SMS_received\")[\"No_show\"].mean().plot(ax=axes[1], kind=\"bar\", color=\"b\", alpha=0.4,  figsize=(12,4));\n",
    "axes[1].set_xticklabels([\"No\", \"Yes\"], rotation=\"horizontal\")\n",
    "axes[1].set_ylabel(\"Mean value\")\n",
    "axes[1].set_title(\"Mean number of no-shows by SMS reception\")\n",
    "axes[1].grid()\n",
    "\n",
    "# Calculate mean value of no-shows for patients with and without SMS reminder\n",
    "print(\"Mean value of no-shows for patients who received SMS: \")\n",
    "print(len(df.query('SMS_received == 1 & No_show == 1'))/len(df.query('SMS_received == 1')))\n",
    "print(\"Mean value of no-shows for patients who didn't receive SMS: \")\n",
    "print(len(df.query('SMS_received == 0 & No_show == 1'))/len(df.query('SMS_received == 0')))"
   ]
  },
  {
   "cell_type": "markdown",
   "metadata": {},
   "source": [
    "Contrary to what can be expected, it can be seen that people who receive the SMS reminder beforehand tend to miss the appointment more (around 9% on average) than those who do not receive it."
   ]
  },
  {
   "cell_type": "markdown",
   "metadata": {},
   "source": [
    "<a id='conclusions'></a>\n",
    "## Conclusions\n",
    "\n",
    "In this report we presented the results of analyzing the medical appointments dataset of Brazil in 2016. First, a preliminary statistical analysis of the variables present in the dataset was performed in order to carry out the data wrangling and cleaning for the subsequent exploratory analysis. \n",
    "\n",
    "The conclusions obtained after studying the dataset to answer the questions initially posed are presented in the following.\n",
    "\n",
    "- Although the average number of no-shows observed is slightly higher in the case of women, a significant difference in the number of missed appointments according to the patient's gender could not be found.\n",
    "- There was also no great difference observed between the average age of patients who attend their appointments and those who do not, the former being 37 years old and the latter 34 years old. By making a distinction according to gender, it was observed that women between 20 and 40 years of age to miss more medical appointments than those in other age ranges, while in the case of men this happens in the first years of life (0-20).\n",
    "- When studying patients who suffer from pre-existing diseases (diabetes, hypertension and alcoholism), it was noted that in general they tend to miss fewer appointments than patients without the diseases, except in the case of alcoholism, where the average value of no-shows observed was practically the same for patients with and without the disease. \n",
    "- In the case of patients with disabilities, it was observed that those with a single impairment missed fewer appointments on average, also in comparison to patients without disabilities. An increase in the number of no-shows is observed as the number of disabilities a patient suffers increases. \n",
    "- Contrary to what might be expected, it was observed that people who receive government assistance from the Bolsa Familia program attend their medical appointments on average 4% less than those patients who don't receive the scholarship.\n",
    "- Finally, it was observed that those patients who receive an SMS reminder prior to their medical appointments tend to miss them 9% more on average than those who don't receive the reminder.\n",
    "\n",
    "As a final comment, the completion of this project helped to consolidate the concepts learned about the data analysis process, applied to a real case study.\n",
    "\n",
    "\n",
    "\n",
    "## Submitting your Project \n",
    "\n",
    "> Before you submit your project, you need to create a .html or .pdf version of this notebook in the workspace here. To do that, run the code cell below. If it worked correctly, you should get a return code of 0, and you should see the generated .html file in the workspace directory (click on the orange Jupyter icon in the upper left).\n",
    "\n",
    "> Alternatively, you can download this report as .html via the **File** > **Download as** submenu, and then manually upload it into the workspace directory by clicking on the orange Jupyter icon in the upper left, then using the Upload button.\n",
    "\n",
    "> Once you've done this, you can submit your project by clicking on the \"Submit Project\" button in the lower right here. This will create and submit a zip file with this .ipynb doc and the .html or .pdf version you created. Congratulations!\n",
    "\n",
    "## Bibliography\n",
    "\n",
    "[1] https://www.kaggle.com/joniarroba/noshowappointments\n",
    "\n",
    "[2] https://en.wikipedia.org/wiki/Bolsa_Fam%C3%ADlia\n",
    "\n",
    "[3] https://www.kaggle.com/joniarroba/noshowappointments/discussion/29699#229356\n",
    "\n",
    "[4] https://matplotlib.org/\n",
    "\n",
    "[5] https://pandas.pydata.org/"
   ]
  },
  {
   "cell_type": "code",
   "execution_count": null,
   "metadata": {
    "collapsed": true
   },
   "outputs": [],
   "source": [
    "from subprocess import call\n",
    "call(['python', '-m', 'nbconvert', 'Investigate_a_Dataset.ipynb'])"
   ]
  }
 ],
 "metadata": {
  "kernelspec": {
   "display_name": "Python 3",
   "language": "python",
   "name": "python3"
  },
  "language_info": {
   "codemirror_mode": {
    "name": "ipython",
    "version": 3
   },
   "file_extension": ".py",
   "mimetype": "text/x-python",
   "name": "python",
   "nbconvert_exporter": "python",
   "pygments_lexer": "ipython3",
   "version": "3.8.8"
  }
 },
 "nbformat": 4,
 "nbformat_minor": 2
}
